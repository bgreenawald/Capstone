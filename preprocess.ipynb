{
 "cells": [
  {
   "cell_type": "code",
   "execution_count": 41,
   "metadata": {
    "collapsed": true
   },
   "outputs": [],
   "source": [
    "base_path = \"home/benji/Capstone Project/\"\n",
    "import re\n",
    "import os"
   ]
  },
  {
   "cell_type": "markdown",
   "metadata": {},
   "source": [
    "## PDF Fix"
   ]
  },
  {
   "cell_type": "code",
   "execution_count": 55,
   "metadata": {},
   "outputs": [],
   "source": [
    "# Fix the PDF order\n",
    "\n",
    "# First do ISIS\n",
    "\n",
    "isis_path = \"/home/benji/Capstone Project/Data Clean/Violent/ISIS/\"\n",
    "\n",
    "for filename in os.listdir(isis_path):\n",
    "    new_sentences = []\n",
    "    with open(isis_path + filename, \"r\", encoding = \"utf-8\") as file:\n",
    "        for line in file:\n",
    "            new_sentences.append(line[::-1])\n",
    "        file.close()\n",
    "    with open(isis_path + filename, \"w\", encoding = \"utf-8\") as file2:\n",
    "        file2.write(\"\\n\".join(new_sentences))\n",
    "        file2.close()"
   ]
  },
  {
   "cell_type": "code",
   "execution_count": 56,
   "metadata": {
    "collapsed": true
   },
   "outputs": [],
   "source": [
    "# Fix the PDF order\n",
    "\n",
    "# First do ISIS\n",
    "\n",
    "isis_path = \"/home/benji/Capstone Project/Data Clean/Violent/Ansar Al Sharia/\"\n",
    "\n",
    "for filename in os.listdir(isis_path):\n",
    "    new_sentences = []\n",
    "    with open(isis_path + filename, \"r\", encoding = \"utf-8\") as file:\n",
    "        for line in file:\n",
    "            new_sentences.append(line[::-1])\n",
    "        file.close()\n",
    "    with open(isis_path + filename, \"w\", encoding = \"utf-8\") as file2:\n",
    "        file2.write(\"\\n\".join(new_sentences))\n",
    "        file2.close()"
   ]
  },
  {
   "cell_type": "markdown",
   "metadata": {},
   "source": [
    "## Use a regular expression to preprocess all of the data"
   ]
  },
  {
   "cell_type": "code",
   "execution_count": 60,
   "metadata": {},
   "outputs": [
    {
     "name": "stdout",
     "output_type": "stream",
     "text": [
      "          l                                              ()      \f",
      "\f",
      "                     - -                                                                                                                                     -  -                                                                                                                                         – -                                                                                                                                                                                                                                                                                                                                            –  -                                                                                                                                                (/  )                                                                 -           (/ )                                                                                                 –        (/ )                                                                            (/ )                                    (/  )                            \f",
      "    | //                 KKP –        KKP  (/ )                                            KKP                        KKP                                          KKP                      KKP                      KKP                    –                                                                  –          (/  )                                                                                        (/  )                                                                                                                                                                  PMB                                       (     )                                           KKP    -GPS                                                                      T                                                                                                                                                                                         (/ )                        (/ )                                           \f",
      "    | //                     (  )       « »                                                (/ )                                                                                                                 ()                                    (            )                      – -                                                        ()        ( )                                                               (          )                     –   -                                       ()                                                                                                                        (     ) -  -       (/ )                              -       (/ )                 ()                                         ( – )                                         (/ )                                                                                                                                                      (/ )                          \f",
      "    | //                                                                                                                                                                           (/ )       –         (/ )                                                 – -      ( )                                                                        – -                                             ()                                       -  -                                                             (/  )                                                                                                            (-GPS     )                                               -          (/  )                                         ( )                                                       M                               -    -                                                                                                                                                       M                              ( )\f",
      "    | //                                                                                                        – -                (/  )                                    ( ) –            (/ )                                                            -    -                                                                                           (/ )                                                                                                                                                                -            (/ )                             (      )                                               ( )                                                                                                                                                                            (                        )                              -           (/  )                                                                                         -GPS                                                                             –                 (/  )                                                                    \f",
      "    | //                                                                         »                                                                  »                                                                                  ()                                                              KKP                                                                                      :                                                                                      :  «                                                                         (   )   »            :  «                                                                                                                                                                                                                        ()                                                       ()                              (/  )                                                            : «                                         – -                                                                                   : «                               :             \f",
      "    | //                                                     (/ )                            ()                                                   – -                                                                                               (    )                                                       -  -                                                                                                       –   -                        - -           ()         (/ )                                                                                                                                                                                                                                                                                                                                                                                             KKP           :   «                                       »:  «                                        KKP                                           KKP     «  »           »   (): «                                                         KKP   »        –  –                                                                                                »                    : «                                          »                                                                                                    : «                                                                                                »                        ()                      KKP                                   :           :           KKP\f",
      "    | //                                     ( )         -GPR                                                                          « »                                                                                            –                (/ )                                                                    (/ )       KKP                                                                                                                             –                         (/ )                             (/ )        –                                                                     (/  )                                                                                   «  »                               « »             -                        (/     )                                                                                                                \f",
      "    | //                                                                                                -GPS                                 –           (/ )                                              ( – )                                       –        (/ )                               – -                                    PMB                                          -GPS                                      ( ):                                                «»                                    :              « »                                 «  »                                       «    »                    (   )              « » !                                                                                                                  (   )                     (        )                 «    »      «»                             ( ):    \f",
      "    | // ) [ ]      :       : (         :      ) [ ]      : ( :              ) [ ]      :       : (          :   ) [ ]       :       : (            - -    ) [ ]     -  - :     -   - : (        )    :     : (           ) [ ]    -   -                  : (       ) :       : (             :           )  :  (                             ) [ ]   :       : (                 ) [ ]   :       : ( :    :                       ) [ ]◄  (     )      :        : (      ) :     : (:      ) [ ]          : (    :                                   :            ) [ ]    (*)                  } [ : -]» [ ]          : {            } [  :]       ◄                                      :        : ( :        ) [ ]             : ( :                                                        ) [ ]    -  -   -   - : ( :                           ) [ ]◄             : (          ) [ ]   :       : (            ) [ ]      :       :  (      :                                         ) : (                              ) [ ]◄              : (                   ) [ ]   :       : (                                                                                       :      : (          ) [ ]                      : {  } [ : ]    :  {                                }  [  :  ]      : {    }  [  :  ]    : {    } [ : ]  : {           } [ : ]  : {        (*)     } [ : -]                           : {          ()             -   -     –  - (    ) [ ]   } [  : -]◄                                           : {  } [ : ]      :      : (  :                         ) [ ]    :       : ( ) :      : (   ) [ ]       :              : (      ) [    ]    :  «        -  -                   : {        (*)     \f",
      "    | // (       )                         {     }                                    «    »   «      »                                                                      -   - : (         :                   :       :     ( ):                            ) []            !            - -                                                                                                        ) [         ]              : «                                         » [   « »]                              «»                     : «                        »  [ ]       : «                                                     » [   ]   : «     » [   ]    : «    »  : «    !                 » [   ]       : «                                                    » [   ]                                                    : «                         : (       )  :   : (     ) :   :  (        )  :   : (     ) :     : (       )   : (                )   : (          )                                              ()                                                  -  -                       »                   :   -  - :      -   - : (    )   :  :                   : ( ) [  ]    : (                       }              :                     {                          }    {         }            {   }  {             }  {           }     {           }       - - : {       } : {       } : {                                                                                                                                                                        -      -             !                                                   \f",
      "    | //     ()                                   «»                «»                            «»                   «»                    «»                      «»                         «»       «»                     «»                               «»                      «»                                      «»                                                              : (                    ) [  ]                                 «»                                                          «»                                                                                                                                                                                       »»                                                                       «»           )                     «»              «»                               {       }  (                  «»                                                                                               -  -                   - -  «»              «»                                «»                                  - -  «»                                           «»                                                         «       »                               «»            «»                                                                                      «»                     «»          «»      «»                                                  \f",
      "    | //                                                                          :         : {            }  [    :  ]       :                                               {         (*)    } [ : -]:                                                                       : {       } [ :  ]    :  {           } [ : ]                ::                     :                                                   - -                                                                                                                                        :                                                                                                                     :  {                                        (*)            } [ : -]                                 -   - : (                ) [ ]    -   -   \f",
      "\f",
      "    | // \n"
     ]
    }
   ],
   "source": [
    "arabic_pattern = re.compile(\"[\\u0600-\\u06FF\\.\\d+\\n]\", re.UNICODE)\n",
    "num_pattern = re.compile(\"[\\d+]\")\n",
    "\n",
    "with open(\"/home/benji/Capstone Project/Data Clean/Violent/ISIS/ISIS-g-55.txt\", \"r\", encoding = \"utf-8\") as file:\n",
    "    text = file.read()\n",
    "    arabic = arabic_pattern.sub(\"\", text)\n",
    "    arabic_withnum = num_pattern.sub(\"NUM \", arabic)\n",
    "    print(arabic_withnum)"
   ]
  },
  {
   "cell_type": "markdown",
   "metadata": {},
   "source": [
    "## Consolidate the forum data"
   ]
  },
  {
   "cell_type": "code",
   "execution_count": 15,
   "metadata": {},
   "outputs": [
    {
     "name": "stdout",
     "output_type": "stream",
     "text": [
      "10000\n",
      "20000\n",
      "30000\n",
      "40000\n",
      "50000\n",
      "60000\n",
      "70000\n",
      "80000\n",
      "90000\n",
      "100000\n",
      "110000\n",
      "120000\n",
      "130000\n",
      "140000\n",
      "150000\n",
      "160000\n",
      "170000\n",
      "180000\n",
      "190000\n",
      "200000\n",
      "210000\n",
      "220000\n",
      "230000\n",
      "240000\n",
      "250000\n",
      "260000\n",
      "270000\n",
      "280000\n",
      "290000\n",
      "300000\n"
     ]
    }
   ],
   "source": [
    "index = 0\n",
    "threads = {}\n",
    "\n",
    "with open(\"Alboraq.txt\", \"r\", encoding = \"utf-8\") as file:\n",
    "    \n",
    "    for line in file:\n",
    "        \n",
    "        # If index is 0, skip (remove header)\n",
    "        if index == 0:\n",
    "            index += 1\n",
    "            continue\n",
    "        \n",
    "        try:\n",
    "            text = line.split(\"\\t\")\n",
    "\n",
    "            # Extract relevant info\n",
    "            message = text[5]\n",
    "            thread_id = text[1]\n",
    "\n",
    "            if thread_id in threads.keys():\n",
    "                threads[thread_id] += message + '\\n'\n",
    "            else:\n",
    "                threads[thread_id] = message\n",
    "            index += 1\n",
    "            if index % 10000 == 0:\n",
    "                print(index)\n",
    "        except (ValueError, IndexError):\n",
    "            index += 1\n",
    "            if index % 10000 == 0:\n",
    "                print(index)\n",
    "    \n",
    "for i in threads:\n",
    "    if len(threads[i].split(\" \")) < 1000:\n",
    "        continue \n",
    "    with open(\"/home/benji/Capstone Project/Data Clean/Violent/Al Boraq/\" + \"{0}.txt\".format(i), \"w+\", encoding = \"utf-8\") as file2:\n",
    "        file2.write(threads[i])"
   ]
  },
  {
   "cell_type": "markdown",
   "metadata": {},
   "source": [
    "## Rename all of the files according to their group"
   ]
  },
  {
   "cell_type": "code",
   "execution_count": 48,
   "metadata": {},
   "outputs": [],
   "source": [
    "violent_dir = \"/home/benji/Capstone Project/Data Clean/Violent/\"\n",
    "\n",
    "for group_name in os.listdir(violent_dir):\n",
    "    for filename in os.listdir(violent_dir + group_name):\n",
    "        newfile = group_name + \"-g-\" + filename\n",
    "        os.rename(violent_dir + group_name + \"/\" + filename, violent_dir + group_name + \"/\" + newfile)"
   ]
  },
  {
   "cell_type": "code",
   "execution_count": 50,
   "metadata": {},
   "outputs": [],
   "source": [
    "violent_dir = \"/home/benji/Capstone Project/Data Clean/Non-Violent/\"\n",
    "\n",
    "for group_name in os.listdir(violent_dir):\n",
    "    for filename in os.listdir(violent_dir + group_name):\n",
    "        newfile = group_name + \"-g-\" + filename\n",
    "        os.rename(violent_dir + group_name + \"/\" + filename, violent_dir + group_name + \"/\" + newfile)"
   ]
  }
 ],
 "metadata": {
  "kernelspec": {
   "display_name": "Python 3",
   "language": "python",
   "name": "python3"
  },
  "language_info": {
   "codemirror_mode": {
    "name": "ipython",
    "version": 3
   },
   "file_extension": ".py",
   "mimetype": "text/x-python",
   "name": "python",
   "nbconvert_exporter": "python",
   "pygments_lexer": "ipython3",
   "version": "3.6.1"
  }
 },
 "nbformat": 4,
 "nbformat_minor": 2
}
