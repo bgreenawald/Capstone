{
 "cells": [
  {
   "cell_type": "code",
   "execution_count": 2,
   "metadata": {},
   "outputs": [],
   "source": [
    "import re\n",
    "import sys\n",
    "import shutil as sh\n",
    "import os"
   ]
  },
  {
   "cell_type": "code",
   "execution_count": 4,
   "metadata": {},
   "outputs": [],
   "source": [
    "# Replace all numbers with \"NUM\" special character\n",
    "num_dec = re.compile(\"[\\d]+\\.[\\d]+\")\n",
    "num_comma = re.compile(\"[\\d]+,[\\d]+\")\n",
    "num_reg = re.compile(\"[\\d]+\")\n",
    "\n",
    "# Detect non-English characters\n",
    "non_eng = re.compile(\"[^a-zA-Z\\n ]\")\n",
    "\n",
    "path = \"C:/Users/bgree/Documents/capstone/Eng/eng\"\n",
    "path2 = \"C:/Users/bgree/Documents/capstone/Eng/eng_clean\"\n",
    "for filename in os.listdir(path):\n",
    "    with open(os.path.join(path,filename), \"r\", encoding=\"iso-8859-15\") as file:\n",
    "        try:\n",
    "            text = file.read()\n",
    "        except UnicodeDecodeError:\n",
    "            print(filename)\n",
    "        # Replace various forms of numbers with NUM character\n",
    "        text = num_dec.sub(\"NUM\", text)\n",
    "        text = num_comma.sub(\"NUM\", text)\n",
    "        text = num_reg.sub(\"NUM\", text)\n",
    "        \n",
    "        # Replace all non-English characters with a space\n",
    "        text = non_eng.sub(\" \", text)\n",
    "        \n",
    "        # Replace double spaces with a single space\n",
    "        text = text.replace(\"  \", \" \")\n",
    "        \n",
    "        with open(os.path.join(path2, filename), \"w+\") as file2:\n",
    "            file2.write(text)\n",
    "            file2.close()\n",
    "        file.close()"
   ]
  }
 ],
 "metadata": {
  "kernelspec": {
   "display_name": "Python 3",
   "language": "python",
   "name": "python3"
  },
  "language_info": {
   "codemirror_mode": {
    "name": "ipython",
    "version": 3
   },
   "file_extension": ".py",
   "mimetype": "text/x-python",
   "name": "python",
   "nbconvert_exporter": "python",
   "pygments_lexer": "ipython3",
   "version": "3.6.3"
  },
  "varInspector": {
   "cols": {
    "lenName": 16,
    "lenType": 16,
    "lenVar": 40
   },
   "kernels_config": {
    "python": {
     "delete_cmd_postfix": "",
     "delete_cmd_prefix": "del ",
     "library": "var_list.py",
     "varRefreshCmd": "print(var_dic_list())"
    },
    "r": {
     "delete_cmd_postfix": ") ",
     "delete_cmd_prefix": "rm(",
     "library": "var_list.r",
     "varRefreshCmd": "cat(var_dic_list()) "
    }
   },
   "types_to_exclude": [
    "module",
    "function",
    "builtin_function_or_method",
    "instance",
    "_Feature"
   ],
   "window_display": false
  }
 },
 "nbformat": 4,
 "nbformat_minor": 2
}
