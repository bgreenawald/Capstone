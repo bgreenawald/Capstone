{
 "cells": [
  {
   "cell_type": "code",
   "execution_count": 1,
   "metadata": {
    "collapsed": true
   },
   "outputs": [],
   "source": [
    "import newspaper\n",
    "\n",
    "# First test the newspaper package on an Arabic news site\n",
    "alarabiya = newspaper.build(\"https://www.alarabiya.net/views.html\", language = \"ar\")"
   ]
  },
  {
   "cell_type": "code",
   "execution_count": 2,
   "metadata": {},
   "outputs": [
    {
     "name": "stdout",
     "output_type": "stream",
     "text": [
      "http://urdu.alarabiya.net\n",
      "https://www.alarabiya.net/views.html\n",
      "http://english.alarabiya.net\n",
      "https://www.alarabiya.net/views.html\n",
      "https://www.alarabiya.net/aswaq.html\n",
      "https://www.alarabiya.net/programs.html\n",
      "https://urdu.alarabiya.net\n",
      "http://farsi.alarabiya.net\n",
      "https://english.alarabiya.net\n",
      "https://www.alarabiya.net/ana-ara.html\n",
      "https://farsi.alarabiya.net\n",
      "https://www.alarabiya.net/sport.html\n",
      "https://www.alarabiya.net\n",
      "https://www.alarabiya.net/variety.html\n"
     ]
    }
   ],
   "source": [
    "for category in alarabiya.category_urls():\n",
    "    print(category)"
   ]
  },
  {
   "cell_type": "code",
   "execution_count": 12,
   "metadata": {
    "collapsed": true
   },
   "outputs": [],
   "source": [
    "# Next try it on an extremist website\n",
    "eab = newspaper.build(\"https://www.alqassam.net/arabic/\", language = \"ar\")"
   ]
  },
  {
   "cell_type": "code",
   "execution_count": 8,
   "metadata": {},
   "outputs": [
    {
     "name": "stdout",
     "output_type": "stream",
     "text": [
      "https://www.alqassam.net/arabic/\n"
     ]
    }
   ],
   "source": [
    "for category in eab.category_urls():\n",
    "    print(category)"
   ]
  },
  {
   "cell_type": "code",
   "execution_count": 15,
   "metadata": {},
   "outputs": [
    {
     "data": {
      "text/plain": [
       "[]"
      ]
     },
     "execution_count": 15,
     "metadata": {},
     "output_type": "execute_result"
    }
   ],
   "source": [
    "for article in eab.articles:\n",
    "    print(article.url)\n",
    "    \n",
    "eab.articles"
   ]
  },
  {
   "cell_type": "markdown",
   "metadata": {},
   "source": [
    "As seen above, the *newspaper* package does not seem to pick up on the different pages on a non-news website. Next we will attemp to achieve a better result using the *scrapy* package."
   ]
  },
  {
   "cell_type": "code",
   "execution_count": null,
   "metadata": {
    "collapsed": true
   },
   "outputs": [],
   "source": [
    "import scrapy\n",
    "from subprocess import call\n",
    "\n",
    "class BlogSpider(scrapy.Spider):\n",
    "    name = 'blogspider'\n",
    "    start_urls = [\"https://www.alqassam.net/arabic/%D8%B4%D9%87%D8%AF%D8%A7%D8%A1-%D8%A7%D9%84%D9%82%D8%B3%D8%A7%D9%85\"]\n",
    "\n",
    "    def parse(self, response):\n",
    "        for title in response.css('h2.entry-title'):\n",
    "            yield {'title': title.css('a ::text').extract_first()}\n",
    "\n",
    "        for next_page in response.css('div.prev-post > a'):\n",
    "            yield response.follow(next_page, self.parse)\n",
    "\n",
    "call(\"\")"
   ]
  }
 ],
 "metadata": {
  "kernelspec": {
   "display_name": "Python 3",
   "language": "python",
   "name": "python3"
  },
  "language_info": {
   "codemirror_mode": {
    "name": "ipython",
    "version": 3
   },
   "file_extension": ".py",
   "mimetype": "text/x-python",
   "name": "python",
   "nbconvert_exporter": "python",
   "pygments_lexer": "ipython3",
   "version": "3.6.1"
  }
 },
 "nbformat": 4,
 "nbformat_minor": 2
}
