{
 "cells": [
  {
   "cell_type": "markdown",
   "metadata": {},
   "source": [
    "# Webscrapper \n",
    "\n",
    "This file contains the necesarry functions to webscrape our corpus from various different sites."
   ]
  },
  {
   "cell_type": "code",
   "execution_count": 3,
   "metadata": {},
   "outputs": [],
   "source": [
    "from bs4 import BeautifulSoup as bs\n",
    "# from newspaper import Config, Article, Source\n",
    "# import newspaper as np\n",
    "import pandas as pd\n",
    "import urllib as url\n",
    "import requests\n",
    "# import cfscrape\n",
    "import re\n",
    "import time\n",
    "# import progressbar\n",
    "\n",
    "base_url = \"home/benji/Capstone Project/Data\""
   ]
  },
  {
   "cell_type": "markdown",
   "metadata": {},
   "source": [
    "# Violent Groups"
   ]
  },
  {
   "cell_type": "markdown",
   "metadata": {},
   "source": [
    "## Hamas Martyr \n",
    "\n",
    "Download Martyr files from a Hamas source"
   ]
  },
  {
   "cell_type": "code",
   "execution_count": 6,
   "metadata": {},
   "outputs": [
    {
     "name": "stderr",
     "output_type": "stream",
     "text": [
      "100% (2326 of 2326) |#####################| Elapsed Time: 0:39:09 Time: 0:39:09\n"
     ]
    }
   ],
   "source": [
    "# Deal with DDOS protection\n",
    "scraper = cfscrape.create_scraper()\n",
    "\n",
    "# Regex to extract dates from text\n",
    "regex = re.compile(\"\\d+-\\d+-\\d+\")\n",
    "\n",
    "# Create a progress bar\n",
    "bar = progressbar.ProgressBar()\n",
    "\n",
    "for i in bar(range(1, 2327)):\n",
    "    r = scraper.get(\"https://www.alqassam.net/arabic/%D8%B4%D9%87%D8%AF%D8%A7%D8%A1-%D8%A7%D9%84%D9%82%D8%B3%D8%A7%D9%85/{0}/%D8%B3%D8%B9%D9%8A%D8%AF-%D8%B9%D9%88%D9%86%D9%8A-%D8%AC%D9%88%D8%AF%D8%A9-%D9%85%D8%B9%D8%B1%D9%88%D9%81\".format(i))\n",
    "    soup = bs(r.content, \"lxml\")\n",
    "    text = soup.text\n",
    "    \n",
    "    # Extract out the relevant text\n",
    "    start_index = text.index(\"سيرة الشهيد\")\n",
    "    end_index = text.index(\"footer_contact\")\n",
    "    relevant_text = text[start_index:end_index]\n",
    "    \n",
    "    # Find all dates and use the last one as the date for the profile\n",
    "    res = regex.findall(text)\n",
    "    with open(base_url + \"Violent\\\\Hamas\\\\{0}d{1}.txt\".format(i, res[-1]), \"w\", encoding = \"utf-8\") as file:\n",
    "        file.write(relevant_text[:-18])\n",
    "        file.close()"
   ]
  },
  {
   "cell_type": "markdown",
   "metadata": {},
   "source": [
    "## Hezbollah"
   ]
  },
  {
   "cell_type": "code",
   "execution_count": 21,
   "metadata": {},
   "outputs": [
    {
     "data": {
      "text/plain": [
       "'مواقف وتصريحات لقاءات وزيارات\\nالنشاط النيابي نشاط النواب دورات نيابية \\n\\nالقادة الحاج عماد مغنية الشيخ راغب حرب\\nالسيد عباس الموسوي سيرة خطــابات\\nالإمام موسى الصدر تفسير القرآن محاضرات لقاءات صحفية خطابات  الكلمات القصار الإمام الخامنئي (دام ظله) الإمام الخميني (قده)\\n\\n \\n\\n\\n\\n\\n\\nمواقف وتصريحات\\n\\n\\n\\n\\nحزب الله: لحكومة وحدة ورئيس توافقي والا سنذهب الى علامة استفهام كبرى بعد 25 أيلول\\n\\n\\n\\r\\nوطنية 28/7/2007 \\r\\n\\n\\r\\nقال معاون رئيس المجلس التنفيذي في حزب الله الحاج محمد ياغي، في كلمة ألقاها في احتفال في بلدة نحلة البقاعية لمناسبة ذكرى ولادة الامام علي بن أبي طالب (ع)، ان \"نظرية التفوق التي تباهى بها العدو لمدة طويلة، تحطمت وانتهت امام صمود المجاهدين. وبات هذا العدو على مشارف السقوط بعد ان اهتزت ثقة الكيان الصهيوني بجيشه الذي لا يقهر، وبعد زلزال ضرب المؤسسة العسكرية الصهيونية كان من ارتدادته تهاوي القيادات العسكرية، فمنها من استقال ومنها من سيقال في شهر تشرين المقبل، بعد تقرير لجنة فينوغراد القضائية الصهيونية التي شكلت لبحث اسباب اخفاقات الجيش الصهيوني في حرب تموز 2006، وهي اللجنة القضائية الاولى من هذا النوع في تاريخ الكيان الصهيوني\". وفي ختام الاحتفال وزعت جوائز وشهادات تقدير للطلبة الناجحين في امتحانات الشهادة المتوسطة. \\r\\n\\n\\r\\nبعلبك \\r\\n\\n\\r\\nوفي احتفال أقامه الحزب في مسجد رأس الامام الحسين (ع) في بعلبك، اعتبر عضو كتلة الوفاء للمقاومة النائب الدكتور جمال الطقش \"أن عملية استئثار بعض اللبنانيين، تنطلق من الغرف السوداء للسفارة الاميركية، ولذا وصل الأمر بهؤلاء الى الاستئثار والشخصنة في الحكم والتفرد في السلطة. ووصل هذا الاستئثار الى حد مد مناطق بالكهرباء وحجبها عن مناطق أخرى، وعدم التوازن في الانماء\". وقال ان الحكومة \"لم تقم بأي إجراء حيال ملف الأضرار في بلعبك، والذي يضم 500 متضرر معظمهم لا يستطيع أن يرمم ما تهدم لديه، ولم نر هناك أي تحرك حكومي لما جرى من تدمير لبنى تحتية ولا سيما الطرقات، وكل المجالات الأخرى\". \\r\\n\\n\\r\\nوحذر انه \"في حال قامت الحكومة الحالية، وبعنوان سياسة الاستئثار، وصولا لانتخاب رئيس بالنصف زائد واحد، فسيكون لنا موقف بمستوى الحدث، وليس من موقع الضعف، وان كنا لا نزال نصبر\". واختم الاحتفال بمولد وتهان وتواشيح وأناشيد من وحي المناسبة للشيخ أبو الحواتم. \\r\\n\\n\\r\\nالعين \\r\\n\\n\\r\\nوفي حفل افتتاح مستوصف صحي لمديرية البقاع للهيئة الصحية الاسلامية، في بلدة العين، تحدث عضو كتلة الوفاء للمقاومة النائب نواب الساحلي، فاعتبر \"ان مفتاح الأزمة اللبنانية، هو حكومة تشمل جميع القوى الممثلة في المجلس النيابي كي تستطيع المشاركة، وهذا بداية لحل الأزمة والتمهيد لانتخابات رئاسة الجمهورية توافقيا، وإلا سيكون فريق السلطة هو من رفض الحل، ويقوم بأعمال تضر بالقانون، وبالتالي سنذهب بعد 25 أيلول نحو علامة استفهام كبرى، ويتحمل الفريق المغتصب للسلطة كامل المسؤولية\". \\r\\n\\n\\r\\nأضاف: \"اذا كان هذا الفريق يريد فعلا ما يدعيه أمام الناس وفي الصحف انه مع الحوار، فعليه أن يقبل بحكومة انقاذ ومشاركة واتحاد وطني، ولو بقي من الوقت يوما واحدا\". وانتقد \"أداء الحكومة غير الشرعية وغير الدستورية، خلال العدوان وبعده\"، متسائلا عن تعويضات المتضررين \"بعد مرور عام على العدوان، وحتى اليوم لم يدفع إلا النزر اليسير\". \\r\\n\\n\\r\\nوتخلل حفل افتتاح المستوصف كلمة لمدير مديرية البقاع للهيئة الصحية الاسلامية علي شاهين أعلن فيها أنه \"سيتم خلال أيام النصر الالهي، افتتاح عدد من المستوصفات في بلدتي يونين وبوداي\". وفي الختام قص النائب الساحلي شريط الافتتاح، وجال مع الحضور على أقسام المستوصف. \\r\\n\\n\\n\\n\\n\\n\\n27-تشرين الأول-2007\\n\\n\\n\\n\\n\\n\\n\\n\\n\\n        شهيد اليوم \\n\\n\\n\\n\\n\\nالشهيد يونس مهدي الحسيني\\n\\n\\n\\n\\n\\n\\nحصل في مثل هذا الشهر\\n\\n\\n\\n\\nعملية السرايا على موقع رشاف بتاريخ 13/10/1998\\n\\n\\n\\n\\n \\nجديد الموقع\\n\\n ألغام العدو الصهيوني وأجهزة تجسسه.. اعتداءات مستمرة على لبنان\\n جيش الاحتلال يدرب دلافين على مهمات عسكرية\\n عن \"سماحة العشق\".. والذين لم يروا من الشهادة \"إلا جميلاً\"\\n الخروقات الصهيونية للسيادة اللبنانية ليوم الاثنين 9 تشرين الأول/ أكتوبر 2017\\n \"هآرتس\": تراجع عربي عن مناهضة \"اسرائيل\" في اليونسكو\\n الزعطوط السبهان\\n\\n\\n\\n\\n\\n\\n\\n\\n\\n\\n\\n\\nكتاب مهندس المحبة\\n\\n\\n\\n\\n\\n\\n\\nالوثيقة السياسية لحزب الله\\n\\n\\n\\n\\n\\n\\n\\nمحطات من التاريخ\\n\\n\\n\\n\\n\\n\\n\\nمحطات - مقاومة واحتلال\\n\\n\\n\\n\\n\\n\\n\\n\\nكاريكاتير \\n\\n\\n\\n\\nالغرب وداعشبريشة ياسين الخليل\\n\\n\\n\\n\\n\\n\\n\\nاستبيان \\n\\n\\n                    '"
      ]
     },
     "execution_count": 21,
     "metadata": {},
     "output_type": "execute_result"
    }
   ],
   "source": [
    "l = requests.get(\"https://www.moqawama.org/essaydetails.php?eid=2300&cid=118\")\n",
    "l2 = bs(l.content, \"lxml\")\n",
    "text = l2.text\n",
    "t1 = text.index(\"مواقف وتصريحات\")\n",
    "t2 = text.index(\"Your browser\")\n",
    "text[t1:t2]"
   ]
  },
  {
   "cell_type": "code",
   "execution_count": 53,
   "metadata": {},
   "outputs": [
    {
     "name": "stderr",
     "output_type": "stream",
     "text": [
      "\r",
      "                                                                               \r",
      "\r",
      "N/A% (0 of 57) |                         | Elapsed Time: 0:00:00 ETA:  --:--:--"
     ]
    },
    {
     "name": "stdout",
     "output_type": "stream",
     "text": [
      "essaydetails.php?eid=33133&amp;cid=11\n",
      "essaydetails.php?eid=23127&amp;cid=11\n",
      "essaydetails.php?eid=23095&amp;cid=11\n",
      "essaydetails.php?eid=23042&amp;cid=11\n",
      "essaydetails.php?eid=22927&amp;cid=11\n",
      "essaydetails.php?eid=22920&amp;cid=11\n",
      "essaydetails.php?eid=22887&amp;cid=11\n",
      "essaydetails.php?eid=22857&amp;cid=11\n",
      "essaydetails.php?eid=22856&amp;cid=11\n",
      "essaydetails.php?eid=22847&amp;cid=11\n",
      "essaydetails.php?eid=22831&amp;cid=11\n",
      "essaydetails.php?eid=22734&amp;cid=11\n"
     ]
    },
    {
     "name": "stderr",
     "output_type": "stream",
     "text": [
      "\r",
      "                                                                               \r",
      "\r",
      "  1% (1 of 57) |                          | Elapsed Time: 0:00:44 ETA:  0:41:15"
     ]
    },
    {
     "name": "stdout",
     "output_type": "stream",
     "text": [
      "essaydetails.php?eid=22728&amp;cid=11\n",
      "essaydetails.php?eid=22723&amp;cid=11\n",
      "essaydetails.php?eid=22708&amp;cid=11\n",
      "essaydetails.php?eid=22692&amp;cid=11\n",
      "essaydetails.php?eid=22675&amp;cid=11\n",
      "essaydetails.php?eid=22670&amp;cid=11\n",
      "essaydetails.php?eid=22663&amp;cid=11\n",
      "essaydetails.php?eid=22653&amp;cid=11\n",
      "essaydetails.php?eid=22628&amp;cid=11\n",
      "essaydetails.php?eid=22623&amp;cid=11\n",
      "essaydetails.php?eid=22621&amp;cid=11\n",
      "essaydetails.php?eid=22619&amp;cid=11\n"
     ]
    },
    {
     "name": "stderr",
     "output_type": "stream",
     "text": [
      "\r",
      "                                                                               \r",
      "\r",
      "  3% (2 of 57) |                          | Elapsed Time: 0:01:32 ETA:  0:42:21"
     ]
    },
    {
     "name": "stdout",
     "output_type": "stream",
     "text": [
      "essaydetails.php?eid=22608&amp;cid=11\n",
      "essaydetails.php?eid=22605&amp;cid=11\n",
      "essaydetails.php?eid=22581&amp;cid=11\n",
      "essaydetails.php?eid=22580&amp;cid=11\n",
      "essaydetails.php?eid=22577&amp;cid=11\n",
      "essaydetails.php?eid=22558&amp;cid=11\n",
      "essaydetails.php?eid=22555&amp;cid=11\n",
      "essaydetails.php?eid=22541&amp;cid=11\n",
      "essaydetails.php?eid=22532&amp;cid=11\n",
      "essaydetails.php?eid=22516&amp;cid=11\n",
      "essaydetails.php?eid=22471&amp;cid=11\n",
      "essaydetails.php?eid=22458&amp;cid=11\n"
     ]
    },
    {
     "name": "stderr",
     "output_type": "stream",
     "text": [
      "\r",
      "                                                                               \r",
      "\r",
      "  5% (3 of 57) |#                         | Elapsed Time: 0:02:16 ETA:  0:40:59"
     ]
    },
    {
     "name": "stdout",
     "output_type": "stream",
     "text": [
      "essaydetails.php?eid=22457&amp;cid=11\n",
      "essaydetails.php?eid=22451&amp;cid=11\n",
      "essaydetails.php?eid=22438&amp;cid=11\n",
      "essaydetails.php?eid=22409&amp;cid=11\n",
      "essaydetails.php?eid=22407&amp;cid=11\n",
      "essaydetails.php?eid=22380&amp;cid=11\n",
      "essaydetails.php?eid=22345&amp;cid=11\n",
      "essaydetails.php?eid=22266&amp;cid=11\n",
      "essaydetails.php?eid=22254&amp;cid=11\n",
      "essaydetails.php?eid=22251&amp;cid=11\n",
      "essaydetails.php?eid=22228&amp;cid=11\n",
      "essaydetails.php?eid=22205&amp;cid=11\n"
     ]
    },
    {
     "name": "stderr",
     "output_type": "stream",
     "text": [
      "\r",
      "                                                                               \r",
      "\r",
      "  7% (4 of 57) |#                         | Elapsed Time: 0:02:57 ETA:  0:39:17"
     ]
    },
    {
     "name": "stdout",
     "output_type": "stream",
     "text": [
      "essaydetails.php?eid=22160&amp;cid=11\n",
      "essaydetails.php?eid=22107&amp;cid=11\n",
      "essaydetails.php?eid=22099&amp;cid=11\n",
      "essaydetails.php?eid=22011&amp;cid=11\n",
      "essaydetails.php?eid=22001&amp;cid=11\n",
      "essaydetails.php?eid=21991&amp;cid=11\n",
      "essaydetails.php?eid=21990&amp;cid=11\n",
      "essaydetails.php?eid=21978&amp;cid=11\n",
      "essaydetails.php?eid=21956&amp;cid=11\n",
      "essaydetails.php?eid=21792&amp;cid=11\n",
      "essaydetails.php?eid=21784&amp;cid=11\n",
      "essaydetails.php?eid=21779&amp;cid=11\n"
     ]
    },
    {
     "name": "stderr",
     "output_type": "stream",
     "text": [
      "\r",
      "                                                                               \r",
      "\r",
      "  8% (5 of 57) |##                        | Elapsed Time: 0:03:39 ETA:  0:38:03"
     ]
    },
    {
     "name": "stdout",
     "output_type": "stream",
     "text": [
      "essaydetails.php?eid=21758&amp;cid=11\n",
      "essaydetails.php?eid=21746&amp;cid=11\n",
      "essaydetails.php?eid=21729&amp;cid=11\n",
      "essaydetails.php?eid=21707&amp;cid=11\n",
      "essaydetails.php?eid=21706&amp;cid=11\n",
      "essaydetails.php?eid=21701&amp;cid=11\n",
      "essaydetails.php?eid=21687&amp;cid=11\n",
      "essaydetails.php?eid=21675&amp;cid=11\n",
      "essaydetails.php?eid=21665&amp;cid=11\n",
      "essaydetails.php?eid=21571&amp;cid=11\n",
      "essaydetails.php?eid=21548&amp;cid=11\n",
      "essaydetails.php?eid=21547&amp;cid=11\n"
     ]
    },
    {
     "name": "stderr",
     "output_type": "stream",
     "text": [
      "\r",
      "                                                                               \r",
      "\r",
      " 10% (6 of 57) |##                        | Elapsed Time: 0:04:21 ETA:  0:36:59"
     ]
    },
    {
     "name": "stdout",
     "output_type": "stream",
     "text": [
      "essaydetails.php?eid=21529&amp;cid=11\n",
      "essaydetails.php?eid=21517&amp;cid=11\n",
      "essaydetails.php?eid=21512&amp;cid=11\n",
      "essaydetails.php?eid=21506&amp;cid=11\n",
      "essaydetails.php?eid=21452&amp;cid=11\n",
      "essaydetails.php?eid=21438&amp;cid=11\n",
      "essaydetails.php?eid=21393&amp;cid=11\n",
      "essaydetails.php?eid=21392&amp;cid=11\n",
      "essaydetails.php?eid=21385&amp;cid=11\n",
      "essaydetails.php?eid=21379&amp;cid=11\n",
      "essaydetails.php?eid=21350&amp;cid=11\n",
      "essaydetails.php?eid=21301&amp;cid=11\n"
     ]
    },
    {
     "name": "stderr",
     "output_type": "stream",
     "text": [
      "\r",
      "                                                                               \r",
      "\r",
      " 12% (7 of 57) |###                       | Elapsed Time: 0:05:04 ETA:  0:36:15"
     ]
    },
    {
     "name": "stdout",
     "output_type": "stream",
     "text": [
      "essaydetails.php?eid=21286&amp;cid=11\n",
      "essaydetails.php?eid=21212&amp;cid=11\n",
      "essaydetails.php?eid=21186&amp;cid=11\n",
      "essaydetails.php?eid=21140&amp;cid=11\n",
      "essaydetails.php?eid=21120&amp;cid=11\n",
      "essaydetails.php?eid=21008&amp;cid=11\n",
      "essaydetails.php?eid=20998&amp;cid=11\n",
      "essaydetails.php?eid=20908&amp;cid=11\n",
      "essaydetails.php?eid=20885&amp;cid=11\n",
      "essaydetails.php?eid=20792&amp;cid=11\n",
      "essaydetails.php?eid=20781&amp;cid=11\n",
      "essaydetails.php?eid=20774&amp;cid=11\n"
     ]
    },
    {
     "name": "stderr",
     "output_type": "stream",
     "text": [
      "\r",
      "                                                                               \r",
      "\r",
      " 14% (8 of 57) |###                       | Elapsed Time: 0:05:50 ETA:  0:35:46"
     ]
    },
    {
     "name": "stdout",
     "output_type": "stream",
     "text": [
      "essaydetails.php?eid=20748&amp;cid=11\n",
      "essaydetails.php?eid=20738&amp;cid=11\n",
      "essaydetails.php?eid=20713&amp;cid=11\n",
      "essaydetails.php?eid=20693&amp;cid=11\n",
      "essaydetails.php?eid=20640&amp;cid=11\n",
      "essaydetails.php?eid=20639&amp;cid=11\n",
      "essaydetails.php?eid=20618&amp;cid=11\n",
      "essaydetails.php?eid=20579&amp;cid=11\n",
      "essaydetails.php?eid=20525&amp;cid=11\n",
      "essaydetails.php?eid=20480&amp;cid=11\n",
      "essaydetails.php?eid=20472&amp;cid=11\n",
      "essaydetails.php?eid=20440&amp;cid=11\n"
     ]
    },
    {
     "name": "stderr",
     "output_type": "stream",
     "text": [
      "\r",
      "                                                                               \r",
      "\r",
      " 15% (9 of 57) |####                      | Elapsed Time: 0:06:36 ETA:  0:35:14"
     ]
    },
    {
     "name": "stdout",
     "output_type": "stream",
     "text": [
      "essaydetails.php?eid=20418&amp;cid=11\n",
      "essaydetails.php?eid=20403&amp;cid=11\n",
      "essaydetails.php?eid=20388&amp;cid=11\n",
      "essaydetails.php?eid=20374&amp;cid=11\n",
      "essaydetails.php?eid=20361&amp;cid=11\n",
      "essaydetails.php?eid=20349&amp;cid=11\n",
      "essaydetails.php?eid=20348&amp;cid=11\n",
      "essaydetails.php?eid=20339&amp;cid=11\n",
      "essaydetails.php?eid=20298&amp;cid=11\n",
      "essaydetails.php?eid=20269&amp;cid=11\n",
      "essaydetails.php?eid=20232&amp;cid=11\n",
      "essaydetails.php?eid=20208&amp;cid=11\n"
     ]
    },
    {
     "name": "stderr",
     "output_type": "stream",
     "text": [
      "\r",
      "                                                                               \r",
      "\r",
      " 17% (10 of 57) |####                     | Elapsed Time: 0:07:21 ETA:  0:34:36"
     ]
    },
    {
     "name": "stdout",
     "output_type": "stream",
     "text": [
      "essaydetails.php?eid=20162&amp;cid=11\n",
      "essaydetails.php?eid=20150&amp;cid=11\n",
      "essaydetails.php?eid=20106&amp;cid=11\n",
      "essaydetails.php?eid=20082&amp;cid=11\n",
      "essaydetails.php?eid=20055&amp;cid=11\n",
      "essaydetails.php?eid=20047&amp;cid=11\n",
      "essaydetails.php?eid=19997&amp;cid=11\n",
      "essaydetails.php?eid=19988&amp;cid=11\n",
      "essaydetails.php?eid=19982&amp;cid=11\n",
      "essaydetails.php?eid=19977&amp;cid=11\n",
      "essaydetails.php?eid=19962&amp;cid=11\n",
      "essaydetails.php?eid=19956&amp;cid=11\n"
     ]
    },
    {
     "name": "stderr",
     "output_type": "stream",
     "text": [
      "\r",
      "                                                                               \r",
      "\r",
      " 19% (11 of 57) |####                     | Elapsed Time: 0:08:08 ETA:  0:33:44"
     ]
    },
    {
     "name": "stdout",
     "output_type": "stream",
     "text": [
      "essaydetails.php?eid=19949&amp;cid=11\n",
      "essaydetails.php?eid=19888&amp;cid=11\n",
      "essaydetails.php?eid=19868&amp;cid=11\n",
      "essaydetails.php?eid=19824&amp;cid=11\n",
      "essaydetails.php?eid=19810&amp;cid=11\n",
      "essaydetails.php?eid=19769&amp;cid=11\n",
      "essaydetails.php?eid=19715&amp;cid=11\n",
      "essaydetails.php?eid=19714&amp;cid=11\n",
      "essaydetails.php?eid=19553&amp;cid=11\n",
      "essaydetails.php?eid=19548&amp;cid=11\n",
      "essaydetails.php?eid=19547&amp;cid=11\n",
      "essaydetails.php?eid=19530&amp;cid=11\n"
     ]
    },
    {
     "name": "stderr",
     "output_type": "stream",
     "text": [
      "\r",
      "                                                                               \r",
      "\r",
      " 21% (12 of 57) |#####                    | Elapsed Time: 0:08:49 ETA:  0:32:45"
     ]
    },
    {
     "name": "stdout",
     "output_type": "stream",
     "text": [
      "essaydetails.php?eid=19523&amp;cid=11\n",
      "essaydetails.php?eid=19520&amp;cid=11\n",
      "essaydetails.php?eid=19514&amp;cid=11\n",
      "essaydetails.php?eid=19502&amp;cid=11\n",
      "essaydetails.php?eid=19396&amp;cid=11\n",
      "essaydetails.php?eid=19388&amp;cid=11\n",
      "essaydetails.php?eid=19380&amp;cid=11\n",
      "essaydetails.php?eid=19378&amp;cid=11\n",
      "essaydetails.php?eid=19377&amp;cid=11\n",
      "essaydetails.php?eid=19376&amp;cid=11\n",
      "essaydetails.php?eid=19351&amp;cid=11\n",
      "essaydetails.php?eid=19350&amp;cid=11\n"
     ]
    },
    {
     "name": "stderr",
     "output_type": "stream",
     "text": [
      "\r",
      "                                                                               \r",
      "\r",
      " 22% (13 of 57) |#####                    | Elapsed Time: 0:09:35 ETA:  0:32:26"
     ]
    },
    {
     "name": "stdout",
     "output_type": "stream",
     "text": [
      "essaydetails.php?eid=19341&amp;cid=11\n",
      "essaydetails.php?eid=19339&amp;cid=11\n",
      "essaydetails.php?eid=19338&amp;cid=11\n",
      "essaydetails.php?eid=19330&amp;cid=11\n",
      "essaydetails.php?eid=19324&amp;cid=11\n",
      "essaydetails.php?eid=19322&amp;cid=11\n",
      "essaydetails.php?eid=19318&amp;cid=11\n",
      "essaydetails.php?eid=19315&amp;cid=11\n",
      "essaydetails.php?eid=19310&amp;cid=11\n",
      "essaydetails.php?eid=19308&amp;cid=11\n",
      "essaydetails.php?eid=19306&amp;cid=11\n",
      "essaydetails.php?eid=19295&amp;cid=11\n"
     ]
    },
    {
     "name": "stderr",
     "output_type": "stream",
     "text": [
      "\r",
      "                                                                               \r",
      "\r",
      " 24% (14 of 57) |######                   | Elapsed Time: 0:10:18 ETA:  0:31:47"
     ]
    },
    {
     "name": "stdout",
     "output_type": "stream",
     "text": [
      "essaydetails.php?eid=19294&amp;cid=11\n",
      "essaydetails.php?eid=19293&amp;cid=11\n",
      "essaydetails.php?eid=19292&amp;cid=11\n",
      "essaydetails.php?eid=19287&amp;cid=11\n",
      "essaydetails.php?eid=19285&amp;cid=11\n",
      "essaydetails.php?eid=19284&amp;cid=11\n",
      "essaydetails.php?eid=19264&amp;cid=11\n",
      "essaydetails.php?eid=19263&amp;cid=11\n",
      "essaydetails.php?eid=19253&amp;cid=11\n",
      "essaydetails.php?eid=19248&amp;cid=11\n",
      "essaydetails.php?eid=19245&amp;cid=11\n",
      "essaydetails.php?eid=19241&amp;cid=11\n"
     ]
    },
    {
     "name": "stderr",
     "output_type": "stream",
     "text": [
      "\r",
      "                                                                               \r",
      "\r",
      " 26% (15 of 57) |######                   | Elapsed Time: 0:11:15 ETA:  0:32:13"
     ]
    },
    {
     "name": "stdout",
     "output_type": "stream",
     "text": [
      "essaydetails.php?eid=19233&amp;cid=11\n",
      "essaydetails.php?eid=19232&amp;cid=11\n",
      "essaydetails.php?eid=19215&amp;cid=11\n",
      "essaydetails.php?eid=19190&amp;cid=11\n",
      "essaydetails.php?eid=19159&amp;cid=11\n",
      "essaydetails.php?eid=19148&amp;cid=11\n",
      "essaydetails.php?eid=19113&amp;cid=11\n",
      "essaydetails.php?eid=19111&amp;cid=11\n",
      "essaydetails.php?eid=19110&amp;cid=11\n",
      "essaydetails.php?eid=19108&amp;cid=11\n",
      "essaydetails.php?eid=19098&amp;cid=11\n",
      "essaydetails.php?eid=19057&amp;cid=11\n"
     ]
    },
    {
     "name": "stderr",
     "output_type": "stream",
     "text": [
      "\r",
      "                                                                               \r",
      "\r",
      " 28% (16 of 57) |#######                  | Elapsed Time: 0:11:58 ETA:  0:31:26"
     ]
    },
    {
     "name": "stdout",
     "output_type": "stream",
     "text": [
      "essaydetails.php?eid=19053&amp;cid=11\n",
      "essaydetails.php?eid=19051&amp;cid=11\n",
      "essaydetails.php?eid=19033&amp;cid=11\n",
      "essaydetails.php?eid=19032&amp;cid=11\n",
      "essaydetails.php?eid=19026&amp;cid=11\n",
      "essaydetails.php?eid=19025&amp;cid=11\n",
      "essaydetails.php?eid=19024&amp;cid=11\n",
      "essaydetails.php?eid=19020&amp;cid=11\n",
      "essaydetails.php?eid=18998&amp;cid=11\n",
      "essaydetails.php?eid=18996&amp;cid=11\n",
      "essaydetails.php?eid=18994&amp;cid=11\n",
      "essaydetails.php?eid=18962&amp;cid=11\n"
     ]
    },
    {
     "name": "stderr",
     "output_type": "stream",
     "text": [
      "\r",
      "                                                                               \r",
      "\r",
      " 29% (17 of 57) |#######                  | Elapsed Time: 0:12:46 ETA:  0:30:50"
     ]
    },
    {
     "name": "stdout",
     "output_type": "stream",
     "text": [
      "essaydetails.php?eid=18940&amp;cid=11\n",
      "essaydetails.php?eid=18929&amp;cid=11\n",
      "essaydetails.php?eid=18927&amp;cid=11\n",
      "essaydetails.php?eid=18912&amp;cid=11\n",
      "essaydetails.php?eid=18860&amp;cid=11\n",
      "essaydetails.php?eid=18837&amp;cid=11\n",
      "essaydetails.php?eid=18803&amp;cid=11\n",
      "essaydetails.php?eid=18762&amp;cid=11\n",
      "essaydetails.php?eid=18760&amp;cid=11\n",
      "essaydetails.php?eid=18759&amp;cid=11\n",
      "essaydetails.php?eid=18758&amp;cid=11\n",
      "essaydetails.php?eid=18628&amp;cid=11\n"
     ]
    },
    {
     "name": "stderr",
     "output_type": "stream",
     "text": [
      "\r",
      "                                                                               \r",
      "\r",
      " 31% (18 of 57) |#######                  | Elapsed Time: 0:13:30 ETA:  0:29:55"
     ]
    },
    {
     "name": "stdout",
     "output_type": "stream",
     "text": [
      "essaydetails.php?eid=18625&amp;cid=11\n",
      "essaydetails.php?eid=18623&amp;cid=11\n",
      "essaydetails.php?eid=18612&amp;cid=11\n",
      "essaydetails.php?eid=18593&amp;cid=11\n",
      "essaydetails.php?eid=18576&amp;cid=11\n",
      "essaydetails.php?eid=18574&amp;cid=11\n",
      "essaydetails.php?eid=18564&amp;cid=11\n",
      "essaydetails.php?eid=18563&amp;cid=11\n",
      "essaydetails.php?eid=18537&amp;cid=11\n",
      "essaydetails.php?eid=18532&amp;cid=11\n",
      "essaydetails.php?eid=18526&amp;cid=11\n",
      "essaydetails.php?eid=18104&amp;cid=11\n"
     ]
    },
    {
     "name": "stderr",
     "output_type": "stream",
     "text": [
      "\r",
      "                                                                               \r",
      "\r",
      " 33% (19 of 57) |########                 | Elapsed Time: 0:14:13 ETA:  0:28:59"
     ]
    },
    {
     "name": "stdout",
     "output_type": "stream",
     "text": [
      "essaydetails.php?eid=17952&amp;cid=11\n",
      "essaydetails.php?eid=17950&amp;cid=11\n",
      "essaydetails.php?eid=17949&amp;cid=11\n",
      "essaydetails.php?eid=17939&amp;cid=11\n",
      "essaydetails.php?eid=17938&amp;cid=11\n",
      "essaydetails.php?eid=17928&amp;cid=11\n",
      "essaydetails.php?eid=17911&amp;cid=11\n",
      "essaydetails.php?eid=17910&amp;cid=11\n",
      "essaydetails.php?eid=17903&amp;cid=11\n",
      "essaydetails.php?eid=17902&amp;cid=11\n",
      "essaydetails.php?eid=17901&amp;cid=11\n",
      "essaydetails.php?eid=17884&amp;cid=11\n"
     ]
    },
    {
     "name": "stderr",
     "output_type": "stream",
     "text": [
      "\r",
      "                                                                               \r",
      "\r",
      " 35% (20 of 57) |########                 | Elapsed Time: 0:15:00 ETA:  0:28:12"
     ]
    },
    {
     "name": "stdout",
     "output_type": "stream",
     "text": [
      "essaydetails.php?eid=17876&amp;cid=11\n",
      "essaydetails.php?eid=17872&amp;cid=11\n",
      "essaydetails.php?eid=17856&amp;cid=11\n",
      "essaydetails.php?eid=17835&amp;cid=11\n",
      "essaydetails.php?eid=17830&amp;cid=11\n",
      "essaydetails.php?eid=17827&amp;cid=11\n",
      "essaydetails.php?eid=17819&amp;cid=11\n",
      "essaydetails.php?eid=17817&amp;cid=11\n",
      "essaydetails.php?eid=17814&amp;cid=11\n",
      "essaydetails.php?eid=17799&amp;cid=11\n",
      "essaydetails.php?eid=17791&amp;cid=11\n",
      "essaydetails.php?eid=17784&amp;cid=11\n"
     ]
    },
    {
     "name": "stderr",
     "output_type": "stream",
     "text": [
      "\r",
      "                                                                               \r",
      "\r",
      " 36% (21 of 57) |#########                | Elapsed Time: 0:15:46 ETA:  0:27:45"
     ]
    },
    {
     "name": "stdout",
     "output_type": "stream",
     "text": [
      "essaydetails.php?eid=17779&amp;cid=11\n",
      "essaydetails.php?eid=17770&amp;cid=11\n",
      "essaydetails.php?eid=17766&amp;cid=11\n",
      "essaydetails.php?eid=17745&amp;cid=11\n",
      "essaydetails.php?eid=17744&amp;cid=11\n",
      "essaydetails.php?eid=17738&amp;cid=11\n",
      "essaydetails.php?eid=17733&amp;cid=11\n",
      "essaydetails.php?eid=17718&amp;cid=11\n",
      "essaydetails.php?eid=17685&amp;cid=11\n",
      "essaydetails.php?eid=17665&amp;cid=11\n",
      "essaydetails.php?eid=17664&amp;cid=11\n",
      "essaydetails.php?eid=17662&amp;cid=11\n"
     ]
    },
    {
     "name": "stderr",
     "output_type": "stream",
     "text": [
      "\r",
      "                                                                               \r",
      "\r",
      " 38% (22 of 57) |#########                | Elapsed Time: 0:16:27 ETA:  0:26:40"
     ]
    },
    {
     "name": "stdout",
     "output_type": "stream",
     "text": [
      "essaydetails.php?eid=17656&amp;cid=11\n",
      "essaydetails.php?eid=17637&amp;cid=11\n",
      "essaydetails.php?eid=17636&amp;cid=11\n",
      "essaydetails.php?eid=17635&amp;cid=11\n",
      "essaydetails.php?eid=17628&amp;cid=11\n",
      "essaydetails.php?eid=17627&amp;cid=11\n",
      "essaydetails.php?eid=17621&amp;cid=11\n",
      "essaydetails.php?eid=17609&amp;cid=11\n",
      "essaydetails.php?eid=17600&amp;cid=11\n",
      "essaydetails.php?eid=17597&amp;cid=11\n",
      "essaydetails.php?eid=17547&amp;cid=11\n",
      "essaydetails.php?eid=17535&amp;cid=11\n"
     ]
    },
    {
     "name": "stderr",
     "output_type": "stream",
     "text": [
      "\r",
      "                                                                               \r",
      "\r",
      " 40% (23 of 57) |##########               | Elapsed Time: 0:17:10 ETA:  0:25:55"
     ]
    },
    {
     "name": "stdout",
     "output_type": "stream",
     "text": [
      "essaydetails.php?eid=17525&amp;cid=11\n",
      "essaydetails.php?eid=17522&amp;cid=11\n",
      "essaydetails.php?eid=17513&amp;cid=11\n",
      "essaydetails.php?eid=17451&amp;cid=11\n",
      "essaydetails.php?eid=17446&amp;cid=11\n",
      "essaydetails.php?eid=17432&amp;cid=11\n",
      "essaydetails.php?eid=17426&amp;cid=11\n",
      "essaydetails.php?eid=17424&amp;cid=11\n",
      "essaydetails.php?eid=17365&amp;cid=11\n",
      "essaydetails.php?eid=17328&amp;cid=11\n",
      "essaydetails.php?eid=17315&amp;cid=11\n",
      "essaydetails.php?eid=17308&amp;cid=11\n"
     ]
    },
    {
     "name": "stderr",
     "output_type": "stream",
     "text": [
      "\r",
      "                                                                               \r",
      "\r",
      " 42% (24 of 57) |##########               | Elapsed Time: 0:17:52 ETA:  0:24:15"
     ]
    },
    {
     "name": "stdout",
     "output_type": "stream",
     "text": [
      "essaydetails.php?eid=17298&amp;cid=11\n",
      "essaydetails.php?eid=17289&amp;cid=11\n",
      "essaydetails.php?eid=17288&amp;cid=11\n",
      "essaydetails.php?eid=17285&amp;cid=11\n",
      "essaydetails.php?eid=17180&amp;cid=11\n",
      "essaydetails.php?eid=17173&amp;cid=11\n",
      "essaydetails.php?eid=17163&amp;cid=11\n",
      "essaydetails.php?eid=17093&amp;cid=11\n",
      "essaydetails.php?eid=16474&amp;cid=11\n",
      "essaydetails.php?eid=16472&amp;cid=11\n",
      "essaydetails.php?eid=16454&amp;cid=11\n",
      "essaydetails.php?eid=16452&amp;cid=11\n"
     ]
    },
    {
     "name": "stderr",
     "output_type": "stream",
     "text": [
      "\r",
      "                                                                               \r",
      "\r",
      " 43% (25 of 57) |##########               | Elapsed Time: 0:18:40 ETA:  0:23:49"
     ]
    },
    {
     "name": "stdout",
     "output_type": "stream",
     "text": [
      "essaydetails.php?eid=16446&amp;cid=11\n",
      "essaydetails.php?eid=16445&amp;cid=11\n",
      "essaydetails.php?eid=16439&amp;cid=11\n",
      "essaydetails.php?eid=16438&amp;cid=11\n",
      "essaydetails.php?eid=16426&amp;cid=11\n",
      "essaydetails.php?eid=16421&amp;cid=11\n",
      "essaydetails.php?eid=16415&amp;cid=11\n",
      "essaydetails.php?eid=16406&amp;cid=11\n",
      "essaydetails.php?eid=16401&amp;cid=11\n",
      "essaydetails.php?eid=16397&amp;cid=11\n",
      "essaydetails.php?eid=16396&amp;cid=11\n",
      "essaydetails.php?eid=16383&amp;cid=11\n"
     ]
    },
    {
     "name": "stderr",
     "output_type": "stream",
     "text": [
      "\r",
      "                                                                               \r",
      "\r",
      " 45% (26 of 57) |###########              | Elapsed Time: 0:19:26 ETA:  0:22:56"
     ]
    },
    {
     "name": "stdout",
     "output_type": "stream",
     "text": [
      "essaydetails.php?eid=16366&amp;cid=11\n",
      "essaydetails.php?eid=16359&amp;cid=11\n",
      "essaydetails.php?eid=16357&amp;cid=11\n",
      "essaydetails.php?eid=16356&amp;cid=11\n",
      "essaydetails.php?eid=16328&amp;cid=11\n",
      "essaydetails.php?eid=16321&amp;cid=11\n",
      "essaydetails.php?eid=16320&amp;cid=11\n",
      "essaydetails.php?eid=16318&amp;cid=11\n",
      "essaydetails.php?eid=16316&amp;cid=11\n",
      "essaydetails.php?eid=16315&amp;cid=11\n",
      "essaydetails.php?eid=16314&amp;cid=11\n",
      "essaydetails.php?eid=16313&amp;cid=11\n"
     ]
    },
    {
     "name": "stderr",
     "output_type": "stream",
     "text": [
      "\r",
      "                                                                               \r",
      "\r",
      " 47% (27 of 57) |###########              | Elapsed Time: 0:20:10 ETA:  0:22:12"
     ]
    },
    {
     "name": "stdout",
     "output_type": "stream",
     "text": [
      "essaydetails.php?eid=16312&amp;cid=11\n",
      "essaydetails.php?eid=16310&amp;cid=11\n",
      "essaydetails.php?eid=16184&amp;cid=11\n",
      "essaydetails.php?eid=14634&amp;cid=11\n",
      "essaydetails.php?eid=14622&amp;cid=11\n",
      "essaydetails.php?eid=14613&amp;cid=11\n",
      "essaydetails.php?eid=14607&amp;cid=11\n",
      "essaydetails.php?eid=14598&amp;cid=11\n",
      "essaydetails.php?eid=14445&amp;cid=11\n",
      "essaydetails.php?eid=14441&amp;cid=11\n",
      "essaydetails.php?eid=14325&amp;cid=11\n",
      "essaydetails.php?eid=14250&amp;cid=11\n"
     ]
    },
    {
     "name": "stderr",
     "output_type": "stream",
     "text": [
      "\r",
      "                                                                               \r",
      "\r",
      " 49% (28 of 57) |############             | Elapsed Time: 0:20:54 ETA:  0:21:32"
     ]
    },
    {
     "name": "stdout",
     "output_type": "stream",
     "text": [
      "essaydetails.php?eid=14220&amp;cid=11\n",
      "essaydetails.php?eid=14213&amp;cid=11\n",
      "essaydetails.php?eid=14196&amp;cid=11\n",
      "essaydetails.php?eid=14178&amp;cid=11\n",
      "essaydetails.php?eid=13774&amp;cid=11\n",
      "essaydetails.php?eid=13724&amp;cid=11\n",
      "essaydetails.php?eid=13718&amp;cid=11\n",
      "essaydetails.php?eid=13702&amp;cid=11\n",
      "essaydetails.php?eid=13701&amp;cid=11\n",
      "essaydetails.php?eid=13608&amp;cid=11\n",
      "essaydetails.php?eid=13561&amp;cid=11\n",
      "essaydetails.php?eid=13540&amp;cid=11\n"
     ]
    },
    {
     "name": "stderr",
     "output_type": "stream",
     "text": [
      "\r",
      "                                                                               \r",
      "\r",
      " 50% (29 of 57) |############             | Elapsed Time: 0:21:39 ETA:  0:20:42"
     ]
    },
    {
     "name": "stdout",
     "output_type": "stream",
     "text": [
      "essaydetails.php?eid=13532&amp;cid=11\n",
      "essaydetails.php?eid=13505&amp;cid=11\n",
      "essaydetails.php?eid=13447&amp;cid=11\n",
      "essaydetails.php?eid=13402&amp;cid=11\n",
      "essaydetails.php?eid=13386&amp;cid=11\n",
      "essaydetails.php?eid=13371&amp;cid=11\n",
      "essaydetails.php?eid=13370&amp;cid=11\n",
      "essaydetails.php?eid=13369&amp;cid=11\n",
      "essaydetails.php?eid=13363&amp;cid=11\n",
      "essaydetails.php?eid=13351&amp;cid=11\n",
      "essaydetails.php?eid=13323&amp;cid=11\n",
      "essaydetails.php?eid=13321&amp;cid=11\n"
     ]
    },
    {
     "name": "stderr",
     "output_type": "stream",
     "text": [
      "\r",
      "                                                                               \r",
      "\r",
      " 52% (30 of 57) |#############            | Elapsed Time: 0:22:22 ETA:  0:19:48"
     ]
    },
    {
     "name": "stdout",
     "output_type": "stream",
     "text": [
      "essaydetails.php?eid=13261&amp;cid=11\n",
      "essaydetails.php?eid=13259&amp;cid=11\n",
      "essaydetails.php?eid=13258&amp;cid=11\n",
      "essaydetails.php?eid=13257&amp;cid=11\n",
      "essaydetails.php?eid=13247&amp;cid=11\n",
      "essaydetails.php?eid=13239&amp;cid=11\n",
      "essaydetails.php?eid=13229&amp;cid=11\n",
      "essaydetails.php?eid=13216&amp;cid=11\n",
      "essaydetails.php?eid=13210&amp;cid=11\n",
      "essaydetails.php?eid=13155&amp;cid=11\n",
      "essaydetails.php?eid=13129&amp;cid=11\n",
      "essaydetails.php?eid=13125&amp;cid=11\n"
     ]
    },
    {
     "name": "stderr",
     "output_type": "stream",
     "text": [
      "\r",
      "                                                                               \r",
      "\r",
      " 54% (31 of 57) |#############            | Elapsed Time: 0:23:05 ETA:  0:19:10"
     ]
    },
    {
     "name": "stdout",
     "output_type": "stream",
     "text": [
      "essaydetails.php?eid=13078&amp;cid=11\n",
      "essaydetails.php?eid=12997&amp;cid=11\n",
      "essaydetails.php?eid=12993&amp;cid=11\n",
      "essaydetails.php?eid=12992&amp;cid=11\n",
      "essaydetails.php?eid=12985&amp;cid=11\n",
      "essaydetails.php?eid=12939&amp;cid=11\n",
      "essaydetails.php?eid=12848&amp;cid=11\n",
      "essaydetails.php?eid=12838&amp;cid=11\n",
      "essaydetails.php?eid=12837&amp;cid=11\n",
      "essaydetails.php?eid=12749&amp;cid=11\n",
      "essaydetails.php?eid=12729&amp;cid=11\n",
      "essaydetails.php?eid=12724&amp;cid=11\n"
     ]
    },
    {
     "name": "stderr",
     "output_type": "stream",
     "text": [
      "\r",
      "                                                                               \r",
      "\r",
      " 56% (32 of 57) |##############           | Elapsed Time: 0:23:52 ETA:  0:18:36"
     ]
    },
    {
     "name": "stdout",
     "output_type": "stream",
     "text": [
      "essaydetails.php?eid=12698&amp;cid=11\n",
      "essaydetails.php?eid=12694&amp;cid=11\n",
      "essaydetails.php?eid=12679&amp;cid=11\n",
      "essaydetails.php?eid=12672&amp;cid=11\n",
      "essaydetails.php?eid=12670&amp;cid=11\n",
      "essaydetails.php?eid=12633&amp;cid=11\n",
      "essaydetails.php?eid=12615&amp;cid=11\n",
      "essaydetails.php?eid=12614&amp;cid=11\n",
      "essaydetails.php?eid=12589&amp;cid=11\n",
      "essaydetails.php?eid=12543&amp;cid=11\n",
      "essaydetails.php?eid=12518&amp;cid=11\n",
      "essaydetails.php?eid=12486&amp;cid=11\n"
     ]
    },
    {
     "name": "stderr",
     "output_type": "stream",
     "text": [
      "\r",
      "                                                                               \r",
      "\r",
      " 57% (33 of 57) |##############           | Elapsed Time: 0:24:40 ETA:  0:18:06"
     ]
    },
    {
     "name": "stdout",
     "output_type": "stream",
     "text": [
      "essaydetails.php?eid=12479&amp;cid=11\n",
      "essaydetails.php?eid=12427&amp;cid=11\n",
      "essaydetails.php?eid=12422&amp;cid=11\n",
      "essaydetails.php?eid=12384&amp;cid=11\n",
      "essaydetails.php?eid=12362&amp;cid=11\n",
      "essaydetails.php?eid=12359&amp;cid=11\n",
      "essaydetails.php?eid=12332&amp;cid=11\n",
      "essaydetails.php?eid=12285&amp;cid=11\n",
      "essaydetails.php?eid=12276&amp;cid=11\n",
      "essaydetails.php?eid=12252&amp;cid=11\n",
      "essaydetails.php?eid=12251&amp;cid=11\n",
      "essaydetails.php?eid=12249&amp;cid=11\n"
     ]
    },
    {
     "name": "stderr",
     "output_type": "stream",
     "text": [
      "\r",
      "                                                                               \r",
      "\r",
      " 59% (34 of 57) |##############           | Elapsed Time: 0:25:31 ETA:  0:17:28"
     ]
    },
    {
     "name": "stdout",
     "output_type": "stream",
     "text": [
      "essaydetails.php?eid=12234&amp;cid=11\n",
      "essaydetails.php?eid=12233&amp;cid=11\n",
      "essaydetails.php?eid=12220&amp;cid=11\n",
      "essaydetails.php?eid=12218&amp;cid=11\n",
      "essaydetails.php?eid=12211&amp;cid=11\n",
      "essaydetails.php?eid=12183&amp;cid=11\n",
      "essaydetails.php?eid=12173&amp;cid=11\n",
      "essaydetails.php?eid=12164&amp;cid=11\n",
      "essaydetails.php?eid=12163&amp;cid=11\n",
      "essaydetails.php?eid=12158&amp;cid=11\n",
      "essaydetails.php?eid=12019&amp;cid=11\n",
      "essaydetails.php?eid=12005&amp;cid=11\n"
     ]
    },
    {
     "name": "stderr",
     "output_type": "stream",
     "text": [
      "\r",
      "                                                                               \r",
      "\r",
      " 61% (35 of 57) |###############          | Elapsed Time: 0:26:20 ETA:  0:16:52"
     ]
    },
    {
     "name": "stdout",
     "output_type": "stream",
     "text": [
      "essaydetails.php?eid=11935&amp;cid=11\n",
      "essaydetails.php?eid=11922&amp;cid=11\n",
      "essaydetails.php?eid=11920&amp;cid=11\n",
      "essaydetails.php?eid=11840&amp;cid=11\n",
      "essaydetails.php?eid=11826&amp;cid=11\n",
      "essaydetails.php?eid=11818&amp;cid=11\n",
      "essaydetails.php?eid=11788&amp;cid=11\n",
      "essaydetails.php?eid=11772&amp;cid=11\n",
      "essaydetails.php?eid=11769&amp;cid=11\n",
      "essaydetails.php?eid=11768&amp;cid=11\n",
      "essaydetails.php?eid=11767&amp;cid=11\n",
      "essaydetails.php?eid=11756&amp;cid=11\n"
     ]
    },
    {
     "name": "stderr",
     "output_type": "stream",
     "text": [
      "\r",
      "                                                                               \r",
      "\r",
      " 63% (36 of 57) |###############          | Elapsed Time: 0:27:03 ETA:  0:16:03"
     ]
    },
    {
     "name": "stdout",
     "output_type": "stream",
     "text": [
      "essaydetails.php?eid=11755&amp;cid=11\n",
      "essaydetails.php?eid=11735&amp;cid=11\n",
      "essaydetails.php?eid=11734&amp;cid=11\n",
      "essaydetails.php?eid=11729&amp;cid=11\n",
      "essaydetails.php?eid=11718&amp;cid=11\n",
      "essaydetails.php?eid=11715&amp;cid=11\n",
      "essaydetails.php?eid=11714&amp;cid=11\n",
      "essaydetails.php?eid=11707&amp;cid=11\n",
      "essaydetails.php?eid=11704&amp;cid=11\n",
      "essaydetails.php?eid=11697&amp;cid=11\n",
      "essaydetails.php?eid=11686&amp;cid=11\n",
      "essaydetails.php?eid=11684&amp;cid=11\n"
     ]
    },
    {
     "name": "stderr",
     "output_type": "stream",
     "text": [
      "\r",
      "                                                                               \r",
      "\r",
      " 64% (37 of 57) |################         | Elapsed Time: 0:27:45 ETA:  0:15:12"
     ]
    },
    {
     "name": "stdout",
     "output_type": "stream",
     "text": [
      "essaydetails.php?eid=11669&amp;cid=11\n",
      "essaydetails.php?eid=11637&amp;cid=11\n",
      "essaydetails.php?eid=11627&amp;cid=11\n",
      "essaydetails.php?eid=11618&amp;cid=11\n",
      "essaydetails.php?eid=11593&amp;cid=11\n",
      "essaydetails.php?eid=11592&amp;cid=11\n",
      "essaydetails.php?eid=11588&amp;cid=11\n",
      "essaydetails.php?eid=11557&amp;cid=11\n",
      "essaydetails.php?eid=11531&amp;cid=11\n",
      "essaydetails.php?eid=11493&amp;cid=11\n",
      "essaydetails.php?eid=11479&amp;cid=11\n",
      "essaydetails.php?eid=11453&amp;cid=11\n"
     ]
    },
    {
     "name": "stderr",
     "output_type": "stream",
     "text": [
      "\r",
      "                                                                               \r",
      "\r",
      " 66% (38 of 57) |################         | Elapsed Time: 0:28:30 ETA:  0:14:28"
     ]
    },
    {
     "name": "stdout",
     "output_type": "stream",
     "text": [
      "essaydetails.php?eid=11381&amp;cid=11\n",
      "essaydetails.php?eid=11323&amp;cid=11\n",
      "essaydetails.php?eid=11319&amp;cid=11\n",
      "essaydetails.php?eid=11317&amp;cid=11\n",
      "essaydetails.php?eid=11291&amp;cid=11\n",
      "essaydetails.php?eid=11289&amp;cid=11\n",
      "essaydetails.php?eid=11277&amp;cid=11\n",
      "essaydetails.php?eid=11257&amp;cid=11\n",
      "essaydetails.php?eid=11243&amp;cid=11\n",
      "essaydetails.php?eid=11127&amp;cid=11\n",
      "essaydetails.php?eid=11119&amp;cid=11\n",
      "essaydetails.php?eid=11111&amp;cid=11\n"
     ]
    },
    {
     "name": "stderr",
     "output_type": "stream",
     "text": [
      "\r",
      "                                                                               \r",
      "\r",
      " 68% (39 of 57) |#################        | Elapsed Time: 0:29:11 ETA:  0:13:39"
     ]
    },
    {
     "name": "stdout",
     "output_type": "stream",
     "text": [
      "essaydetails.php?eid=11052&amp;cid=11\n",
      "essaydetails.php?eid=10964&amp;cid=11\n",
      "essaydetails.php?eid=10931&amp;cid=11\n",
      "essaydetails.php?eid=10883&amp;cid=11\n",
      "essaydetails.php?eid=10869&amp;cid=11\n",
      "essaydetails.php?eid=10846&amp;cid=11\n",
      "essaydetails.php?eid=10843&amp;cid=11\n",
      "essaydetails.php?eid=10821&amp;cid=11\n",
      "essaydetails.php?eid=10760&amp;cid=11\n",
      "essaydetails.php?eid=10752&amp;cid=11\n",
      "essaydetails.php?eid=10723&amp;cid=11\n",
      "essaydetails.php?eid=10716&amp;cid=11\n"
     ]
    },
    {
     "name": "stderr",
     "output_type": "stream",
     "text": [
      "\r",
      "                                                                               \r",
      "\r",
      " 70% (40 of 57) |#################        | Elapsed Time: 0:29:53 ETA:  0:12:49"
     ]
    },
    {
     "name": "stdout",
     "output_type": "stream",
     "text": [
      "essaydetails.php?eid=10687&amp;cid=11\n",
      "essaydetails.php?eid=10664&amp;cid=11\n",
      "essaydetails.php?eid=10617&amp;cid=11\n",
      "essaydetails.php?eid=10615&amp;cid=11\n",
      "essaydetails.php?eid=10598&amp;cid=11\n",
      "essaydetails.php?eid=10576&amp;cid=11\n",
      "essaydetails.php?eid=10540&amp;cid=11\n",
      "essaydetails.php?eid=10440&amp;cid=11\n",
      "essaydetails.php?eid=10322&amp;cid=11\n",
      "essaydetails.php?eid=10313&amp;cid=11\n",
      "essaydetails.php?eid=10301&amp;cid=11\n",
      "essaydetails.php?eid=10274&amp;cid=11\n"
     ]
    },
    {
     "name": "stderr",
     "output_type": "stream",
     "text": [
      "\r",
      "                                                                               \r",
      "\r",
      " 71% (41 of 57) |#################        | Elapsed Time: 0:30:35 ETA:  0:11:57"
     ]
    },
    {
     "name": "stdout",
     "output_type": "stream",
     "text": [
      "essaydetails.php?eid=10259&amp;cid=11\n",
      "essaydetails.php?eid=10244&amp;cid=11\n",
      "essaydetails.php?eid=10191&amp;cid=11\n",
      "essaydetails.php?eid=10190&amp;cid=11\n",
      "essaydetails.php?eid=10189&amp;cid=11\n",
      "essaydetails.php?eid=10186&amp;cid=11\n",
      "essaydetails.php?eid=10176&amp;cid=11\n",
      "essaydetails.php?eid=10174&amp;cid=11\n",
      "essaydetails.php?eid=10173&amp;cid=11\n",
      "essaydetails.php?eid=10172&amp;cid=11\n",
      "essaydetails.php?eid=10169&amp;cid=11\n",
      "essaydetails.php?eid=10151&amp;cid=11\n"
     ]
    },
    {
     "name": "stderr",
     "output_type": "stream",
     "text": [
      "\r",
      "                                                                               \r",
      "\r",
      " 73% (42 of 57) |##################       | Elapsed Time: 0:31:17 ETA:  0:11:01"
     ]
    },
    {
     "name": "stdout",
     "output_type": "stream",
     "text": [
      "essaydetails.php?eid=10148&amp;cid=11\n",
      "essaydetails.php?eid=10126&amp;cid=11\n",
      "essaydetails.php?eid=10112&amp;cid=11\n",
      "essaydetails.php?eid=10091&amp;cid=11\n",
      "essaydetails.php?eid=10078&amp;cid=11\n",
      "essaydetails.php?eid=10051&amp;cid=11\n",
      "essaydetails.php?eid=10039&amp;cid=11\n",
      "essaydetails.php?eid=10038&amp;cid=11\n",
      "essaydetails.php?eid=10035&amp;cid=11\n",
      "essaydetails.php?eid=10034&amp;cid=11\n",
      "essaydetails.php?eid=10033&amp;cid=11\n",
      "essaydetails.php?eid=10031&amp;cid=11\n"
     ]
    },
    {
     "name": "stderr",
     "output_type": "stream",
     "text": [
      "\r",
      "                                                                               \r",
      "\r",
      " 75% (43 of 57) |##################       | Elapsed Time: 0:31:58 ETA:  0:10:03"
     ]
    },
    {
     "name": "stdout",
     "output_type": "stream",
     "text": [
      "essaydetails.php?eid=10021&amp;cid=11\n",
      "essaydetails.php?eid=10014&amp;cid=11\n",
      "essaydetails.php?eid=9989&amp;cid=11\n",
      "essaydetails.php?eid=9966&amp;cid=11\n",
      "essaydetails.php?eid=9950&amp;cid=11\n",
      "essaydetails.php?eid=9898&amp;cid=11\n",
      "essaydetails.php?eid=9895&amp;cid=11\n",
      "essaydetails.php?eid=9881&amp;cid=11\n",
      "essaydetails.php?eid=9826&amp;cid=11\n",
      "essaydetails.php?eid=9780&amp;cid=11\n",
      "essaydetails.php?eid=9761&amp;cid=11\n",
      "essaydetails.php?eid=9747&amp;cid=11\n"
     ]
    },
    {
     "name": "stderr",
     "output_type": "stream",
     "text": [
      "\r",
      "                                                                               \r",
      "\r",
      " 77% (44 of 57) |###################      | Elapsed Time: 0:32:44 ETA:  0:09:14"
     ]
    },
    {
     "name": "stdout",
     "output_type": "stream",
     "text": [
      "essaydetails.php?eid=9729&amp;cid=11\n",
      "essaydetails.php?eid=9704&amp;cid=11\n",
      "essaydetails.php?eid=9696&amp;cid=11\n",
      "essaydetails.php?eid=9692&amp;cid=11\n",
      "essaydetails.php?eid=9643&amp;cid=11\n",
      "essaydetails.php?eid=9641&amp;cid=11\n",
      "essaydetails.php?eid=9633&amp;cid=11\n",
      "essaydetails.php?eid=9628&amp;cid=11\n",
      "essaydetails.php?eid=9617&amp;cid=11\n",
      "essaydetails.php?eid=9610&amp;cid=11\n",
      "essaydetails.php?eid=9583&amp;cid=11\n",
      "essaydetails.php?eid=9540&amp;cid=11\n"
     ]
    },
    {
     "name": "stderr",
     "output_type": "stream",
     "text": [
      "\r",
      "                                                                               \r",
      "\r",
      " 78% (45 of 57) |###################      | Elapsed Time: 0:33:30 ETA:  0:08:35"
     ]
    },
    {
     "name": "stdout",
     "output_type": "stream",
     "text": [
      "essaydetails.php?eid=9532&amp;cid=11\n",
      "essaydetails.php?eid=9525&amp;cid=11\n",
      "essaydetails.php?eid=9482&amp;cid=11\n",
      "essaydetails.php?eid=9445&amp;cid=11\n",
      "essaydetails.php?eid=9412&amp;cid=11\n",
      "essaydetails.php?eid=9395&amp;cid=11\n",
      "essaydetails.php?eid=9393&amp;cid=11\n",
      "essaydetails.php?eid=9379&amp;cid=11\n",
      "essaydetails.php?eid=9278&amp;cid=11\n",
      "essaydetails.php?eid=9262&amp;cid=11\n",
      "essaydetails.php?eid=9255&amp;cid=11\n",
      "essaydetails.php?eid=9147&amp;cid=11\n"
     ]
    },
    {
     "name": "stderr",
     "output_type": "stream",
     "text": [
      "\r",
      "                                                                               \r",
      "\r",
      " 80% (46 of 57) |####################     | Elapsed Time: 0:34:13 ETA:  0:07:53"
     ]
    },
    {
     "name": "stdout",
     "output_type": "stream",
     "text": [
      "essaydetails.php?eid=9111&amp;cid=11\n",
      "essaydetails.php?eid=9110&amp;cid=11\n",
      "essaydetails.php?eid=9105&amp;cid=11\n",
      "essaydetails.php?eid=9095&amp;cid=11\n",
      "essaydetails.php?eid=9058&amp;cid=11\n",
      "essaydetails.php?eid=9019&amp;cid=11\n",
      "essaydetails.php?eid=9018&amp;cid=11\n",
      "essaydetails.php?eid=8995&amp;cid=11\n",
      "essaydetails.php?eid=8924&amp;cid=11\n",
      "essaydetails.php?eid=8921&amp;cid=11\n",
      "essaydetails.php?eid=8906&amp;cid=11\n",
      "essaydetails.php?eid=8767&amp;cid=11\n"
     ]
    },
    {
     "name": "stderr",
     "output_type": "stream",
     "text": [
      "\r",
      "                                                                               \r",
      "\r",
      " 82% (47 of 57) |####################     | Elapsed Time: 0:34:56 ETA:  0:07:08"
     ]
    },
    {
     "name": "stdout",
     "output_type": "stream",
     "text": [
      "essaydetails.php?eid=8766&amp;cid=11\n",
      "essaydetails.php?eid=8586&amp;cid=11\n",
      "essaydetails.php?eid=8475&amp;cid=11\n",
      "essaydetails.php?eid=8192&amp;cid=11\n",
      "essaydetails.php?eid=8096&amp;cid=11\n",
      "essaydetails.php?eid=8061&amp;cid=11\n",
      "essaydetails.php?eid=7746&amp;cid=11\n",
      "essaydetails.php?eid=7713&amp;cid=11\n",
      "essaydetails.php?eid=7617&amp;cid=11\n",
      "essaydetails.php?eid=7505&amp;cid=11\n",
      "essaydetails.php?eid=7446&amp;cid=11\n",
      "essaydetails.php?eid=7267&amp;cid=11\n"
     ]
    },
    {
     "name": "stderr",
     "output_type": "stream",
     "text": [
      "\r",
      "                                                                               \r",
      "\r",
      " 84% (48 of 57) |#####################    | Elapsed Time: 0:35:37 ETA:  0:06:25"
     ]
    },
    {
     "name": "stdout",
     "output_type": "stream",
     "text": [
      "essaydetails.php?eid=7249&amp;cid=11\n",
      "essaydetails.php?eid=6482&amp;cid=11\n",
      "essaydetails.php?eid=5960&amp;cid=11\n",
      "essaydetails.php?eid=5749&amp;cid=11\n",
      "essaydetails.php?eid=5557&amp;cid=11\n",
      "essaydetails.php?eid=5488&amp;cid=11\n",
      "essaydetails.php?eid=5442&amp;cid=11\n",
      "essaydetails.php?eid=5397&amp;cid=11\n",
      "essaydetails.php?eid=5394&amp;cid=11\n",
      "essaydetails.php?eid=5376&amp;cid=11\n",
      "essaydetails.php?eid=5367&amp;cid=11\n",
      "essaydetails.php?eid=5320&amp;cid=11\n"
     ]
    },
    {
     "name": "stderr",
     "output_type": "stream",
     "text": [
      "\r",
      "                                                                               \r",
      "\r",
      " 85% (49 of 57) |#####################    | Elapsed Time: 0:36:20 ETA:  0:05:44"
     ]
    },
    {
     "name": "stdout",
     "output_type": "stream",
     "text": [
      "essaydetails.php?eid=5318&amp;cid=11\n",
      "essaydetails.php?eid=5317&amp;cid=11\n",
      "essaydetails.php?eid=5241&amp;cid=11\n",
      "essaydetails.php?eid=5163&amp;cid=11\n",
      "essaydetails.php?eid=5023&amp;cid=11\n",
      "essaydetails.php?eid=4976&amp;cid=11\n",
      "essaydetails.php?eid=4973&amp;cid=11\n",
      "essaydetails.php?eid=4964&amp;cid=11\n",
      "essaydetails.php?eid=2344&amp;cid=11\n",
      "essaydetails.php?eid=2343&amp;cid=11\n",
      "essaydetails.php?eid=2342&amp;cid=11\n",
      "essaydetails.php?eid=2318&amp;cid=11\n"
     ]
    },
    {
     "name": "stderr",
     "output_type": "stream",
     "text": [
      "\r",
      "                                                                               \r",
      "\r",
      " 87% (50 of 57) |#####################    | Elapsed Time: 0:37:03 ETA:  0:05:01"
     ]
    },
    {
     "name": "stdout",
     "output_type": "stream",
     "text": [
      "essaydetails.php?eid=2317&amp;cid=11\n",
      "essaydetails.php?eid=2315&amp;cid=11\n",
      "essaydetails.php?eid=2314&amp;cid=11\n",
      "essaydetails.php?eid=2313&amp;cid=11\n",
      "essaydetails.php?eid=2310&amp;cid=11\n",
      "essaydetails.php?eid=2309&amp;cid=11\n",
      "essaydetails.php?eid=2308&amp;cid=11\n",
      "essaydetails.php?eid=2307&amp;cid=11\n",
      "essaydetails.php?eid=2306&amp;cid=11\n",
      "essaydetails.php?eid=2305&amp;cid=11\n",
      "essaydetails.php?eid=2304&amp;cid=11\n",
      "essaydetails.php?eid=2303&amp;cid=11\n"
     ]
    },
    {
     "name": "stderr",
     "output_type": "stream",
     "text": [
      "\r",
      "                                                                               \r",
      "\r",
      " 89% (51 of 57) |######################   | Elapsed Time: 0:37:47 ETA:  0:04:20"
     ]
    },
    {
     "name": "stdout",
     "output_type": "stream",
     "text": [
      "essaydetails.php?eid=2302&amp;cid=11\n",
      "essaydetails.php?eid=2301&amp;cid=11\n",
      "essaydetails.php?eid=2300&amp;cid=11\n",
      "essaydetails.php?eid=2299&amp;cid=11\n",
      "essaydetails.php?eid=2298&amp;cid=11\n",
      "essaydetails.php?eid=2296&amp;cid=11\n",
      "essaydetails.php?eid=2295&amp;cid=11\n",
      "essaydetails.php?eid=2294&amp;cid=11\n",
      "essaydetails.php?eid=2292&amp;cid=11\n",
      "essaydetails.php?eid=19678&amp;cid=11\n",
      "essaydetails.php?eid=12119&amp;cid=11\n",
      "essaydetails.php?eid=12105&amp;cid=11\n"
     ]
    },
    {
     "name": "stderr",
     "output_type": "stream",
     "text": [
      "\r",
      "                                                                               \r",
      "\r",
      " 91% (52 of 57) |######################   | Elapsed Time: 0:38:34 ETA:  0:03:39"
     ]
    },
    {
     "name": "stdout",
     "output_type": "stream",
     "text": [
      "essaydetails.php?eid=12090&amp;cid=11\n",
      "essaydetails.php?eid=12038&amp;cid=11\n",
      "essaydetails.php?eid=11996&amp;cid=11\n",
      "essaydetails.php?eid=11965&amp;cid=11\n",
      "essaydetails.php?eid=11960&amp;cid=11\n",
      "essaydetails.php?eid=11859&amp;cid=11\n",
      "essaydetails.php?eid=10055&amp;cid=11\n",
      "essaydetails.php?eid=7989&amp;cid=11\n",
      "essaydetails.php?eid=5477&amp;cid=11\n",
      "essaydetails.php?eid=3699&amp;cid=11\n",
      "essaydetails.php?eid=19860&amp;cid=11\n",
      "essaydetails.php?eid=19269&amp;cid=11\n"
     ]
    },
    {
     "name": "stderr",
     "output_type": "stream",
     "text": [
      "\r",
      "                                                                               \r",
      "\r",
      " 92% (53 of 57) |#######################  | Elapsed Time: 0:39:16 ETA:  0:02:54"
     ]
    },
    {
     "name": "stdout",
     "output_type": "stream",
     "text": [
      "essaydetails.php?eid=19132&amp;cid=11\n",
      "essaydetails.php?eid=14388&amp;cid=11\n",
      "essaydetails.php?eid=12044&amp;cid=11\n",
      "essaydetails.php?eid=11957&amp;cid=11\n",
      "essaydetails.php?eid=11849&amp;cid=11\n",
      "essaydetails.php?eid=3763&amp;cid=11\n",
      "essaydetails.php?eid=15999&amp;cid=11\n",
      "essaydetails.php?eid=14296&amp;cid=11\n",
      "essaydetails.php?eid=12104&amp;cid=11\n",
      "essaydetails.php?eid=12011&amp;cid=11\n",
      "essaydetails.php?eid=11958&amp;cid=11\n",
      "essaydetails.php?eid=8788&amp;cid=11\n"
     ]
    },
    {
     "name": "stderr",
     "output_type": "stream",
     "text": [
      "\r",
      "                                                                               \r",
      "\r",
      " 94% (54 of 57) |#######################  | Elapsed Time: 0:40:04 ETA:  0:02:11"
     ]
    },
    {
     "name": "stdout",
     "output_type": "stream",
     "text": [
      "essaydetails.php?eid=1564&amp;cid=11\n",
      "essaydetails.php?eid=13081&amp;cid=11\n",
      "essaydetails.php?eid=12075&amp;cid=11\n",
      "essaydetails.php?eid=12067&amp;cid=11\n",
      "essaydetails.php?eid=12050&amp;cid=11\n",
      "essaydetails.php?eid=9949&amp;cid=11\n",
      "essaydetails.php?eid=7308&amp;cid=11\n",
      "essaydetails.php?eid=11822&amp;cid=11\n",
      "essaydetails.php?eid=10516&amp;cid=11\n",
      "essaydetails.php?eid=7616&amp;cid=11\n",
      "essaydetails.php?eid=14774&amp;cid=11\n",
      "essaydetails.php?eid=12102&amp;cid=11\n"
     ]
    },
    {
     "name": "stderr",
     "output_type": "stream",
     "text": [
      "\r",
      "                                                                               \r",
      "\r",
      " 96% (55 of 57) |######################## | Elapsed Time: 0:40:46 ETA:  0:01:27"
     ]
    },
    {
     "name": "stdout",
     "output_type": "stream",
     "text": [
      "essaydetails.php?eid=11848&amp;cid=11\n",
      "essaydetails.php?eid=11773&amp;cid=11\n",
      "essaydetails.php?eid=5475&amp;cid=11\n",
      "essaydetails.php?eid=16006&amp;cid=11\n",
      "essaydetails.php?eid=16000&amp;cid=11\n",
      "essaydetails.php?eid=12060&amp;cid=11\n",
      "essaydetails.php?eid=11900&amp;cid=11\n",
      "essaydetails.php?eid=13079&amp;cid=11\n",
      "essaydetails.php?eid=12033&amp;cid=11\n",
      "essaydetails.php?eid=12029&amp;cid=11\n",
      "essaydetails.php?eid=12025&amp;cid=11\n",
      "essaydetails.php?eid=12024&amp;cid=11\n"
     ]
    },
    {
     "name": "stderr",
     "output_type": "stream",
     "text": [
      "\r",
      "                                                                               \r",
      "\r",
      " 98% (56 of 57) |######################## | Elapsed Time: 0:41:28 ETA:  0:00:43"
     ]
    },
    {
     "name": "stdout",
     "output_type": "stream",
     "text": [
      "essaydetails.php?eid=11747&amp;cid=11\n",
      "essaydetails.php?eid=11828&amp;cid=11\n",
      "essaydetails.php?eid=11737&amp;cid=11\n",
      "essaydetails.php?eid=12112&amp;cid=11\n",
      "essaydetails.php?eid=13087&amp;cid=11\n",
      "essaydetails.php?eid=11910&amp;cid=11\n"
     ]
    },
    {
     "name": "stderr",
     "output_type": "stream",
     "text": [
      "100% (57 of 57) |#########################| Elapsed Time: 0:41:51 Time: 0:41:51\n"
     ]
    },
    {
     "data": {
      "text/plain": [
       "679"
      ]
     },
     "execution_count": 53,
     "metadata": {},
     "output_type": "execute_result"
    }
   ],
   "source": [
    "# Regex to extract dates from text\n",
    "regex = re.compile(\"\\d+-\\d+-\\d+\")\n",
    "\n",
    "# Find all urls matching certain pattern\n",
    "regex2 = re.compile(\"essaydetails.php?eid=\\d+&amp;cid=\\d+\")\n",
    "# Create a progress bar\n",
    "bar = progressbar.ProgressBar()\n",
    "\n",
    "# Create in index counter\n",
    "index = 1\n",
    "\n",
    "for i in bar(range(1, 58)):\n",
    "    page = requests.get(\"https://www.moqawama.org/catessays.php?cid=118&page={0}\".format(i))\n",
    "    \n",
    "    soup = bs(page.content, \"html.parser\")\n",
    "    divs = soup.find_all(\"div\", {\"class\" : \"thumbnail2 cat\"})\n",
    "\n",
    "    for elem in divs:\n",
    "        elems = str(elem).split(\"\\n\")\n",
    "        url_extension = elems[1][elems[1].index(\"\\\"\")+1:elems[1].index(\">\")-2]\n",
    "        page2 = requests.get(str(\"https://www.moqawama.org/\" + url_extension))\n",
    "        \n",
    "        soup2 = bs(page.content, \"html.parser\")\n",
    "        soup2.find_all(\"div\", {\"class\" : \"thumbnail2 cat\"})\n",
    "\n",
    "        text = soup2.text\n",
    "        t1 = text.index(\"مواقف وتصريحات\")\n",
    "        t2 = text.index(\"Your browser\")\n",
    "        text[t1:t2]\n",
    "    \n",
    "        res = regex.findall(text)\n",
    "        with open(base_url + \"Violent\\\\Hezbollah\\\\Political Activity\\\\{0}d{1}.txt\".format(index, res[0]), \"w\", encoding = \"utf-8\") as file:\n",
    "            file.write(relevant_text)\n",
    "            file.close()\n",
    "        \n",
    "        index += 1\n",
    "    \n",
    "index    "
   ]
  },
  {
   "cell_type": "code",
   "execution_count": 56,
   "metadata": {},
   "outputs": [
    {
     "data": {
      "text/plain": [
       "16"
      ]
     },
     "execution_count": 56,
     "metadata": {},
     "output_type": "execute_result"
    }
   ],
   "source": [
    "# For leader Haj Imad Moughnieh\n",
    "\n",
    "for i in range(1, 3):\n",
    "    page = requests.get(\"https://www.moqawama.org/catessays.php?cid=327&page={0}\".format(i))\n",
    "    \n",
    "    soup = bs(page.content, \"html.parser\")\n",
    "    divs = soup.find_all(\"div\", {\"class\" : \"thumbnail2 cat\"})\n",
    "\n",
    "    for elem in divs:\n",
    "        elems = str(elem).split(\"\\n\")\n",
    "        url_extension = elems[1][elems[1].index(\"\\\"\")+1:elems[1].index(\">\")-2]\n",
    "        page2 = requests.get(str(\"https://www.moqawama.org/\" + url_extension))\n",
    "        \n",
    "        soup2 = bs(page.content, \"html.parser\")\n",
    "        soup2.find_all(\"div\", {\"class\" : \"thumbnail2 cat\"})\n",
    "\n",
    "        text = soup2.text\n",
    "        t1 = text.index(\"مواقف وتصريحات\")\n",
    "        t2 = text.index(\"Your browser\")\n",
    "        text[t1:t2]\n",
    "    \n",
    "        res = regex.findall(text)\n",
    "        with open(base_url + \"Violent\\\\Hezbollah\\\\Leaders\\\\{0}d{1}.txt\".format(index, res[0]), \"w\", encoding = \"utf-8\") as file:\n",
    "            file.write(relevant_text)\n",
    "            file.close()\n",
    "        \n",
    "        index += 1\n",
    "    \n",
    "index   "
   ]
  },
  {
   "cell_type": "code",
   "execution_count": 57,
   "metadata": {},
   "outputs": [
    {
     "data": {
      "text/plain": [
       "40"
      ]
     },
     "execution_count": 57,
     "metadata": {},
     "output_type": "execute_result"
    }
   ],
   "source": [
    "# For leader Abas Al Musawi\n",
    "\n",
    "for i in range(1, 3):\n",
    "    page = requests.get(\"https://www.moqawama.org/catessays.php?cid=245&page={0}\".format(i))\n",
    "    \n",
    "    soup = bs(page.content, \"html.parser\")\n",
    "    divs = soup.find_all(\"div\", {\"class\" : \"thumbnail2 cat\"})\n",
    "\n",
    "    for elem in divs:\n",
    "        elems = str(elem).split(\"\\n\")\n",
    "        url_extension = elems[1][elems[1].index(\"\\\"\")+1:elems[1].index(\">\")-2]\n",
    "        page2 = requests.get(str(\"https://www.moqawama.org/\" + url_extension))\n",
    "        \n",
    "        soup2 = bs(page.content, \"html.parser\")\n",
    "        soup2.find_all(\"div\", {\"class\" : \"thumbnail2 cat\"})\n",
    "\n",
    "        text = soup2.text\n",
    "        t1 = text.index(\"مواقف وتصريحات\")\n",
    "        t2 = text.index(\"Your browser\")\n",
    "        text[t1:t2]\n",
    "    \n",
    "        res = regex.findall(text)\n",
    "        with open(base_url + \"Violent\\\\Hezbollah\\\\Leaders\\\\{0}d{1}.txt\".format(index, res[0]), \"w\", encoding = \"utf-8\") as file:\n",
    "            file.write(relevant_text)\n",
    "            file.close()\n",
    "        \n",
    "        index += 1\n",
    "    \n",
    "index   "
   ]
  },
  {
   "cell_type": "markdown",
   "metadata": {},
   "source": [
    "## ISIS"
   ]
  },
  {
   "cell_type": "code",
   "execution_count": 2,
   "metadata": {
    "collapsed": true
   },
   "outputs": [],
   "source": [
    "# Function for converting PDF to text\n",
    "import io\n",
    "\n",
    "from pdfminer.pdfinterp import PDFResourceManager, PDFPageInterpreter\n",
    "from pdfminer.converter import TextConverter\n",
    "from pdfminer.layout import LAParams\n",
    "from pdfminer.pdfpage import PDFPage\n",
    "\n",
    "\n",
    "def convert_pdf_to_txt(path):\n",
    "    rsrcmgr = PDFResourceManager()\n",
    "    retstr = io.StringIO()\n",
    "    codec = 'utf-8'\n",
    "    laparams = LAParams()\n",
    "    device = TextConverter(rsrcmgr, retstr, codec=codec, laparams=laparams)\n",
    "    fp = open(path, 'rb')\n",
    "    interpreter = PDFPageInterpreter(rsrcmgr, device)\n",
    "    password = \"\"\n",
    "    maxpages = 0\n",
    "    caching = True\n",
    "    pagenos = set()\n",
    "\n",
    "    for page in PDFPage.get_pages(fp, pagenos, maxpages=maxpages,\n",
    "                                  password=password,\n",
    "                                  caching=caching,\n",
    "                                  check_extractable=True):\n",
    "        interpreter.process_page(page)\n",
    "\n",
    "    text = retstr.getvalue()\n",
    "\n",
    "    fp.close()\n",
    "    device.close()\n",
    "    retstr.close()\n",
    "    return text"
   ]
  },
  {
   "cell_type": "code",
   "execution_count": 101,
   "metadata": {},
   "outputs": [
    {
     "data": {
      "text/plain": [
       "['http://jihadology.net/2017/09/28/new-issue-of-the-islamic-states-newsletter-al-naba-99/',\n",
       " 'http://jihadology.net/2017/09/22/new-issue-of-the-islamic-states-newsletter-al-naba-98/',\n",
       " 'http://jihadology.net/2017/09/14/new-issue-of-the-islamic-states-newsletter-al-naba-97/',\n",
       " 'http://jihadology.net/2017/09/07/new-issue-of-the-islamic-states-newsletter-al-naba-96/',\n",
       " 'http://jihadology.net/2017/08/24/new-issue-of-the-islamic-states-newsletter-al-naba-95/',\n",
       " 'http://jihadology.net/2017/08/17/new-issue-of-the-islamic-states-newsletter-al-naba-94/',\n",
       " 'http://jihadology.net/2017/08/10/new-issue-of-the-islamic-states-newsletter-al-naba-93/',\n",
       " 'http://jihadology.net/2017/08/03/new-issue-of-the-islamic-states-newsletter-al-naba-92/',\n",
       " 'http://jihadology.net/2017/07/27/new-issue-of-the-islamic-states-newsletter-al-naba-91/',\n",
       " 'http://jihadology.net/2017/07/20/53394/',\n",
       " 'http://jihadology.net/2017/07/13/new-issue-of-the-islamic-states-newsletter-al-naba-89/',\n",
       " 'http://jihadology.net/2017/07/06/new-issue-of-the-islamic-states-newsletter-al-naba-88/',\n",
       " 'http://jihadology.net/2017/06/29/new-issue-of-the-islamic-states-newsletter-al-naba-87/',\n",
       " 'http://jihadology.net/2017/06/22/new-issue-of-the-islamic-states-newsletter-al-naba-86/',\n",
       " 'http://jihadology.net/2017/06/15/new-issue-of-the-islamic-states-newsletter-al-naba-85/',\n",
       " 'http://jihadology.net/2017/06/08/new-issue-of-the-islamic-states-newsletter-al-naba-84/',\n",
       " 'http://jihadology.net/2017/06/01/new-issue-of-the-islamic-states-newsletter-al-naba-83/',\n",
       " 'http://jihadology.net/2017/05/25/new-issue-of-the-islamic-states-newsletter-al-naba-82/',\n",
       " 'http://jihadology.net/2017/05/18/new-issue-of-the-islamic-states-newsletter-al-naba-81/',\n",
       " 'http://jihadology.net/2017/05/11/new-issue-of-the-islamic-states-newsletter-al-naba-80/',\n",
       " 'http://jihadology.net/2017/05/04/new-issue-of-the-islamic-states-newsletter-al-naba-79/',\n",
       " 'http://jihadology.net/2017/04/27/new-issue-of-the-islamic-states-newsletter-al-naba-78/',\n",
       " 'http://jihadology.net/2017/04/21/new-issue-of-the-islamic-states-newsletter-al-naba-77/',\n",
       " 'http://jihadology.net/2017/04/13/new-issue-of-the-islamic-states-newsletter-al-naba-76/',\n",
       " 'http://jihadology.net/2017/04/06/new-issue-of-the-islamic-states-newsletter-al-naba-75/',\n",
       " 'http://jihadology.net/2017/03/30/new-issue-of-the-islamic-states-newsletter-al-naba-74/',\n",
       " 'http://jihadology.net/2017/03/23/new-issue-of-the-islamic-states-newsletter-al-naba-73/',\n",
       " 'http://jihadology.net/2017/03/16/new-issue-of-the-islamic-states-newsletter-al-naba-72%e2%80%b3/',\n",
       " 'http://jihadology.net/2017/03/09/new-issue-of-the-islamic-states-newsletter-al-naba-71/',\n",
       " 'http://jihadology.net/2017/03/02/new-issue-of-the-islamic-states-newsletter-al-naba-70/',\n",
       " 'http://jihadology.net/2017/02/23/new-issue-of-the-islamic-states-newsletter-al-naba-69/',\n",
       " 'http://jihadology.net/2017/02/16/new-issue-of-the-islamic-states-newsletter-al-naba-68/',\n",
       " 'http://jihadology.net/2017/02/09/new-issue-of-the-islamic-states-newsletter-al-naba-67/',\n",
       " 'http://jihadology.net/2017/02/02/new-issue-of-the-islamic-states-newsletter-al-naba-66/',\n",
       " 'http://jihadology.net/2017/01/26/new-issue-of-the-islamic-states-newsletter-al-naba-65/',\n",
       " 'http://jihadology.net/2017/01/19/new-issue-of-the-islamic-states-newsletter-al-naba-64/',\n",
       " 'http://jihadology.net/2017/01/12/new-issue-of-the-islamic-states-newsletter-al-naba-63/',\n",
       " 'http://jihadology.net/2017/01/05/new-issue-of-the-islamic-states-newsletter-al-naba-62/',\n",
       " 'http://jihadology.net/2016/12/29/new-issue-of-the-islamic-states-newsletter-al-naba-61/',\n",
       " 'http://jihadology.net/2016/12/22/new-issue-of-the-islamic-states-newsletter-al-naba-60/',\n",
       " 'http://jihadology.net/2016/12/09/new-issue-of-the-islamic-states-newsletter-al-naba-58/',\n",
       " 'http://jihadology.net/2016/12/01/new-issue-of-the-islamic-states-newsletter-al-naba-57/',\n",
       " 'http://jihadology.net/2016/11/24/new-issue-of-the-islamic-states-newsletter-al-naba-56/',\n",
       " 'http://jihadology.net/2016/11/17/new-issue-of-the-islamic-states-newsletter-al-naba-55/',\n",
       " 'http://jihadology.net/2016/11/10/new-issue-of-the-islamic-states-newsletter-al-naba-54/',\n",
       " 'http://jihadology.net/2016/11/03/new-issue-of-the-islamic-states-newsletter-al-naba-53/',\n",
       " 'http://jihadology.net/2016/10/27/new-issue-of-the-islamic-states-newsletter-al-naba-52/',\n",
       " 'http://jihadology.net/2016/10/20/new-issue-of-the-islamic-states-newsletter-al-naba-51/',\n",
       " 'http://jihadology.net/2016/10/13/new-issue-of-the-islamic-states-newsletter-al-naba-50/',\n",
       " 'http://jihadology.net/2016/10/06/new-issue-of-the-islamic-states-newsletter-al-naba-49/',\n",
       " 'http://jihadology.net/2016/09/27/new-issue-of-the-islamic-states-newsletter-al-naba-48/',\n",
       " 'http://jihadology.net/2016/09/20/new-issue-of-the-islamic-states-newsletter-al-naba-47/',\n",
       " 'http://jihadology.net/2016/09/06/new-issue-of-the-islamic-states-newsletter-al-naba-46/',\n",
       " 'http://jihadology.net/2016/08/30/new-issue-of-the-islamic-states-newsletter-al-naba-45/',\n",
       " 'http://jihadology.net/2016/08/23/new-issue-of-the-islamic-states-newsletter-al-naba-44/',\n",
       " 'http://jihadology.net/2016/08/16/new-issue-of-the-islamic-states-newsletter-al-naba-43/',\n",
       " 'http://jihadology.net/2016/08/09/new-issue-of-the-islamic-states-newsletter-al-naba-42/',\n",
       " 'http://jihadology.net/2016/08/02/new-issue-of-the-islamic-states-newsletter-al-naba-41/',\n",
       " 'http://jihadology.net/2016/07/26/new-issue-of-the-islamic-states-newsletter-al-naba-40/',\n",
       " 'http://jihadology.net/2016/07/19/new-issue-of-the-islamic-states-newsletter-al-naba-39/',\n",
       " 'http://jihadology.net/2016/07/12/new-issue-of-the-islamic-states-newsletter-al-naba-38/',\n",
       " 'http://jihadology.net/2016/06/28/new-issue-of-the-islamic-states-newsletter-al-naba-37/',\n",
       " 'http://jihadology.net/2016/06/21/new-issue-of-the-islamic-states-newsletter-al-naba-36/',\n",
       " 'http://jihadology.net/2016/06/14/new-issue-of-the-islamic-states-newsletter-al-naba-35/',\n",
       " 'http://jihadology.net/2016/06/07/new-issue-of-the-islamic-states-newsletter-al-naba-34/',\n",
       " 'http://jihadology.net/2016/05/31/new-issue-of-the-islamic-states-newsletter-al-naba-33/',\n",
       " 'http://jihadology.net/2016/05/24/new-issue-of-the-islamic-states-newsletter-al-naba-32/',\n",
       " 'http://jihadology.net/2016/05/17/new-issue-of-the-islamic-states-newsletter-al-naba-31/',\n",
       " 'http://jihadology.net/2016/05/10/new-issue-of-the-islamic-states-newsletter-al-naba-30/',\n",
       " 'http://jihadology.net/2016/05/03/new-issue-of-the-islamic-states-newsletter-al-naba-29/',\n",
       " 'http://jihadology.net/2016/04/26/new-issue-of-the-islamic-states-newsletter-al-naba-28/',\n",
       " 'http://jihadology.net/2016/04/19/new-issue-of-the-islamic-states-newsletter-al-naba-27/',\n",
       " 'http://jihadology.net/2016/04/12/new-issue-of-the-islamic-states-newsletter-al-naba-26%e2%80%b3/',\n",
       " 'http://jihadology.net/2016/04/05/new-issue-of-the-islamic-states-newsletter-al-naba-25/',\n",
       " 'http://jihadology.net/2016/03/29/new-issue-of-the-islamic-states-newsletter-al-naba-24/',\n",
       " 'http://jihadology.net/2016/03/22/new-issue-of-the-islamic-states-newsletter-al-naba-23/',\n",
       " 'http://jihadology.net/2016/03/15/new-issue-of-the-islamic-states-newsletter-al-naba-22/',\n",
       " 'http://jihadology.net/2016/03/08/new-issue-of-the-islamic-states-newsletter-al-naba-21/',\n",
       " 'http://jihadology.net/2016/03/01/new-issue-of-the-islamic-states-newsletter-al-naba-20/',\n",
       " 'http://jihadology.net/2016/02/23/new-issue-of-the-islamic-states-newsletter-al-naba-19/',\n",
       " 'http://jihadology.net/2016/02/16/new-issue-of-the-islamic-states-newsletter-al-naba-18/',\n",
       " 'http://jihadology.net/2016/02/09/new-issue-of-the-islamic-states-newsletter-al-naba-17%e2%80%b3/',\n",
       " 'http://jihadology.net/2016/02/02/new-issue-of-the-islamic-states-newsletter-al-niba-16/',\n",
       " 'http://jihadology.net/2016/01/26/new-issue-of-the-islamic-states-newsletter-al-niba-15/',\n",
       " 'http://jihadology.net/2016/01/19/new-issue-of-the-islamic-states-newsletter-al-niba-14/',\n",
       " 'http://jihadology.net/2016/01/12/new-issue-of-the-islamic-states-newsletter-al-niba-13/',\n",
       " 'http://jihadology.net/2016/01/05/new-issue-of-the-islamic-states-newsletter-al-niba-12/',\n",
       " 'http://jihadology.net/2015/12/29/new-issue-of-the-islamic-states-newsletter-al-niba-11/',\n",
       " 'http://jihadology.net/2015/12/19/new-issue-of-the-islamic-states-newsletter-al-niba-10/']"
      ]
     },
     "execution_count": 101,
     "metadata": {},
     "output_type": "execute_result"
    }
   ],
   "source": [
    "# Get all of the pdf urls\n",
    "base_url_isis = requests.get(\"http://jihadology.net/2017/10/12/new-issue-of-the-islamic-states-newsletter-al-naba-101/\")\n",
    "soup = bs(base_url_isis.content, \"html.parser\")\n",
    "\n",
    "relevant_text = soup.find_all(\"div\", {\"class\": \"entry-content\"})\n",
    "t = str(relevant_text[0])\n",
    "urls = []\n",
    "for elem in t.split(\",\"):\n",
    "    if \"=\" in elem and \">\" in elem:\n",
    "        i1 = elem.index(\"=\")\n",
    "        i2 = elem.index(\">\")\n",
    "        if \"jihadology\" in elem[i1+2:i2-1]:\n",
    "            urls.append(elem[i1+2:i2-1])\n",
    "            \n",
    "urls"
   ]
  },
  {
   "cell_type": "code",
   "execution_count": 114,
   "metadata": {},
   "outputs": [
    {
     "name": "stdout",
     "output_type": "stream",
     "text": [
      "2\n",
      "3\n",
      "4\n",
      "5\n",
      "6\n",
      "7\n",
      "8\n",
      "9\n",
      "10\n",
      "11\n",
      "12\n",
      "13\n",
      "14\n",
      "15\n",
      "16\n",
      "17\n",
      "18\n",
      "19\n",
      "20\n",
      "21\n",
      "22\n",
      "23\n",
      "24\n",
      "25\n",
      "26\n",
      "27\n",
      "28\n",
      "29\n",
      "30\n",
      "31\n",
      "32\n",
      "33\n",
      "34\n",
      "35\n",
      "36\n",
      "37\n",
      "38\n",
      "39\n",
      "40\n",
      "41\n",
      "42\n",
      "43\n",
      "44\n",
      "45\n",
      "46\n",
      "47\n",
      "48\n",
      "49\n",
      "50\n",
      "51\n",
      "52\n",
      "53\n",
      "54\n",
      "55\n",
      "56\n"
     ]
    },
    {
     "ename": "PDFSyntaxError",
     "evalue": "No /Root object! - Is this really a PDF?",
     "output_type": "error",
     "traceback": [
      "\u001b[1;31m---------------------------------------------------------------------------\u001b[0m",
      "\u001b[1;31mPDFSyntaxError\u001b[0m                            Traceback (most recent call last)",
      "\u001b[1;32m<ipython-input-114-e0c24c3af4a7>\u001b[0m in \u001b[0;36m<module>\u001b[1;34m()\u001b[0m\n\u001b[0;32m     31\u001b[0m             \u001b[1;32mtry\u001b[0m\u001b[1;33m:\u001b[0m\u001b[1;33m\u001b[0m\u001b[0m\n\u001b[0;32m     32\u001b[0m                 \u001b[1;31m# Convert temporary file to text and write to file\u001b[0m\u001b[1;33m\u001b[0m\u001b[1;33m\u001b[0m\u001b[0m\n\u001b[1;32m---> 33\u001b[1;33m                 \u001b[0mpdf_text\u001b[0m \u001b[1;33m=\u001b[0m \u001b[0mconvert_pdf_to_txt\u001b[0m\u001b[1;33m(\u001b[0m\u001b[1;34m\"{0}.pdf\"\u001b[0m\u001b[1;33m.\u001b[0m\u001b[0mformat\u001b[0m\u001b[1;33m(\u001b[0m\u001b[0mindex\u001b[0m\u001b[1;33m)\u001b[0m\u001b[1;33m)\u001b[0m\u001b[1;33m\u001b[0m\u001b[0m\n\u001b[0m\u001b[0;32m     34\u001b[0m                 \u001b[1;32mwith\u001b[0m \u001b[0mopen\u001b[0m\u001b[1;33m(\u001b[0m\u001b[0mbase_url\u001b[0m \u001b[1;33m+\u001b[0m \u001b[1;34m\"Violent\\\\ISIS\\\\{0}.txt\"\u001b[0m\u001b[1;33m.\u001b[0m\u001b[0mformat\u001b[0m\u001b[1;33m(\u001b[0m\u001b[0mindex\u001b[0m\u001b[1;33m)\u001b[0m\u001b[1;33m,\u001b[0m \u001b[1;34m\"w\"\u001b[0m\u001b[1;33m,\u001b[0m \u001b[0mencoding\u001b[0m \u001b[1;33m=\u001b[0m \u001b[1;34m\"utf-8\"\u001b[0m\u001b[1;33m)\u001b[0m \u001b[1;32mas\u001b[0m \u001b[0mfile2\u001b[0m\u001b[1;33m:\u001b[0m\u001b[1;33m\u001b[0m\u001b[0m\n\u001b[0;32m     35\u001b[0m                     \u001b[0mfile2\u001b[0m\u001b[1;33m.\u001b[0m\u001b[0mwrite\u001b[0m\u001b[1;33m(\u001b[0m\u001b[0mpdf_text\u001b[0m\u001b[1;33m)\u001b[0m\u001b[1;33m\u001b[0m\u001b[0m\n",
      "\u001b[1;32m<ipython-input-58-1a7245f4d813>\u001b[0m in \u001b[0;36mconvert_pdf_to_txt\u001b[1;34m(path)\u001b[0m\n\u001b[0;32m     24\u001b[0m                                   \u001b[0mpassword\u001b[0m\u001b[1;33m=\u001b[0m\u001b[0mpassword\u001b[0m\u001b[1;33m,\u001b[0m\u001b[1;33m\u001b[0m\u001b[0m\n\u001b[0;32m     25\u001b[0m                                   \u001b[0mcaching\u001b[0m\u001b[1;33m=\u001b[0m\u001b[0mcaching\u001b[0m\u001b[1;33m,\u001b[0m\u001b[1;33m\u001b[0m\u001b[0m\n\u001b[1;32m---> 26\u001b[1;33m                                   check_extractable=True):\n\u001b[0m\u001b[0;32m     27\u001b[0m         \u001b[0minterpreter\u001b[0m\u001b[1;33m.\u001b[0m\u001b[0mprocess_page\u001b[0m\u001b[1;33m(\u001b[0m\u001b[0mpage\u001b[0m\u001b[1;33m)\u001b[0m\u001b[1;33m\u001b[0m\u001b[0m\n\u001b[0;32m     28\u001b[0m \u001b[1;33m\u001b[0m\u001b[0m\n",
      "\u001b[1;32m~\\Anaconda3\\envs\\capstone\\lib\\site-packages\\pdfminer\\pdfpage.py\u001b[0m in \u001b[0;36mget_pages\u001b[1;34m(klass, fp, pagenos, maxpages, password, caching, check_extractable)\u001b[0m\n\u001b[0;32m    127\u001b[0m         \u001b[0mparser\u001b[0m \u001b[1;33m=\u001b[0m \u001b[0mPDFParser\u001b[0m\u001b[1;33m(\u001b[0m\u001b[0mfp\u001b[0m\u001b[1;33m)\u001b[0m\u001b[1;33m\u001b[0m\u001b[0m\n\u001b[0;32m    128\u001b[0m         \u001b[1;31m# Create a PDF document object that stores the document structure.\u001b[0m\u001b[1;33m\u001b[0m\u001b[1;33m\u001b[0m\u001b[0m\n\u001b[1;32m--> 129\u001b[1;33m         \u001b[0mdoc\u001b[0m \u001b[1;33m=\u001b[0m \u001b[0mPDFDocument\u001b[0m\u001b[1;33m(\u001b[0m\u001b[0mparser\u001b[0m\u001b[1;33m,\u001b[0m \u001b[0mpassword\u001b[0m\u001b[1;33m=\u001b[0m\u001b[0mpassword\u001b[0m\u001b[1;33m,\u001b[0m \u001b[0mcaching\u001b[0m\u001b[1;33m=\u001b[0m\u001b[0mcaching\u001b[0m\u001b[1;33m)\u001b[0m\u001b[1;33m\u001b[0m\u001b[0m\n\u001b[0m\u001b[0;32m    130\u001b[0m         \u001b[1;31m# Check if the document allows text extraction. If not, abort.\u001b[0m\u001b[1;33m\u001b[0m\u001b[1;33m\u001b[0m\u001b[0m\n\u001b[0;32m    131\u001b[0m         \u001b[1;32mif\u001b[0m \u001b[0mcheck_extractable\u001b[0m \u001b[1;32mand\u001b[0m \u001b[1;32mnot\u001b[0m \u001b[0mdoc\u001b[0m\u001b[1;33m.\u001b[0m\u001b[0mis_extractable\u001b[0m\u001b[1;33m:\u001b[0m\u001b[1;33m\u001b[0m\u001b[0m\n",
      "\u001b[1;32m~\\Anaconda3\\envs\\capstone\\lib\\site-packages\\pdfminer\\pdfdocument.py\u001b[0m in \u001b[0;36m__init__\u001b[1;34m(self, parser, password, caching, fallback)\u001b[0m\n\u001b[0;32m    583\u001b[0m                 \u001b[1;32mbreak\u001b[0m\u001b[1;33m\u001b[0m\u001b[0m\n\u001b[0;32m    584\u001b[0m         \u001b[1;32melse\u001b[0m\u001b[1;33m:\u001b[0m\u001b[1;33m\u001b[0m\u001b[0m\n\u001b[1;32m--> 585\u001b[1;33m             \u001b[1;32mraise\u001b[0m \u001b[0mPDFSyntaxError\u001b[0m\u001b[1;33m(\u001b[0m\u001b[1;34m'No /Root object! - Is this really a PDF?'\u001b[0m\u001b[1;33m)\u001b[0m\u001b[1;33m\u001b[0m\u001b[0m\n\u001b[0m\u001b[0;32m    586\u001b[0m         \u001b[1;32mif\u001b[0m \u001b[0mself\u001b[0m\u001b[1;33m.\u001b[0m\u001b[0mcatalog\u001b[0m\u001b[1;33m.\u001b[0m\u001b[0mget\u001b[0m\u001b[1;33m(\u001b[0m\u001b[1;34m'Type'\u001b[0m\u001b[1;33m)\u001b[0m \u001b[1;32mis\u001b[0m \u001b[1;32mnot\u001b[0m \u001b[0mLITERAL_CATALOG\u001b[0m\u001b[1;33m:\u001b[0m\u001b[1;33m\u001b[0m\u001b[0m\n\u001b[0;32m    587\u001b[0m             \u001b[1;32mif\u001b[0m \u001b[0msettings\u001b[0m\u001b[1;33m.\u001b[0m\u001b[0mSTRICT\u001b[0m\u001b[1;33m:\u001b[0m\u001b[1;33m\u001b[0m\u001b[0m\n",
      "\u001b[1;31mPDFSyntaxError\u001b[0m: No /Root object! - Is this really a PDF?"
     ]
    }
   ],
   "source": [
    "import os\n",
    "\n",
    "p = soup.find_all(\"p\")\n",
    "\n",
    "# Index to be used for naming files\n",
    "index = 1\n",
    "\n",
    "# Using base urls, go to relevant url page\n",
    "for url in urls:\n",
    "    page2 = requests.get(url)\n",
    "    soup2 = bs(page2.content, \"html.parser\")\n",
    "    \n",
    "    p = soup2.find_all(\"p\")\n",
    "    \n",
    "    # Find the actual pdf URL\n",
    "    for p1 in p:\n",
    "        if \"Click\" in str(p1):\n",
    "            t = str(p1).replace(\"<p>\", \"\")\n",
    "            i1 = t.index(\"=\")\n",
    "            i2 = t.index(\">\")\n",
    "            \n",
    "            # Get the actual pdf\n",
    "            pdf_url = t[i1 + 2:i2 - 1]\n",
    "            pdf = requests.get(pdf_url).content\n",
    "\n",
    "            # Write to a temporary file\n",
    "            with open(\"{0}.pdf\".format(index), \"wb\") as file:\n",
    "                file.write(pdf)\n",
    "                file.close()\n",
    "\n",
    "            try:\n",
    "                # Convert temporary file to text and write to file\n",
    "                pdf_text = convert_pdf_to_txt(\"{0}.pdf\".format(index))\n",
    "                with open(base_url + \"Violent\\\\ISIS\\\\{0}.txt\".format(index), \"w\", encoding = \"utf-8\") as file2:\n",
    "                    file2.write(pdf_text)\n",
    "                    file2.close()\n",
    "                    \n",
    "                index += 1\n",
    "                print(index)\n",
    "            except ValueError:\n",
    "                continue\n",
    "                "
   ]
  },
  {
   "cell_type": "markdown",
   "metadata": {},
   "source": [
    "## Ansar Al Sharia"
   ]
  },
  {
   "cell_type": "code",
   "execution_count": 3,
   "metadata": {},
   "outputs": [
    {
     "data": {
      "text/plain": [
       "['http://jihadology.net/2017/07/08/new-issue-of-an%e1%b9%a3ar-al-shariah-in-the-arabian-peninsulas-newspaper-al-masra-55/',\n",
       " 'http://jihadology.net/2017/07/01/new-issue-of-an%e1%b9%a3ar-al-shariah-in-the-arabian-peninsulas-newspaper-al-masra-54/',\n",
       " 'http://jihadology.net/2017/06/20/new-issue-of-an%e1%b9%a3ar-al-shariah-in-the-arabian-peninsulas-newspaper-al-masra-53/',\n",
       " 'http://jihadology.net/2017/06/13/new-issue-of-an%e1%b9%a3ar-al-shariah-in-the-arabian-peninsulas-newspaper-al-masra-52/',\n",
       " 'http://jihadology.net/2017/05/31/new-issue-of-an%e1%b9%a3ar-al-shariah-in-the-arabian-peninsulas-newspaper-al-masra-51/',\n",
       " 'http://jihadology.net/2017/05/22/new-issue-of-an%e1%b9%a3ar-al-shariah-in-the-arabian-peninsulas-newspaper-al-masra-50/',\n",
       " 'http://jihadology.net/2017/05/14/new-issue-of-an%e1%b9%a3ar-al-shariah-in-the-arabian-peninsulas-newspaper-al-masra-49/',\n",
       " 'http://jihadology.net/2017/05/01/new-issue-of-an%e1%b9%a3ar-al-shariah-in-the-arabian-peninsulas-newspaper-al-masra-48/',\n",
       " 'http://jihadology.net/2017/04/24/new-issue-of-an%e1%b9%a3ar-al-shariah-in-the-arabian-peninsulas-newspaper-al-masra-47/',\n",
       " 'http://jihadology.net/2017/04/14/new-issue-of-an%e1%b9%a3ar-al-shariah-in-the-arabian-peninsulas-newspaper-al-masra-46/',\n",
       " 'http://jihadology.net/2017/04/03/new-issue-of-an%e1%b9%a3ar-al-shariah-in-the-arabian-peninsulas-newspaper-al-masra-45/',\n",
       " 'http://jihadology.net/2017/03/23/new-issue-of-an%e1%b9%a3ar-al-shariah-in-the-arabian-peninsulas-newspaper-al-masra-44/',\n",
       " 'http://jihadology.net/2017/03/17/new-issue-of-an%e1%b9%a3ar-al-shariah-in-the-arabian-peninsulas-newspaper-al-masra-43/',\n",
       " 'http://jihadology.net/2017/03/06/new-issue-of-an%e1%b9%a3ar-al-shariah-in-the-arabian-peninsulas-newspaper-al-masra-42/',\n",
       " 'http://jihadology.net/2017/02/27/new-issue-of-an%e1%b9%a3ar-al-shariah-in-the-arabian-peninsulas-newspaper-al-masra-41/',\n",
       " 'http://jihadology.net/2017/02/19/new-issue-of-an%e1%b9%a3ar-al-shariah-in-the-arabian-peninsulas-newspaper-al-masra-40/',\n",
       " 'http://jihadology.net/2017/02/08/new-issue-of-an%e1%b9%a3ar-al-shariah-in-the-arabian-peninsulas-newspaper-al-masra-39/',\n",
       " 'http://jihadology.net/2017/02/01/new-issue-of-an%e1%b9%a3ar-al-shariah-in-the-arabian-peninsulas-newspaper-al-masra-38/',\n",
       " 'http://jihadology.net/2017/01/24/new-issue-of-an%e1%b9%a3ar-al-shariah-in-the-arabian-peninsulas-newspaper-al-masra-37/',\n",
       " 'http://jihadology.net/2017/01/17/new-issue-of-an%e1%b9%a3ar-al-shariah-in-the-arabian-peninsulas-newspaper-al-masra-36/',\n",
       " 'http://jihadology.net/2017/01/07/new-issue-of-an%e1%b9%a3ar-al-shariah-in-the-arabian-peninsulas-newspaper-al-masra-35/',\n",
       " 'http://jihadology.net/2016/12/22/new-issue-of-an%e1%b9%a3ar-al-shariah-in-the-arabian-peninsulas-newspaper-al-masra-34/',\n",
       " 'http://jihadology.net/2016/12/13/new-issue-of-an%e1%b9%a3ar-al-shariah-in-the-arabian-peninsulas-newspaper-al-masra-33/',\n",
       " 'http://jihadology.net/2016/12/02/new-issue-of-an%e1%b9%a3ar-al-shariah-in-the-arabian-peninsulas-newspaper-al-masra-32/',\n",
       " 'http://jihadology.net/2016/11/26/new-issue-of-an%e1%b9%a3ar-al-shariah-in-the-arabian-peninsulas-newspaper-al-masra-31/',\n",
       " 'http://jihadology.net/2016/11/18/new-issue-of-an%e1%b9%a3ar-al-shariah-in-the-arabian-peninsulas-newspaper-al-masra-30/',\n",
       " 'http://jihadology.net/2016/11/11/new-issue-of-an%e1%b9%a3ar-al-shariah-in-the-arabian-peninsulas-newspaper-al-masra-29/',\n",
       " 'http://jihadology.net/2016/11/02/new-issue-of-an%e1%b9%a3ar-al-shariah-in-the-arabian-peninsulas-newspaper-al-masra-28/',\n",
       " 'http://jihadology.net/2016/10/25/new-issue-of-an%e1%b9%a3ar-al-shariah-in-the-arabian-peninsulas-newspaper-al-masra-27/',\n",
       " 'http://jihadology.net/2016/10/13/new-issue-of-an%e1%b9%a3ar-al-shariah-in-the-arabian-peninsulas-newspaper-al-masra-26/',\n",
       " 'http://jihadology.net/2016/10/03/new-issue-of-an%e1%b9%a3ar-al-shariah-in-the-arabian-peninsulas-newspaper-al-masra-25/',\n",
       " 'http://jihadology.net/2016/09/26/new-issue-of-an%e1%b9%a3ar-al-shariah-in-the-arabian-peninsulas-newspaper-al-masra-24/',\n",
       " 'http://jihadology.net/2016/09/19/new-issue-of-an%e1%b9%a3ar-al-shariah-in-the-arabian-peninsulas-newspaper-al-masra-23/',\n",
       " 'http://jihadology.net/2016/09/11/new-issue-of-an%e1%b9%a3ar-al-shariah-in-the-arabian-peninsulas-newspaper-al-masra-22/',\n",
       " 'http://jihadology.net/2016/09/04/new-issue-of-an%e1%b9%a3ar-al-shariah-in-the-arabian-peninsulas-newspaper-al-masra-21/',\n",
       " 'http://jihadology.net/2016/08/26/new-issue-of-an%e1%b9%a3ar-al-shariah-in-the-arabian-peninsulas-newspaper-al-masra-20/',\n",
       " 'http://jihadology.net/2016/08/13/new-issue-of-an%e1%b9%a3ar-al-shariah-in-the-arabian-peninsulas-newspaper-al-masra-19/',\n",
       " 'http://jihadology.net/2016/08/08/new-issue-of-an%e1%b9%a3ar-al-shariah-in-the-arabian-peninsulas-newspaper-al-masra-18/',\n",
       " 'http://jihadology.net/2016/07/26/new-issue-of-an%e1%b9%a3ar-al-shariah-in-the-arabian-peninsulas-newspaper-al-masra-17/',\n",
       " 'http://jihadology.net/2016/07/07/new-issue-of-an%e1%b9%a3ar-al-shariah-in-the-arabian-peninsulas-newspaper-al-masra-15/',\n",
       " 'http://jihadology.net/2016/06/27/new-issue-of-an%e1%b9%a3ar-al-shariah-in-the-arabian-peninsulas-newspaper-al-masra-14/',\n",
       " 'http://jihadology.net/2016/06/13/new-issue-of-an%e1%b9%a3ar-al-shariah-in-the-arabian-peninsulas-newspaper-al-masra-13/',\n",
       " 'http://jihadology.net/2016/05/29/new-issue-of-an%E1%B9%A3ar-al-shariah-in-the-arabian-peninsulas-newspaper-al-masra-12/',\n",
       " 'http://jihadology.net/2016/05/13/new-issue-of-an%e1%b9%a3ar-al-shariah-in-the-arabian-peninsulas-newspaper-al-masra-11/',\n",
       " 'http://jihadology.net/2016/04/16/new-issue-of-an%e1%b9%a3ar-al-shariah-in-the-arabian-peninsulas-newspaper-al-masra-10/',\n",
       " 'http://jihadology.net/2016/04/05/new-issue-of-an%e1%b9%a3ar-al-shariah-in-the-arabian-peninsulas-newspaper-al-masra-9/',\n",
       " 'http://jihadology.net/2016/03/26/new-issue-of-an%e1%b9%a3ar-al-shariah-in-the-arabian-peninsulas-newspaper-al-masra-8/',\n",
       " 'http://jihadology.net/2016/03/15/new-issue-of-an%e1%b9%a3ar-al-shariah-in-the-arabian-peninsulas-newspaper-al-masra-7/',\n",
       " 'http://jihadology.net/2016/03/05/new-issue-of-an%e1%b9%a3ar-al-shariah-in-the-arabian-peninsulas-newspaper-al-masra-6/',\n",
       " 'http://jihadology.net/2016/02/20/new-issue-of-an%e1%b9%a3ar-al-shariah-in-the-arabian-peninsulas-newspaper-al-masra-5/',\n",
       " 'http://jihadology.net/2016/02/09/new-issue-of-an%e1%b9%a3ar-al-shariah-in-the-arabian-peninsulas-newspaper-al-masra-4/',\n",
       " 'http://jihadology.net/2016/01/31/new-issue-of-an%e1%b9%a3ar-al-shariah-in-the-arabian-peninsulas-newspaper-al-masra-3/']"
      ]
     },
     "execution_count": 3,
     "metadata": {},
     "output_type": "execute_result"
    }
   ],
   "source": [
    "# Get all of the pdf urls\n",
    "base_url_isis = requests.get(\"http://jihadology.net/2017/07/25/new-issue-of-an%E1%B9%A3ar-al-shariah-in-the-arabian-peninsulas-newspaper-al-masra-57/\")\n",
    "soup = bs(base_url_isis.content, \"html.parser\")\n",
    "\n",
    "relevant_text = soup.find_all(\"div\", {\"class\": \"entry-content\"})\n",
    "t = str(relevant_text[0])\n",
    "urls = []\n",
    "for elem in t.split(\",\"):\n",
    "    if \"=\" in elem and \">\" in elem:\n",
    "        i1 = elem.index(\"=\")\n",
    "        i2 = elem.index(\">\")\n",
    "        if \"jihadology\" in elem[i1+2:i2-1]:\n",
    "            urls.append(elem[i1+2:i2-1])\n",
    "            \n",
    "urls"
   ]
  },
  {
   "cell_type": "code",
   "execution_count": 6,
   "metadata": {},
   "outputs": [
    {
     "name": "stdout",
     "output_type": "stream",
     "text": [
      "2\n",
      "3\n",
      "4\n",
      "5\n",
      "6\n",
      "7\n",
      "8\n",
      "9\n",
      "10\n",
      "11\n",
      "12\n",
      "13\n",
      "14\n",
      "15\n",
      "16\n",
      "17\n",
      "18\n",
      "19\n",
      "20\n",
      "21\n",
      "22\n",
      "23\n",
      "24\n",
      "25\n",
      "26\n",
      "27\n",
      "28\n",
      "29\n",
      "30\n",
      "31\n",
      "32\n",
      "33\n",
      "34\n",
      "35\n",
      "36\n",
      "37\n",
      "38\n",
      "39\n",
      "40\n",
      "41\n",
      "42\n",
      "43\n",
      "44\n",
      "45\n",
      "46\n"
     ]
    },
    {
     "ename": "PDFSyntaxError",
     "evalue": "No /Root object! - Is this really a PDF?",
     "output_type": "error",
     "traceback": [
      "\u001b[1;31m---------------------------------------------------------------------------\u001b[0m",
      "\u001b[1;31mPDFSyntaxError\u001b[0m                            Traceback (most recent call last)",
      "\u001b[1;32m<ipython-input-6-796863d093f0>\u001b[0m in \u001b[0;36m<module>\u001b[1;34m()\u001b[0m\n\u001b[0;32m     31\u001b[0m             \u001b[1;32mtry\u001b[0m\u001b[1;33m:\u001b[0m\u001b[1;33m\u001b[0m\u001b[0m\n\u001b[0;32m     32\u001b[0m                 \u001b[1;31m# Convert temporary file to text and write to file\u001b[0m\u001b[1;33m\u001b[0m\u001b[1;33m\u001b[0m\u001b[0m\n\u001b[1;32m---> 33\u001b[1;33m                 \u001b[0mpdf_text\u001b[0m \u001b[1;33m=\u001b[0m \u001b[0mconvert_pdf_to_txt\u001b[0m\u001b[1;33m(\u001b[0m\u001b[1;34m\"{0}.pdf\"\u001b[0m\u001b[1;33m.\u001b[0m\u001b[0mformat\u001b[0m\u001b[1;33m(\u001b[0m\u001b[0mindex\u001b[0m\u001b[1;33m)\u001b[0m\u001b[1;33m)\u001b[0m\u001b[1;33m\u001b[0m\u001b[0m\n\u001b[0m\u001b[0;32m     34\u001b[0m                 \u001b[1;32mwith\u001b[0m \u001b[0mopen\u001b[0m\u001b[1;33m(\u001b[0m\u001b[0mbase_url\u001b[0m \u001b[1;33m+\u001b[0m \u001b[1;34m\"Violent\\\\Ansar Al Sharia\\\\{0}.txt\"\u001b[0m\u001b[1;33m.\u001b[0m\u001b[0mformat\u001b[0m\u001b[1;33m(\u001b[0m\u001b[0mindex\u001b[0m\u001b[1;33m)\u001b[0m\u001b[1;33m,\u001b[0m \u001b[1;34m\"w\"\u001b[0m\u001b[1;33m,\u001b[0m \u001b[0mencoding\u001b[0m \u001b[1;33m=\u001b[0m \u001b[1;34m\"utf-8\"\u001b[0m\u001b[1;33m)\u001b[0m \u001b[1;32mas\u001b[0m \u001b[0mfile2\u001b[0m\u001b[1;33m:\u001b[0m\u001b[1;33m\u001b[0m\u001b[0m\n\u001b[0;32m     35\u001b[0m                     \u001b[0mfile2\u001b[0m\u001b[1;33m.\u001b[0m\u001b[0mwrite\u001b[0m\u001b[1;33m(\u001b[0m\u001b[0mpdf_text\u001b[0m\u001b[1;33m)\u001b[0m\u001b[1;33m\u001b[0m\u001b[0m\n",
      "\u001b[1;32m<ipython-input-2-1a7245f4d813>\u001b[0m in \u001b[0;36mconvert_pdf_to_txt\u001b[1;34m(path)\u001b[0m\n\u001b[0;32m     24\u001b[0m                                   \u001b[0mpassword\u001b[0m\u001b[1;33m=\u001b[0m\u001b[0mpassword\u001b[0m\u001b[1;33m,\u001b[0m\u001b[1;33m\u001b[0m\u001b[0m\n\u001b[0;32m     25\u001b[0m                                   \u001b[0mcaching\u001b[0m\u001b[1;33m=\u001b[0m\u001b[0mcaching\u001b[0m\u001b[1;33m,\u001b[0m\u001b[1;33m\u001b[0m\u001b[0m\n\u001b[1;32m---> 26\u001b[1;33m                                   check_extractable=True):\n\u001b[0m\u001b[0;32m     27\u001b[0m         \u001b[0minterpreter\u001b[0m\u001b[1;33m.\u001b[0m\u001b[0mprocess_page\u001b[0m\u001b[1;33m(\u001b[0m\u001b[0mpage\u001b[0m\u001b[1;33m)\u001b[0m\u001b[1;33m\u001b[0m\u001b[0m\n\u001b[0;32m     28\u001b[0m \u001b[1;33m\u001b[0m\u001b[0m\n",
      "\u001b[1;32m~\\Anaconda3\\envs\\capstone\\lib\\site-packages\\pdfminer\\pdfpage.py\u001b[0m in \u001b[0;36mget_pages\u001b[1;34m(klass, fp, pagenos, maxpages, password, caching, check_extractable)\u001b[0m\n\u001b[0;32m    127\u001b[0m         \u001b[0mparser\u001b[0m \u001b[1;33m=\u001b[0m \u001b[0mPDFParser\u001b[0m\u001b[1;33m(\u001b[0m\u001b[0mfp\u001b[0m\u001b[1;33m)\u001b[0m\u001b[1;33m\u001b[0m\u001b[0m\n\u001b[0;32m    128\u001b[0m         \u001b[1;31m# Create a PDF document object that stores the document structure.\u001b[0m\u001b[1;33m\u001b[0m\u001b[1;33m\u001b[0m\u001b[0m\n\u001b[1;32m--> 129\u001b[1;33m         \u001b[0mdoc\u001b[0m \u001b[1;33m=\u001b[0m \u001b[0mPDFDocument\u001b[0m\u001b[1;33m(\u001b[0m\u001b[0mparser\u001b[0m\u001b[1;33m,\u001b[0m \u001b[0mpassword\u001b[0m\u001b[1;33m=\u001b[0m\u001b[0mpassword\u001b[0m\u001b[1;33m,\u001b[0m \u001b[0mcaching\u001b[0m\u001b[1;33m=\u001b[0m\u001b[0mcaching\u001b[0m\u001b[1;33m)\u001b[0m\u001b[1;33m\u001b[0m\u001b[0m\n\u001b[0m\u001b[0;32m    130\u001b[0m         \u001b[1;31m# Check if the document allows text extraction. If not, abort.\u001b[0m\u001b[1;33m\u001b[0m\u001b[1;33m\u001b[0m\u001b[0m\n\u001b[0;32m    131\u001b[0m         \u001b[1;32mif\u001b[0m \u001b[0mcheck_extractable\u001b[0m \u001b[1;32mand\u001b[0m \u001b[1;32mnot\u001b[0m \u001b[0mdoc\u001b[0m\u001b[1;33m.\u001b[0m\u001b[0mis_extractable\u001b[0m\u001b[1;33m:\u001b[0m\u001b[1;33m\u001b[0m\u001b[0m\n",
      "\u001b[1;32m~\\Anaconda3\\envs\\capstone\\lib\\site-packages\\pdfminer\\pdfdocument.py\u001b[0m in \u001b[0;36m__init__\u001b[1;34m(self, parser, password, caching, fallback)\u001b[0m\n\u001b[0;32m    583\u001b[0m                 \u001b[1;32mbreak\u001b[0m\u001b[1;33m\u001b[0m\u001b[0m\n\u001b[0;32m    584\u001b[0m         \u001b[1;32melse\u001b[0m\u001b[1;33m:\u001b[0m\u001b[1;33m\u001b[0m\u001b[0m\n\u001b[1;32m--> 585\u001b[1;33m             \u001b[1;32mraise\u001b[0m \u001b[0mPDFSyntaxError\u001b[0m\u001b[1;33m(\u001b[0m\u001b[1;34m'No /Root object! - Is this really a PDF?'\u001b[0m\u001b[1;33m)\u001b[0m\u001b[1;33m\u001b[0m\u001b[0m\n\u001b[0m\u001b[0;32m    586\u001b[0m         \u001b[1;32mif\u001b[0m \u001b[0mself\u001b[0m\u001b[1;33m.\u001b[0m\u001b[0mcatalog\u001b[0m\u001b[1;33m.\u001b[0m\u001b[0mget\u001b[0m\u001b[1;33m(\u001b[0m\u001b[1;34m'Type'\u001b[0m\u001b[1;33m)\u001b[0m \u001b[1;32mis\u001b[0m \u001b[1;32mnot\u001b[0m \u001b[0mLITERAL_CATALOG\u001b[0m\u001b[1;33m:\u001b[0m\u001b[1;33m\u001b[0m\u001b[0m\n\u001b[0;32m    587\u001b[0m             \u001b[1;32mif\u001b[0m \u001b[0msettings\u001b[0m\u001b[1;33m.\u001b[0m\u001b[0mSTRICT\u001b[0m\u001b[1;33m:\u001b[0m\u001b[1;33m\u001b[0m\u001b[0m\n",
      "\u001b[1;31mPDFSyntaxError\u001b[0m: No /Root object! - Is this really a PDF?"
     ]
    }
   ],
   "source": [
    "import os\n",
    "\n",
    "p = soup.find_all(\"p\")\n",
    "\n",
    "# Index to be used for naming files\n",
    "index = 1\n",
    "\n",
    "# Using base urls, go to relevant url page\n",
    "for url in urls:\n",
    "    page2 = requests.get(url)\n",
    "    soup2 = bs(page2.content, \"html.parser\")\n",
    "    \n",
    "    p = soup2.find_all(\"p\")\n",
    "    \n",
    "    # Find the actual pdf URL\n",
    "    for p1 in p:\n",
    "        if \"Click\" in str(p1):\n",
    "            t = str(p1).replace(\"<p>\", \"\")\n",
    "            i1 = t.index(\"=\")\n",
    "            i2 = t.index(\">\")\n",
    "            \n",
    "            # Get the actual pdf\n",
    "            pdf_url = t[i1 + 2:i2 - 1]\n",
    "            pdf = requests.get(pdf_url).content\n",
    "\n",
    "            # Write to a temporary file\n",
    "            with open(\"{0}.pdf\".format(index), \"wb\") as file:\n",
    "                file.write(pdf)\n",
    "                file.close()\n",
    "\n",
    "            try:\n",
    "                # Convert temporary file to text and write to file\n",
    "                pdf_text = convert_pdf_to_txt(\"{0}.pdf\".format(index))\n",
    "                with open(base_url + \"Violent\\\\Ansar Al Sharia\\\\{0}.txt\".format(index), \"w\", encoding = \"utf-8\") as file2:\n",
    "                    file2.write(pdf_text)\n",
    "                    file2.close()\n",
    "                    \n",
    "                index += 1\n",
    "                print(index)\n",
    "                \n",
    "                \n",
    "            except ValueError:\n",
    "                continue\n",
    "                "
   ]
  },
  {
   "cell_type": "markdown",
   "metadata": {},
   "source": [
    "## Houthis"
   ]
  },
  {
   "cell_type": "code",
   "execution_count": 31,
   "metadata": {},
   "outputs": [
    {
     "name": "stderr",
     "output_type": "stream",
     "text": [
      "\r",
      "                                                                               \r",
      "\r",
      "N/A% (0 of 12) |                         | Elapsed Time: 0:00:00 ETA:  --:--:--"
     ]
    },
    {
     "name": "stdout",
     "output_type": "stream",
     "text": [
      "1\n"
     ]
    },
    {
     "name": "stderr",
     "output_type": "stream",
     "text": [
      "\r",
      "                                                                               \r",
      "\r",
      "  8% (1 of 12) |##                        | Elapsed Time: 0:00:17 ETA:  0:03:10"
     ]
    },
    {
     "name": "stdout",
     "output_type": "stream",
     "text": [
      "14\n"
     ]
    },
    {
     "name": "stderr",
     "output_type": "stream",
     "text": [
      "\r",
      "                                                                               \r",
      "\r",
      " 16% (2 of 12) |####                      | Elapsed Time: 0:00:35 ETA:  0:02:55"
     ]
    },
    {
     "name": "stdout",
     "output_type": "stream",
     "text": [
      "29\n"
     ]
    },
    {
     "name": "stderr",
     "output_type": "stream",
     "text": [
      "\r",
      "                                                                               \r",
      "\r",
      " 25% (3 of 12) |######                    | Elapsed Time: 0:00:54 ETA:  0:02:42"
     ]
    },
    {
     "name": "stdout",
     "output_type": "stream",
     "text": [
      "44\n"
     ]
    },
    {
     "name": "stderr",
     "output_type": "stream",
     "text": [
      "\r",
      "                                                                               \r",
      "\r",
      " 33% (4 of 12) |########                  | Elapsed Time: 0:01:05 ETA:  0:02:10"
     ]
    },
    {
     "name": "stdout",
     "output_type": "stream",
     "text": [
      "55\n"
     ]
    },
    {
     "name": "stderr",
     "output_type": "stream",
     "text": [
      "\r",
      "                                                                               \r",
      "\r",
      " 41% (5 of 12) |##########                | Elapsed Time: 0:01:30 ETA:  0:02:06"
     ]
    },
    {
     "name": "stdout",
     "output_type": "stream",
     "text": [
      "70\n"
     ]
    },
    {
     "name": "stderr",
     "output_type": "stream",
     "text": [
      "\r",
      "                                                                               \r",
      "\r",
      " 50% (6 of 12) |#############             | Elapsed Time: 0:01:56 ETA:  0:01:56"
     ]
    },
    {
     "name": "stdout",
     "output_type": "stream",
     "text": [
      "85\n"
     ]
    },
    {
     "name": "stderr",
     "output_type": "stream",
     "text": [
      "\r",
      "                                                                               \r",
      "\r",
      " 58% (7 of 12) |###############           | Elapsed Time: 0:02:12 ETA:  0:01:34"
     ]
    },
    {
     "name": "stdout",
     "output_type": "stream",
     "text": [
      "100\n"
     ]
    },
    {
     "name": "stderr",
     "output_type": "stream",
     "text": [
      "\r",
      "                                                                               \r",
      "\r",
      " 66% (8 of 12) |#################         | Elapsed Time: 0:02:33 ETA:  0:01:16"
     ]
    },
    {
     "name": "stdout",
     "output_type": "stream",
     "text": [
      "115\n"
     ]
    },
    {
     "name": "stderr",
     "output_type": "stream",
     "text": [
      "\r",
      "                                                                               \r",
      "\r",
      " 75% (9 of 12) |###################       | Elapsed Time: 0:03:09 ETA:  0:01:03"
     ]
    },
    {
     "name": "stdout",
     "output_type": "stream",
     "text": [
      "130\n"
     ]
    },
    {
     "name": "stderr",
     "output_type": "stream",
     "text": [
      "\r",
      "                                                                               \r",
      "\r",
      " 83% (10 of 12) |####################     | Elapsed Time: 0:03:28 ETA:  0:00:42"
     ]
    },
    {
     "name": "stdout",
     "output_type": "stream",
     "text": [
      "145\n"
     ]
    },
    {
     "name": "stderr",
     "output_type": "stream",
     "text": [
      "\r",
      "                                                                               \r",
      "\r",
      " 91% (11 of 12) |######################   | Elapsed Time: 0:03:47 ETA:  0:00:21"
     ]
    },
    {
     "name": "stdout",
     "output_type": "stream",
     "text": [
      "160\n"
     ]
    },
    {
     "name": "stderr",
     "output_type": "stream",
     "text": [
      "100% (12 of 12) |#########################| Elapsed Time: 0:04:09 Time: 0:04:09\n"
     ]
    }
   ],
   "source": [
    "# First their op-eds \n",
    "sub_url_pattern = re.compile(\"/articles/\\d+\")\n",
    "date_pattern = re.compile(\"\\d+/\\d+/\\d+\")\n",
    "\n",
    "bar = progressbar.ProgressBar()\n",
    "\n",
    "index = 1\n",
    "\n",
    "for i in bar(range(1, 13)):\n",
    "    base_page = requests.get(\"http://www.ansaroallah.com/sections/43?page={0}\".format(i))\n",
    "    soup1 = bs(base_page.content, \"html.parser\")\n",
    "    sub_urls = sub_url_pattern.findall(str(soup1))\n",
    "    \n",
    "    print(index)\n",
    "    \n",
    "    for sub_url in sub_urls:\n",
    "        actual_page = requests.get(\"http://www.ansaroallah.com\" + sub_url)\n",
    "        \n",
    "        soup2 = bs(actual_page.content, \"html.parser\")\n",
    "        \n",
    "        try:\n",
    "            text = soup2.text\n",
    "            t1 = text.index(\"Submitted\")\n",
    "            t2 = text.index(\"الدلالات:\")\n",
    "            date = date_pattern.findall(text)[0].replace(\"/\", \"-\")\n",
    "            text_rel = text[t1:t2]\n",
    "            text_relevant = text_rel[text_rel.index(\"\\n\\n\"):]\n",
    "            \n",
    "            with open(base_url + \"Violent\\\\Houthis\\\\{0}d{1}.txt\".format(index, date), \"w\", encoding = \"utf-8\") as file:\n",
    "                file.write(text_relevant)\n",
    "                file.close()\n",
    "            index += 1\n",
    "            \n",
    "        except ValueError:\n",
    "            pass"
   ]
  },
  {
   "cell_type": "code",
   "execution_count": null,
   "metadata": {
    "collapsed": true
   },
   "outputs": [],
   "source": [
    "# Now do the same for their news reports\n",
    "\n",
    "# First their op-eds \n",
    "sub_url_pattern = re.compile(\"\\\"/news/\\d+\\\">\")\n",
    "\n",
    "bar = progressbar.ProgressBar()\n",
    "\n",
    "for i in bar(range(1, 10)):\n",
    "    base_page = requests.get(\"http://www.ansaroallah.com/sections/46?page={0}\".format(i))\n",
    "    soup1 = bs(base_page.content, \"html.parser\")\n",
    "    sub_urls = sub_url_pattern.findall(str(soup1))\n",
    "    \n",
    "    print(index)\n",
    "    \n",
    "    for sub_url in sub_urls:\n",
    "        actual_page = requests.get(\"http://www.ansaroallah.com\" + sub_url[1:-2])\n",
    "        \n",
    "        soup2 = bs(actual_page.content, \"html.parser\")\n",
    "        \n",
    "        try:\n",
    "            text = soup2.text\n",
    "            t1 = text.index(\"معرفة الله وعده ووعيده\")\n",
    "            t2 = text.index(\":\\xa0\")\n",
    "            text_rel = text[t1:t2]\n",
    "            text_relevant = text_rel[text_rel.index(\"\\n\\n\\n \\n\\n \\n\\n\\n\"):]\n",
    "            \n",
    "            with open(base_url + \"Violent\\\\Houthis\\\\{0}.txt\".format(index), \"w\", encoding = \"utf-8\") as file:\n",
    "                file.write(text_relevant)\n",
    "                file.close()\n",
    "            index += 1\n",
    "            \n",
    "        except ValueError:\n",
    "            pass"
   ]
  },
  {
   "cell_type": "markdown",
   "metadata": {},
   "source": [
    "## Syrian Democratic Forces"
   ]
  },
  {
   "cell_type": "code",
   "execution_count": 8,
   "metadata": {},
   "outputs": [
    {
     "name": "stdout",
     "output_type": "stream",
     "text": [
      "Error\n",
      "Error\n",
      "Error\n",
      "Error\n",
      "Error\n",
      "Error\n",
      "Error\n"
     ]
    }
   ],
   "source": [
    "index = 1\n",
    "\n",
    "for i in range(1, 5):\n",
    "    \n",
    "    base_page = requests.get(\"http://sdf-press.com/category/%D8%AD%D9%88%D8%A7%D8%B1/page/{0}/\".format(i))\n",
    "    soup = bs(base_page.content, \"html.parser\")\n",
    "    a = soup.find_all(\"a\", {\"class\":\"moheet-archive-more\"})\n",
    "\n",
    "    for elem in a:\n",
    "        text_url = str(elem)\n",
    "        url = text_url[text_url.index(\"href\"):text_url.index(\">\")]\n",
    "\n",
    "        actual_page = requests.get(url[6:-2])\n",
    "        soup2 = bs(actual_page.content, \"html.parser\")\n",
    "        text = soup2.text\n",
    "\n",
    "        try:\n",
    "            i1 = text.index(\"english\")\n",
    "            i2 = text.index(\"لمركز الإعلامي لقوات سوريا الديمقراطية\") \n",
    "            actual_text = text[i1+8:i2]\n",
    "\n",
    "            with open(base_url + \"Violent\\\\Syrian Democratic Forces\\\\{0}.txt\".format(index), \"w\", encoding = \"utf-8\") as file:\n",
    "                file.write(actual_text)\n",
    "                file.close()\n",
    "            index += 1\n",
    "\n",
    "        except ValueError:\n",
    "            print(\"Error\")"
   ]
  },
  {
   "cell_type": "code",
   "execution_count": 11,
   "metadata": {},
   "outputs": [
    {
     "name": "stdout",
     "output_type": "stream",
     "text": [
      "Error\n",
      "Error\n",
      "Error\n",
      "Error\n",
      "Error\n",
      "Error\n",
      "Error\n",
      "Error\n",
      "Error\n",
      "Error\n",
      "Error\n",
      "Error\n",
      "Error\n",
      "Error\n",
      "Error\n",
      "Error\n",
      "Error\n",
      "Error\n",
      "Error\n",
      "Error\n",
      "Error\n",
      "Error\n",
      "Error\n",
      "Error\n",
      "Error\n",
      "Error\n",
      "Error\n",
      "Error\n",
      "Error\n",
      "Error\n",
      "Error\n",
      "Error\n",
      "Error\n",
      "Error\n",
      "Error\n",
      "Error\n",
      "Error\n",
      "Error\n",
      "Error\n",
      "Error\n",
      "Error\n",
      "Error\n",
      "Error\n",
      "Error\n",
      "Error\n",
      "Error\n",
      "Error\n",
      "Error\n",
      "Error\n",
      "Error\n",
      "Error\n",
      "Error\n",
      "Error\n",
      "Error\n",
      "Error\n",
      "Error\n",
      "Error\n",
      "Error\n",
      "Error\n",
      "Error\n",
      "Error\n",
      "Error\n",
      "Error\n",
      "Error\n",
      "Error\n",
      "Error\n",
      "Error\n",
      "Error\n",
      "Error\n",
      "Error\n",
      "Error\n",
      "Error\n"
     ]
    }
   ],
   "source": [
    "# Miscellaneous\n",
    "\n",
    "for i in range(1, 22):\n",
    "\n",
    "    base_page = requests.get(\"http://sdf-press.com/category/%D9%85%D9%86%D9%88%D8%B9%D8%A7%D8%AA/page/{0}/\".format(i))\n",
    "    soup = bs(base_page.content, \"html.parser\")\n",
    "    a = soup.find_all(\"a\", {\"class\":\"moheet-archive-more\"})\n",
    "\n",
    "    for elem in a:\n",
    "        text_url = str(elem)\n",
    "        url = text_url[text_url.index(\"href\"):text_url.index(\">\")]\n",
    "\n",
    "        actual_page = requests.get(url[6:-2])\n",
    "        soup2 = bs(actual_page.content, \"html.parser\")\n",
    "        text = soup2.text\n",
    "\n",
    "        try:\n",
    "            i1 = text.index(\"english\")\n",
    "            i2 = text.index(\"لمركز الإعلامي لقوات سوريا الديمقراطية\") \n",
    "            actual_text = text[i1+8:i2]\n",
    "\n",
    "            with open(base_url + \"Violent\\\\Syrian Democratic Forces\\\\{0}.txt\".format(index), \"w\", encoding = \"utf-8\") as file:\n",
    "                file.write(actual_text)\n",
    "                file.close()\n",
    "            index += 1\n",
    "\n",
    "        except ValueError:\n",
    "            pass"
   ]
  },
  {
   "cell_type": "code",
   "execution_count": 13,
   "metadata": {},
   "outputs": [
    {
     "name": "stdout",
     "output_type": "stream",
     "text": [
      "Error\n",
      "Error\n",
      "Error\n",
      "Error\n",
      "Error\n",
      "Error\n",
      "Error\n",
      "Error\n",
      "Error\n",
      "Error\n",
      "Error\n",
      "Error\n",
      "Error\n",
      "Error\n",
      "Error\n",
      "Error\n",
      "Error\n",
      "Error\n",
      "Error\n",
      "Error\n",
      "Error\n",
      "Error\n",
      "Error\n",
      "Error\n",
      "Error\n",
      "Error\n",
      "Error\n",
      "Error\n",
      "Error\n",
      "Error\n",
      "Error\n",
      "Error\n",
      "Error\n",
      "Error\n",
      "Error\n",
      "Error\n",
      "Error\n",
      "Error\n",
      "Error\n",
      "Error\n",
      "Error\n",
      "Error\n",
      "Error\n"
     ]
    }
   ],
   "source": [
    "# Data\n",
    "\n",
    "for i in range(1, 8):\n",
    "\n",
    "    base_page = requests.get(\"http://sdf-press.com/category/%D8%A8%D9%8A%D8%A7%D9%86%D8%A7%D8%AA/page/{0}/\".format(i))\n",
    "    soup = bs(base_page.content, \"html.parser\")\n",
    "    a = soup.find_all(\"a\", {\"class\":\"moheet-archive-more\"})\n",
    "\n",
    "    for elem in a:\n",
    "        text_url = str(elem)\n",
    "        url = text_url[text_url.index(\"href\"):text_url.index(\">\")]\n",
    "\n",
    "        actual_page = requests.get(url[6:-2])\n",
    "        soup2 = bs(actual_page.content, \"html.parser\")\n",
    "        text = soup2.text\n",
    "\n",
    "        try:\n",
    "            i1 = text.index(\"english\")\n",
    "            i2 = text.index(\"القيادة العامة\") \n",
    "            actual_text = text[i1+8:i2]\n",
    "\n",
    "            with open(base_url + \"Violent\\\\Syrian Democratic Forces\\\\{0}.txt\".format(index), \"w\", encoding = \"utf-8\") as file:\n",
    "                file.write(actual_text)\n",
    "                file.close()\n",
    "            index += 1\n",
    "\n",
    "        except ValueError:\n",
    "            print(\"Error\")"
   ]
  },
  {
   "cell_type": "code",
   "execution_count": 5,
   "metadata": {},
   "outputs": [
    {
     "data": {
      "text/plain": [
       "'\\n\\n\\n\\n\\n\\n\\nالمونيتر يجري حواراً مطولاً مع القائد العام لقوات سوريا الديمقراطية – قوات سوريا الديمقراطية – Syrian Democratic Forces\\n\\n\\n\\n\\n\\n\\n\\t\\t\\twindow._wpemojiSettings = {\"baseUrl\":\"https:\\\\/\\\\/s.w.org\\\\/images\\\\/core\\\\/emoji\\\\/2.3\\\\/72x72\\\\/\",\"ext\":\".png\",\"svgUrl\":\"https:\\\\/\\\\/s.w.org\\\\/images\\\\/core\\\\/emoji\\\\/2.3\\\\/svg\\\\/\",\"svgExt\":\".svg\",\"source\":{\"concatemoji\":\"http:\\\\/\\\\/sdf-press.com\\\\/wp-includes\\\\/js\\\\/wp-emoji-release.min.js?ver=4.8.2\"}};\\n\\t\\t\\t!function(a,b,c){function d(a){var b,c,d,e,f=String.fromCharCode;if(!k||!k.fillText)return!1;switch(k.clearRect(0,0,j.width,j.height),k.textBaseline=\"top\",k.font=\"600 32px Arial\",a){case\"flag\":return k.fillText(f(55356,56826,55356,56819),0,0),b=j.toDataURL(),k.clearRect(0,0,j.width,j.height),k.fillText(f(55356,56826,8203,55356,56819),0,0),c=j.toDataURL(),b!==c&&(k.clearRect(0,0,j.width,j.height),k.fillText(f(55356,57332,56128,56423,56128,56418,56128,56421,56128,56430,56128,56423,56128,56447),0,0),b=j.toDataURL(),k.clearRect(0,0,j.width,j.height),k.fillText(f(55356,57332,8203,56128,56423,8203,56128,56418,8203,56128,56421,8203,56128,56430,8203,56128,56423,8203,56128,56447),0,0),c=j.toDataURL(),b!==c);case\"emoji4\":return k.fillText(f(55358,56794,8205,9794,65039),0,0),d=j.toDataURL(),k.clearRect(0,0,j.width,j.height),k.fillText(f(55358,56794,8203,9794,65039),0,0),e=j.toDataURL(),d!==e}return!1}function e(a){var c=b.createElement(\"script\");c.src=a,c.defer=c.type=\"text/javascript\",b.getElementsByTagName(\"head\")[0].appendChild(c)}var f,g,h,i,j=b.createElement(\"canvas\"),k=j.getContext&&j.getContext(\"2d\");for(i=Array(\"flag\",\"emoji4\"),c.supports={everything:!0,everythingExceptFlag:!0},h=0;h<i.length;h++)c.supports[i[h]]=d(i[h]),c.supports.everything=c.supports.everything&&c.supports[i[h]],\"flag\"!==i[h]&&(c.supports.everythingExceptFlag=c.supports.everythingExceptFlag&&c.supports[i[h]]);c.supports.everythingExceptFlag=c.supports.everythingExceptFlag&&!c.supports.flag,c.DOMReady=!1,c.readyCallback=function(){c.DOMReady=!0},c.supports.everything||(g=function(){c.readyCallback()},b.addEventListener?(b.addEventListener(\"DOMContentLoaded\",g,!1),a.addEventListener(\"load\",g,!1)):(a.attachEvent(\"onload\",g),b.attachEvent(\"onreadystatechange\",function(){\"complete\"===b.readyState&&c.readyCallback()})),f=c.source||{},f.concatemoji?e(f.concatemoji):f.wpemoji&&f.twemoji&&(e(f.twemoji),e(f.wpemoji)))}(window,document,window._wpemojiSettings);\\n\\t\\t\\n\\nimg.wp-smiley,\\nimg.emoji {\\n\\tdisplay: inline !important;\\n\\tborder: none !important;\\n\\tbox-shadow: none !important;\\n\\theight: 1em !important;\\n\\twidth: 1em !important;\\n\\tmargin: 0 .07em !important;\\n\\tvertical-align: -0.1em !important;\\n\\tbackground: none !important;\\n\\tpadding: 0 !important;\\n}\\n\\n\\n\\n\\n\\n\\n\\n\\nspan.cat-links a.cat-1 {\\r\\n                    color: #fff;\\r\\n                    background: #fada1a;\\r\\n                }\\r\\n                \\nspan.cat-links a.cat-11 {\\r\\n                    color: #fff;\\r\\n                    background: #4db2ec;\\r\\n                }\\r\\n                \\nspan.cat-links a.cat-6 {\\r\\n                    color: #fff;\\r\\n                    background: #fada1a;\\r\\n                }\\r\\n                \\nspan.cat-links a.cat-7 {\\r\\n                    color: #fff;\\r\\n                    background: #4db2ec;\\r\\n                }\\r\\n                \\nspan.cat-links a.cat-5 {\\r\\n                    color: #fff;\\r\\n                    background: #fada1a;\\r\\n                }\\r\\n                \\nspan.cat-links a.cat-42 {\\r\\n                    color: #fff;\\r\\n                    background: #4db2ec;\\r\\n                }\\r\\n                \\nspan.cat-links a.cat-43 {\\r\\n                    color: #fff;\\r\\n                    background: #4db2ec;\\r\\n                }\\r\\n                \\nspan.cat-links a.cat-4 {\\r\\n                    color: #fff;\\r\\n                    background: #fada1a;\\r\\n                }\\r\\n                \\nspan.cat-links a.cat-35 {\\r\\n                    color: #fff;\\r\\n                    background: #4db2ec;\\r\\n                }\\r\\n                \\nspan.cat-links a.cat-27 {\\r\\n                    color: #fff;\\r\\n                    background: #4db2ec;\\r\\n                }\\r\\n                \\nspan.cat-links a.cat-36 {\\r\\n                    color: #fff;\\r\\n                    background: #4db2ec;\\r\\n                }\\r\\n                \\nspan.cat-links a.cat-8 {\\r\\n                    color: #fff;\\r\\n                    background: #4db2ec;\\r\\n                }\\r\\n                \\nspan.cat-links a.cat-38 {\\r\\n                    color: #fff;\\r\\n                    background: #4db2ec;\\r\\n                }\\r\\n                \\nspan.cat-links a.cat-28 {\\r\\n                    color: #fff;\\r\\n                    background: #4db2ec;\\r\\n                }\\r\\n                \\nspan.cat-links a.cat-41 {\\r\\n                    color: #fff;\\r\\n                    background: #4db2ec;\\r\\n                }\\r\\n                \\nspan.cat-links a.cat-40 {\\r\\n                    color: #fff;\\r\\n                    background: #4db2ec;\\r\\n                }\\r\\n                \\nspan.cat-links a.cat-39 {\\r\\n                    color: #fff;\\r\\n                    background: #4db2ec;\\r\\n                }\\r\\n                \\n.widget_social-widget a, .nav-toggle, span.cat-links a, .main-navigation .current_page_item > a, .main-navigation .current-menu-item > a, .main-navigation .current_page_ancestor > a, .main-navigation .current-menu-ancestor > a, .nav-wrapper > li > a:hover, .header-layout1.moheet-top-header .moheet-ticker-caption, .site-header .main-navigation .moheet-search-form-primary .search-form .search-submit, .site-header .main-navigation .moheet-search-form-primary.search-in .search-form .search-submit:hover, .homepage-fullwidth-wrapper  h4.block-title:after, .homepage-fullwidth-wrapper  h4.widget-title:after, .homepage-bottom-fullwidth-wrapper h4.block-title:after, .homepage-bottom-fullwidth-wrapper h4.widget-title:after, .moheet-main-content   h4.widget-title:after, .moheet-main-content h4.block-title:after, .moheet-bottom-main-content  h4.widget-title:after, .moheet-bottom-main-content h4.block-title:after,\\r\\n                        .widget.moheet_category_posts_slider .lSSlideOuter ul.lSPager.lSpg > li.active a, .widget.moheet_category_posts_slider .lSSlideOuter ul.lSPager.lSpg > li a:hover,\\r\\n                        .widget_tag_cloud .tagcloud a:hover, .tags-links a:hover,\\r\\n                        #scroll-up:hover,\\r\\n                        .single #moheet-breadcrumbs:before, .archive #moheet-breadcrumbs:before,\\r\\n                        #primary .comments-area .form-submit input[type=submit], .archive.moheet-archive-layout3 article .layout3-content-wrapper .left-wrap .date-day, .archive.moheet-archive-layout3 .moheet-archive-more,\\r\\n                        .pagination .nav-links span.current, .pagination .nav-links span:hover, .pagination .nav-links a:hover,\\r\\n                        .single .layout3-content-wrapper .layout3-postmeta .date-day,\\r\\n                        #secondary .widget_search input.search-submit {\\r\\n                            background: #ffd540;\\r\\n                        }\\n.moheet_fullwidth_slider .fw_slider_layout_2 .lSSlideOuter .lSPager.lSpg > li a:hover, a, a:hover, .site-footer a:hover, .site-header .main-navigation li a:hover,  #primary .author-desc-wrapper .author-social span.social-icon-wrap a:hover, .post-review-wrapper .section-title , .post-review-wrapper .total-reivew-wrapper .stars-count, .post-review-wrapper .stars-review-wrapper .review-featured-wrap .stars-count {\\r\\n                            color: #ffd540;\\r\\n                        }\\n.site-header .main-navigation ul li ul li a:hover, .entry-meta a:hover, #primary .entry-footer a:hover,\\r\\n                        h3 a:hover, h3.featured-large-font a:hover,\\r\\n                        .widget.moheet_block_posts_ajax .child-cat-tabs ul.moheet-tab-links li a:hover, \\r\\n                        .block-header .view-all a:hover,\\r\\n                        h3.large-font a:hover, .widget.moheet_block_posts_carousel .single-post .post-caption h3 a:hover, .widget.moheet_category_posts_slider .single-post .post-caption h3 a:hover, .widget.moheet_category_posts_slider .single-post .post-caption h3 a:hover,\\r\\n                        .moheet_fullwidth_block_posts .fw_block_layout_1 .single-posts-wrapper .single-post .post-content-wrapper h3 a:hover, .single-post .tags-links:before,\\r\\n                        .single #moheet-breadcrumbs span a:hover, .archive #moheet-breadcrumbs span a:hover,\\r\\n                        .post-navigation .nav-links a:hover p, #primary .moheet-author-metabox .author-desc-wrapper a.author-title:hover, #primary .moheet-author-metabox .author-desc-wrapper a:hover,\\r\\n                        h2.entry-title a:hover, .archive.moheet-archive-layout3 .moheet-archive-more:hover,\\r\\n                        .post-meta a:hover, .entry-meta a:hover, #primary .entry-footer a:hover,\\r\\n                        .post-meta .post-author .author:hover:before, .post-meta .post-author .author:hover a, .site-content .homepage-slider-section .widget_moheet_featured_slider .featured-article .post-caption .post-meta a:hover,\\r\\n                        .widget .single-post .post-meta a:hover,\\r\\n                        .widget .single-post .post-meta span.comments-count a:hover, .widget .single-post .post-meta span.comments-count a:hover:before, .moheet-related-wrapper .post-meta span a:hover,\\r\\n                        .page-template-home-template .post-meta .star-review-wrapper .star-value,\\r\\n                        .comments-area .comment-meta a:hover, .comments-area .reply a:hover, .comments-area ol li .cmt-main-content cite.fn a:hover, \\r\\n                        .site-header .main-navigation ul.moheet_mega_menu li.has-mega-menu ul.mega-cat-menu.has-menu-tab li .ap-mega-menu-cat-wrap div a.mega-active-cat,\\r\\n                        .post-meta .star-review-wrapper .star-value,\\r\\n                        .site-footer a:hover,\\r\\n                        .moheet_fullwidth_slider .fw_slider_layout_1 .slide-info-wrapper h2.slide-title a:hover,\\r\\n                        .widget_recent_entries li a:hover, \\r\\n                        .widget_archive li a:hover, \\r\\n                        .widget_categories li a:hover, \\r\\n                        .widget_meta li a:hover, \\r\\n                        .widget_recent_comments li a:hover, \\r\\n                        .moheet-footer-widget .menu li a:hover,\\r\\n                        .archive .tags-links a:hover, \\r\\n                        .single-post .tags-links a:hover, \\r\\n                        .search .tags-links a:hover, \\r\\n                        .blog .tags-links a:hover,\\r\\n                        .widget.moheet_category_posts_slider .single-post .post-meta .post-author .author:hover:before,\\r\\n                        .moheet_fullwidth_slider .fw_slider_layout_1 .lSSlideOuter ul li .post-meta a:hover,\\r\\n                        .moheet_fullwidth_slider .fw_slider_layout_1 .lSSlideOuter ul li .post-meta a:hover, .moheet_fullwidth_slider .fw_slider_layout_1 .lSSlideOuter ul li .post-meta .post-author .author:hover:before, .moheet_fullwidth_slider .fw_slider_layout_1 .lSSlideOuter ul li .post-meta .post-view:hover a, .moheet_fullwidth_block_posts .fw_block_layout_2 .single-posts-wrapper .single-post .post-meta .posted-on a:hover, .moheet_fullwidth_block_posts .fw_block_layout_2 .single-posts-wrapper .single-post .post-meta span.author:hover:before, .moheet_fullwidth_block_posts .fw_block_layout_2 .single-posts-wrapper .single-post .post-content-wrapper h3 a:hover, .site-footer .widget.moheet_category_posts_slider .post-meta .posted-on:hover a, .site-footer .widget.moheet_category_posts_slider .post-meta .posted-on:hover:before, .site-footer .widget.moheet_category_posts_slider .post-meta span.comments-count a:hover, .site-footer .widget.moheet_category_posts_slider .post-meta .post-author .author:hover:before, .site-footer .widget.moheet_category_posts_slider .single-post .post-meta .post-author a:hover, .moheet_fullwidth_block_posts .fw_block_layout_1 .single-posts-wrapper .single-post .post-meta .posted-on:hover a, .moheet_fullwidth_block_posts .fw_block_layout_1 .single-posts-wrapper .single-post .post-meta .posted-on:hover:before, .moheet_fullwidth_block_posts .fw_block_layout_1 .single-posts-wrapper .single-post .post-meta span.author:hover a, .moheet_fullwidth_block_posts .fw_block_layout_1 .single-posts-wrapper .single-post .post-meta span.author:hover:before, .moheet_fullwidth_block_posts .post-meta .post-author .author:hover a, .moheet_fullwidth_block_posts .post-meta .post-author .author:hover:before, .widget.moheet_block_posts_carousel .block_crs_layout_1 .post-meta .post-author .author:hover a, .widget.moheet_block_posts_carousel .block_crs_layout_1 .post-meta .post-author .author:hover:before, .widget.moheet_block_posts_carousel .block_crs_layout_1 .single-post .post-meta .posted-on:hover a, .widget.moheet_block_posts_carousel .block_crs_layout_1 .single-post .post-meta .posted-on:hover:before, .moheet_fullwidth_slider .fw_slider_layout_2 .slide-info-wrapper .post-meta .comments-count:hover a, .moheet_fullwidth_slider .fw_slider_layout_2 .slide-info-wrapper .post-meta .comments-count:hover:before, .moheet_fullwidth_slider .fw_slider_layout_2 .slide-info-wrapper .post-meta .posted-on:hover a, .moheet_fullwidth_slider .fw_slider_layout_2 .slide-info-wrapper .post-meta .posted-on:hover:before, .moheet_fullwidth_slider .fw_slider_layout_2 .lSSlideOuter .slide-info-wrapper .post-meta .post-author .author:hover:before, .widget_moheet_featured_slider .post-meta .post-author .author:hover:before, .post-meta .post-author .author:hover:before, .post-meta .comments-count a:hover:before, .post-meta .post-author .author:hover a, .site-content .homepage-slider-section .widget_moheet_featured_slider .featured-article .post-caption .post-meta a:hover,\\r\\n                        .moheet-home-aside .widget.moheet_category_posts_slider .single-post .post-meta .comments-count a:hover,\\r\\n                        .moheet-newsticker-wrapper.header-layout2 ul li a:hover,\\r\\n                        .moheet-newsticker-wrapper.header-layout2 .moheet-ticker-caption span,\\r\\n                        .moheet-top-header.header-layout2 .top-navigation .menu a:hover,\\r\\n                      .moheet-newsticker-wrapper.header-layout2 ul li a:before ,\\r\\n                        .moheet_fullwidth_slider .fw_slider_layout_1 .slide-info-wrapper h2.slide-title a:hover,\\r\\n                        .moheet-newsticker-wrapper ul li a:hover, \\r\\n                        .moheet-newsticker-wrapper .moheet-container.carousel-layout .lSSlideWrapper ul li .single-news a:hover {\\r\\n                        color: #ffd540;\\r\\n                    }\\n.site-header .main-navigation ul#primary-menu > li > ul, .site-header .main-navigation, .site-header.header-layout1 .main-navigation .menu-primary-menu-container > ul > li.current-menu-item a:before, .site-header.header-layout1 .main-navigation .menu-primary-menu-container > ul > li > a:hover:before, .site-header.header-layout2 .main-navigation .menu-primary-menu-container > ul > li.current-menu-item a:before, .site-header.header-layout2 .main-navigation .menu-primary-menu-container > ul > li > a:hover:before, .header-layout2 .main-navigation .index-icon:hover:before, .header-layout1 .main-navigation .index-icon:hover:before,\\r\\n            .site-header.header-layout1 .main-navigation .menu-primary-menu-container > ul li a:before, .site-header.header-layout2 .main-navigation .menu-primary-menu-container > ul li a:before, .header-layout2 .main-navigation .index-icon:before, .header-layout1 .main-navigation .index-icon:before,\\r\\n            .site-header .main-navigation .moheet-search-form-primary .search-form, \\r\\n            .widget_tag_cloud .tagcloud a:hover, .tags-links a:hover, .archive.moheet-archive-layout3 .moheet-archive-more,\\r\\n            .pagination .nav-links span.current, .pagination .nav-links span:hover, .pagination .nav-links a:hover {\\r\\n                        border-color: #ffd540;\\r\\n                    }\\n.moheet-newsticker-wrapper .default-layout-new .moheet-ticker-caption span:after {\\r\\n                        border-color: transparent transparent transparent #ffd540;\\r\\n                    }\\n\\n\\n\\n\\n.widget_facebook_likebox {\\n\\toverflow: hidden;\\n}\\n\\n\\n\\n\\n\\n\\n\\n\\n\\n\\n\\n\\n\\n\\n \\n\\n \\n\\n\\nimg#wpstats{display:none}\\r\\n/* <![CDATA[ */\\r\\n    jQuery(document).ready(function($) {\\r\\n                    // Sticky Menu \\r\\n            $(\"#site-navigation\").sticky({topSpacing:0,zIndex:9999});\\r\\n            });\\r\\n/* ]]> */\\r\\n\\n\\n\\t\\t\\t.site-title,\\n\\t\\t.site-description {\\n\\t\\t\\tposition: absolute;\\n\\t\\t\\tclip: rect(1px, 1px, 1px, 1px);\\n\\t\\t}\\n\\t\\t\\n\\nbody.custom-background { background-color: #e7e7e7; }\\n\\n\\n\\n\\n\\n\\n\\n\\n\\n\\n\\n\\n\\n\\n\\n\\n\\n\\n\\n\\nالأحد, أكتوبر 15, 2017\\n\\nفايس بوك\\nتويتر\\nجوجل بلس\\nإنستاغرام\\nيوتيوب\\n\\n\\n\\n\\n\\n\\n\\n\\n\\n\\nقوات سوريا الديمقراطية – Syrian Democratic Forces\\n\\n\\n\\n \\n\\n\\n \\n\\n\\n\\n\\n\\n\\n \\n \\n \\n\\n\\nالرئيسية\\nاخبار\\nنشاطات\\nبيانات\\nمقالات\\nمنوعات\\nحوار\\nدراسات\\nاتصل بنا\\nenglish\\n \\n\\n\\n\\n\\n\\n\\n\\n\\n\\nالبحث عن:\\n\\n\\n\\n\\n\\n\\n\\n\\n\\n \\n\\n\\n\\n\\n\\n\\nالرئيسية  ⁄   حوار  ⁄   المونيتر يجري حواراً مطولاً مع القائد العام لقوات سوريا الديمقراطية \\nالمونيتر يجري حواراً مطولاً مع القائد العام لقوات سوريا الديمقراطية\\n\\n\\nqsd1 28 سبتمبر 2017 \\n\\nشارك على فيسبوكشارك على تويتر\\n\\n\\n\\nأجرى موقع المونيتر أشهر المواقع الأمريكية والذي ينشر بلغات عديدة لقاء مع القائد العام لقوات سوريا الديمقراطية مظلوم كوباني نقلاً عن وكالة مونيتر\\nبتاريخ\\xa0 27-9-2017 تحت عنوان: “”القائد الكردي السوري: نحن مستعدون للمشاركة مع دمشق””\\nوفي التفاصيل يضع القائد العام مظلوم كوباني النقاط على حروف الملفات الشائكة في سوريا ويضع الموقف بالتفاصيل عما حدث ويحدث في سوريا والأبعاد الإقليمية والقومية للقضية الكردية في سوريا مؤكداً أن نظاماً فيدرالياً يضمن الإنتماء إلى سوريا.\\nوفيما يلي رابط الحوار من مصدره الأصلي والترجمة العربية التي أعدها القسم الإنكليزي لموقعنا.\\nالرابط:\\n\\xa0http://www.al-monitor.com/pulse/originals/2017/09/turkey-kurdish-commander-says-us-should-stay-in-syria.html\\n\\nالرقة، سوريا – السيّد مظلوم: هو القائد الأعلى لقوات سوريا الديمقراطية (قسد)، وبالتالي يعدّ رئيس محور التحالف الذي تقوده الولايات المتحدة ضد تنظيم الدولة الإسلامية، وهو القائد البالغ من العمر 45 عاماً، والمعروف باسم الجنرال مظلوم هو على رأس حملة استعادة الرقة؛ عاصمة داعش التي تعتبر في مراحلها النهائية، وقد كُني بالسيّد مظلوم. وهو يبدى اهتماما شديداً بالسياسة بما يتجاوز مهاراته العسكرية، له شهرة في واشنطن، حيث يذكر اسمه كثيراً في مناسبات عدّة.\\nويبدأ مسؤولو التحالف الذين يعرفون السيّد مظلوم بالثناء على قائد قوّات سوريا الديمقراطيّة الذي كان على اتصال وثيق مع بريت ماكغورك؛ المبعوث الرئاسي الخاص بالتحالف المناهض لتنظيم الدولة الإسلامية، وإنّ القادة العسكريين الأمريكيين كثيراً ما يشعرون بالإحباط أمام أنقرة، فهو المنتمي إلى حزب العمال الكردستاني، ووفقاً لبعض مسؤولِي التحالف، فإنّ السيّد مظلوم يتصرف بشكل مستقل عن حزب العمال الكردستاني، الذي تعتبره كل من تركيا والولايات المتحدة منظمةً إرهابية – بل قد يدير ظهره تماماً أمام هذا المسار.\\nوتحدثت “مونيتور” مع القائد الغامض على جبهة الرقة لأول مقابلة له مع الصحافة، وقد تحدّث بشكل حسن ومبهج باللغة التركية بطلاقة دبلوماسية، وتجاوز عدداً من الأسئلة الصعبة دون أن يرفض فعليا الإجابة عليها، وقال السيّد مظلوم، وهو مواطن من بلدة كوباني الحدودية السورية كما يوحي لقبه (مظلوم كوباني) أن هناك مجموعة واسعة من القضايا المتعلقة بالأكراد ومستقبل سوريا ودور القوى الكبرى. وفيما يلي نص المقابلة:\\nمونيتور: كيف تتقدم حملة الرقة؟\\nالسيّد مظلوم: حملة الرقة مستمرة كما هو مخطط لها، لقد خططنا لعدة مراحل، والآن يمكننا القول: إننا نقترب من المرحلة النهائية.\\nمونيتور: أين هو محور القتال في الوقت الحالي؟\\nالسيّد مظلوم: في وسط المدينة؛ يعني أن الأجزاء الشرقية والغربية في البوابة الجنوبية للمدينة قد تم تحريرها. لقد حررننا 75٪ من المدينة.\\nمونيتور: هل تتقدم أسرع مما كنت تتوقع؟\\nالسيّد مظلوم: لا\\nمونيتور: كم عدد مقاتلي التنظيم في الرقة الآن؟\\nالسيّد مظلوم: ما يقرب ال 700، وفقا لمعلوماتنا الاستخبارية والمعلومات التي حصلنا عليها من أعضاء [داعش] السابقين. هؤلاء هم مقاتلون، ومعظمهم من الرعايا الأجانب. وبالإضافة إلى ذلك، هناك 1500 من عناصر ميليشيات داعش في المدينة.\\nمونيتور: ما هو أصعب جزء من عملية الرقة بالنسبة لك؟\\nالسيّد مظلوم: كانت العملية متعمدة من جانبين. أولا، ضرورة عدم ضرب المدنيين. وكما تعلمون، فإن [داعش] يستخدم المدنيين كدروع بشرية. والثاني هو استخدام [تكتيكات] التكتيك على نطاق واسع. وقد تم استخراج جميع المدنيين من المنازل وأماكن الأعمال تقريبا. وقد تم اعتقال حوالي 2000 مدني من قبل [داعش]، وهم يهربون كلما سنحت لهم الفرصة.\\nمونيتور: هناك انتقادات بأن الغارات الجوية للتحالف على وجه الخصوص أدت إلى سقوط عدد كبير جدا من الضحايا المدنيين.\\nالسيّد مظلوم: نتبع ذلك في الصحافة. وأعتقد أنّ المسألة مبالغ بها بغرض إبطاء العملية. كانت هناك بعض الإصابات، لكن ليس كما في العراق، أعتقد أن العدد هو العشرات، وليس في المئات، وقد حدث ذلك في المناطق التي كان فيها [داعش] يستخدم المدنيين كدروع بشريّة، وهذا هو السبب الرئيسي وراء بطء العملية.\\nمونيتور: هناك أيضا انتقادات تتعلق بمخيمات اللاجئين.\\nالسيّد مظلوم: بالتأكيد، واجهنا صعوبات في هذه المسألة. لدينا مشكلة أمنية هنا. أولا كان مسلحو [داعش] يتسللون جنبا إلى جنب مع المدنيين الفارين من المدينة. لقد رأينا العديد من هذه الحالات، وربما أكثر من ذلك. فمعظم هؤلاء الناس من الرقة. أي العرب السورين. لكن هناك أيضا أجانب بينهم، وبطبيعة الحال، [داعش]\\nثانياً، الأمم المتحدة غير موجودة رسميّاً هنا، ونحن نبذل جهوداً لمعالجة هذا الوضع. وقد تأخرت الجماعات المدنية في تقديم المساعدة، وكانت وسائل مؤسساتنا الحكومية نادرة إلى حد ما.\\nمونيتور: هل قدّمت الحكومة المركزية أيّة مساعدات لكم؟\\nالسيّد مظلوم: لا، لا تقدّم لنا أيّة مساعدات، بل إن الحكومة المركزية تعرقل مساعدة الأمم المتحدة.\\nمونيتور: واجهتم بعض المشاكل الخطيرة مع حكومة إقليم كردستان العراق بشأن إبقاء الحدود مفتوحة، وعلى المداخل والمخارج عبر المعابر الحدودية. لكن منذ بداية عملية الرقة، نرى أن هذه المشاكل قد تراجعت وأن المساعدات الإنسانية والإمدادات من الأسلحة الأمريكية لقوّات سوريا الديمقراطيّة أصبحت الآن سهلة.\\nالسيّد مظلوم: كل المساعدات تأتي عبر معبر سيمالكا الحدودي عبر كردستان الجنوبية [كردستان العراق]. إنّ الحكومة المركزية لا تساعد على الإطلاق، وحكومة إقليم كردستان حافظت على موقفها الإنساني منذ بداية عملية الرقة، أي في حزيران / يونيو وتموز/ وقد استقرت الأمور منذ أغسطس، وكانت جهود الولايات المتحدة مهمة في تأمين ذلك.\\nوكان من الممكن أن تكون الأمور أسهل بكثير إذا ما أبقت تركيا الحدود مفتوحة. وما كانت كل هذه الصعوبات لتحصل على الإطلاق، وربما ما كنّا لنواجه هذا النقد على رعاية المدنيين الفارين من الرقة، وقد حاول السيّد بريت ماكغورك كثيراً على إقناع تركيا بالتخلي عن موقفها الحالي، وقد أبلغَنا بذلك، لكنه للأسف فشل.\\nمونيتور: إذا ما نظرنا إلى ما بعد الرقة، فإن الانتقال إلى دير الزور قد بدأ بالفعل. وهناك تقارير تفيد بأن قوات النظام قد عبرت نهر الفرات وأن هناك سباقاً جارياً ما بين قوّات سوريا الديمقراطيّة والنظام. فما هو هدفكم الاستراتيجي ما بعد الرقة؟ يبدو أنكم أطلقتم حملة دير الزور ما قبل التوقيت الذي كان مخططاً لها من قِبل الولايات المتحدة والتحالف.\\nالسيّد مظلوم: هذا صحيح. إن تحرير دير الزور هو رغبة الشعب السوري. وقد تأسس مجلس دير الزور العسكري قبل عامين، وقد شارك شعب دير الزور في معارك منبج والرقة، وقدّم العديد من الشهداء. وهو عنصر أساسي في قوّات سوريا الديمقراطيّة أيضا. وقد أطلقنا هذه العملية في وقت سابق بناء على طلبهم، وهي مستمرة.\\nمونيتور: هل تخطط للذهاب إلى البوكمال؟\\nالسيّد مظلوم: هدفنا هو أن نذهب بقدر ما نستطيع. ولا بد من تحرير دير الزور من [داعش].\\nمونيتور: يبدو أنّ هناك شكوكاً حول مدى رغبة الولايات المتحدة مواكبة العمليات المشتركة مع قوّات سوريا الديمقراطيّة بعد الرقة. كما أنها تحاول تجنب الصراع مع روسيا، لكن هناك قضايا تتصاعد.\\nالسيّد مظلوم: هذا صحيح نحن لا نريد الاشتباك مع أي شخص آخر غير [داعش]. وهناك بعض الأرصدة الحساسة جدا هنا. تتشابك القوى المختلفة. هناك خطط للنظام السوري والميليشيات الإيرانية وحزب الله من جهة، وعدنا بتحرير السكان المحليين الذين ندعمهم من جهة أخرى. وهذان الطرفان في صراع. الجانب الآخر يتلقى الدعم الجوي من روسيا ونحن من التحالف. هناك صعوبة معينة هناك. ويحاول التحالف تجنب هذا الصراع، وكذلك نحن، وأعتقد أنه سيكون هناك تفاهم عند نقطة معينة.\\nوحتى الآن، لم تكن هناك حدود بيننا وما بين النظام، وكان كل منا يقاتل [داعش]. وقد اجتمعنا الآن. وقد وصلت الأمور إلى عتبة حرجة. نحن نحاول تجنب القتال مع أي شخص آخر غير [داعش]، لكننا سندافع عن أنفسنا إذا لزم الأمر.\\nمونيتور: لقد أبديتم تعاوناً مثالياً مع الولايات المتحدة والتحالف حتى الآن، ومع ذلك فقد اقتصر ذلك على العمليات العسكرية ضد داعش، في حين أن لديكم أيضا طلباً من الولايات المتحدة والمجتمع الدولي للحصول على اعتراف رسميّ. ولم يتلق هذا الطلب قبولاً، والسبب الأساسي بذلك هو ضغط تركيا، وقد أخبرتكم الولايات المتحدة بأنكم في نهاية المطاف بحاجة إلى حل وسط مع النظام، ويفضل أن يكون ذلك بدون الرئيس بشار الأسد، وعلاوة على ذلك، فإن الولايات المتحدة مستعدة لمغادرة الكرد السوريين بضمانات روسيّة، وهي مترددة في الانخراط كثيراً من الناحية السياسية.\\nالسيّد مظلوم: هذا صحيح. وقد حافظت الولايات المتحدة على هذا التقارب، وما زال هذا الوضع \\xa0قائماً حتّى الآن، لكن بالنسبة لنا على أيّ حال فلا يعدّ هذا التقارب صحيحاً، ففي رأينا ينبغي على الولايات المتحدة أن تنسجم مع قرارنا. فالمجتمع الدولي يتحمل مسؤولية تجاه الكرد وكلّ الشعب السوري، وإنّ الولايات المتّحدة تتحمل المسؤولية، مثلما تفعل روسيا أيضاً، نحن أيضا نمنع حرباً أهلية أخرى في سوريا [في المستقبل] وهذا أمر مهم. فإذا اندلعت حرب أخرى، فإنّ الجماعات الإرهابية مثل [داعش] سوف يرتفع عددها من جديد وتهدد العالم. وإذا أراد المجتمع الدولي القضاء على الإرهاب، فإنّ سوريا يجب أن تستقر، وهذا هو السبب في أنه ينبغي لجميع السلطات بما فيها الولايات المتحدة، أن تتطلع بمسؤولياتها في هذا الصدد، إنّنا نريد أن تبقى الولايات المتحدة هنا.\\nمونيتور: حتى يتغير النظام؟\\nالسيّد مظلوم: من وجهة نظرنا، هناك حاجة إلى حكومة تمثل الشعب السوري حقا.\\nمونيتور: ما تصفه هو تغيير النظام، لكن الولايات المتحدة ولا روسيا متحمستان لهما. حتى تركيا، التي دأبت على تغيير النظام، تخلت عن جهودها.\\nالسيّد مظلوم: هذا صحيح.\\nمونيتور: حتى لو بقيت الولايات المتحدة، فإنها ستفعل ذلك في إطار منظور مكافحة الإرهاب، ما بعد هزيمة داعش، وقد تركز على مجموعات أخرى مثل الميليشيات الشيعية والفصائل المرتبطة بالقاعدة، وقد يكون هناك دور لقوّات سوريا الديمقراطيّة في هذا السياق أيضا، فالأكراد يقاتلون داعش جنبًا إلى جنب مع التحالف خارج المناطق الخاصة بكم، وإنّكم تضحّون بحياتكم، إلا أن الولايات المتحدة والمجتمع الدولي يرفضان الاعتراف بالاتحاد الديمقراطي لشمال سوريا، الذي يجمع جميع الجماعات الأثنية والدينية في المنطقة، بما في ذلك الأكراد. فإلى أي مدى أنتم على استعداد للذهاب في التضحية بحياتكم في حين أنها تحجب الدعم السياسي عنكم، وترفض الاعتراف بوضع لكم أو بأيّة علاقات دبلوماسية معكم؟\\nالسيّد مظلوم: نحن الأكراد، حرّرنا مناطقنا من النظام أولا دون خسائر كبيرة في الأرواح، وأنا أتحدث عن عام 2012، كان هدفنا هو الابتعاد عن الحرب المحتدمة ما بين النظام والمعارضة، وأنّ نطوّر مناطقنا ونعزّزها وندافع عنها، لكن المناطق التي حررناها تعرضت لهجوم من قبل الجماعات المعروفة باسم الجيش الحر، ثم جبهة النصرة، والآن [داعش]. وجميع هؤلاء المهاجمين هم جيراننا، وجاءت معظم الهجمات من الرقة ودير الزور، لذلك، اضطررنا للقتال دفاعاً عن أنفسنا، وهذا هو السبب الأساسي في أننا نقاتل حاليا في الرقة ودير الزور، إلى أي مدى سيستمر هذا القتال، فهذا هو السؤال المهم، فإنّنا نعلم أنّ [داعش] سيُهزم عسكريا في دير الزور، لكن هذا لا يعني أن الإرهاب سينتهي في سوريا، وهذا يتطلب استمراراً للحرب، وبمجرد هزيمته عسكريا، سيعود [داعش] إلى حرب العصابات – وهو شكله المفضل من أشكال الحرب.\\nإنّ النظام يشكل تهديداً لنا في وقتنا الراهن، وهناك أيضا جماعات شيعية تتماشى مع النظام، وهي تشكل تهديدا لنا أيضاً، نحن لا نريد للقتال مع أي شخص، لكننا سوف ندافع عن أنفسنا. وإذا شن النظام وحلفاؤه عملية ضدنا، فلن يؤثر علينا فحسب، بل أعتقد أنه سيؤدي إلى موجة جديدة من الفوضى وعدم الاستقرار في المنطقة.\\nلكن يجب على المرء أن يتأقلم مع النظام الحالي، فالنظام السوري حقيقة واقعة، من الناحية العسكرية، وقد حقق انتصاراً ضد المعارضة على الأقل في المناطق الموجودة حالياً. وبالنظر إلى الأمور بموضوعية، فإن النظام باقٍ.\\nمونيتور: وماذا عن الأسد؟ هل هو في طريقه إلى الرحيل؟\\nالسيّد مظلوم: لا أرى أيّة إشارة إلى أنه في طريقه إلى الرحيل في الوقت الحاضر.\\nمونيتور: هل يمكن أن تقبل الولايات المتحدة الأسد؟\\nالسيّد مظلوم: هذا ما لا أعرفه، لكن في نهاية المطاف، فإنّ مستقبل المناطق التي حررناها أمر مهم بالنسبة إلينا، فهدفنا الأساسي هو التفاوض مع الحكومة المركزية، والحصول على وضع معين للمناطق التي حررناها، وإذا لزم الأمر، فإننا مستعدون للدخول في حوار مع الحكومة المركزية بشأن هذا الموضوع.\\nمونيتور: ألا تعتقد أنك ستواجه صعوبات في الحصول على الحقوق التي تريدها من النظام دون دعم فاعل قوي مثل الولايات المتحدة أو روسيا؟\\nالسيّد مظلوم: لدينا علاقات جيدة مع الولايات المتحدة وروسيا. لدينا قنوات سياسية مفتوحة مع روسيا، والولايات المتحدة هي بالفعل هنا.\\nمونيتور: أين تعتقد أن عملية أستانا وخاصة إدلب تقف في المساومة بين القوى الكبرى على مستقبل سوريا؟\\nالسيّد مظلوم: لدى النظام خطط ذات أولوية متعلّقة بإدلب في المستقبل القريب، وبالتالي فإن النظام\\xa0 وروسيا والقوى الأخرى تريد تأمين وقف إطلاق النار في إدلب حتى يتمكن النظام وحلفاؤه من الهجوم على دير الزور بكامل تعزيزاته، وهذا هو الهدف الحالي، وقد نجحوا فيه إلى حد ما. فإذا كانت قوات النظام تتقدم في صحراء دير الزور، في البادية اليوم، وذلك بفضل القوات التي تحولت من جبهة إدلب، والهدف الطويل الأجل هو المضي قدما في إدلب، وسيأخذون إدلب، التي على ما أعتقد ستكون على حساب تركيا.\\nمونيتور: لماذا؟\\nالسيّد مظلوم: تركيا لديها فوبيا كردية، تخلت عن طموحاتها في حلب فقط حتى تمنعنا من ربط [الكانتونات] ببعضها البعض، والآن هي على وشك التخلي عن تطلعاتها لإدلب لمنع قوات سوريا الديمقراطية الأكراد من التقدم هناك.\\nمونيتور: لكن تركيا تخلت عن حملتها لتغيير النظام في سوريا، فلماذا تهتم بإدلب بعد ذلك – خاصة إذا حصلت على استفادة من خلال تعاونها على حساب الكرد.\\nالسيّد مظلوم:\\xa0 صحيح. أعطت روسيا تركيا الضوء الأخضر للانتقال إلى جرابلس مقابل التخلي عن طموحاتها في \\xa0حلب. والآن [روسيا] تفعل الشيء نفسه في دير الزور، من خلال تأمين وقف إطلاق النار في إدلب، وترغب تركيا أن تسيطر قوات النظام على دير الزور، قبل أن تسيطر عليها قوّاتنا.\\nمونيتور: عندما تنظرون إلى ما يحدث في شمال العراق، ما هي النتيجة التي ترونها؟ وقد بذلت الولايات المتحدة الكثير من الجهود لوقف الاستفتاء على الاستقلال. كيف تقيّم هذا؟\\nالسيّد مظلوم: نؤيد استفتاء الاستقلال في كردستان العراق. إنّ جميع الأكراد يحلمون بتوحيد الأجزاء الأربعة [في تركيا وإيران والعراق وسوريا] وإقامة كردستان مستقلة. هذا هو الهدف. ولكن هناك أيضا حقائق. … اسمحوا لي أن أكون واضحا تماما: هدفنا هو إنشاء نظام فيدرالي في سوريا، لكي نبقى جزءاً من سوريا.\\nمونيتور: مسؤولون أمريكيون يقولون: إنهم يشجعونكم وقوّات سوريا الديمقراطيّة على أن تنأى بنفسها عن حزب العمال الكردستاني. وفي الوقت نفسه، يقال: إن الولايات المتحدة تناقش العمليات المشتركة مع تركيا ضد حزب العمال الكردستاني. ويزعم أن هؤلاء يستهدفون كبار قادة حزب العمال الكردستاني مثل جميل بايك.\\nالسيّد مظلوم: لا أعتقد أن أي إجراء [معاد] لـ حزب العمال الكردستاني سيخدم مصالح الولايات المتحدة، أنا لا أعتقد أنها سوف تفعل هذا، وإذا كانت خطط الاغتيال تناقش، فهذا ليس أمرا جيدا.\\nنحن نمثل شعب روجآفا. ولن يدخل شعب روجآفا أبدا في أي علاقات من شأنها أن تضر بمصالح الأكراد الذين يعيشون في أجزاء أخرى من كردستان، لدينا سياسات متميزة في روجآفا، ونحن نبحث عن مصالحنا الخاصة، ومن غير المعقول أن نفترض موقفاً محارباً تجاه حزب العمال الكردستاني فحسب، بل أي قوة وطنية كردية بصرف النظر عمّن يطلب منا ذلك، فلن نفعل ذلك، إننا نريد إقامة علاقات طيبة مع تركيا، وحزب العمال الكردستاني قد يقاتل تركيا، لكن شعب روجآفا وتركيا لديهم مصالح مشتركة، حتى جاءت أمريكا إلى كوباني في عام 2015، وكانت لدينا علاقات جيدة مع تركيا، وكان سياسيونا يذهبون إلى أنقرة ويلتقون بالمسؤولين الأتراك، لم تنهر علاقاتنا مع تركيا إلا بعد أن جاءت أمريكا والتحالف إلى روجآفا.\\nمونيتور: هل تقول “إذا كان حزب العمال الكردستاني يحارب تركيا، وهذا لا يهمنا، ونحن منفصلون”؟\\nالسيّد مظلوم: نعم، الأمر كذلك.\\nمونيتور: لكن تركيا ترى الأمور بشكل مختلف. فإنها تضعكم في سلّة واحدة مع حزب العمال الكردستاني، وفي عام 2013 عندما جرت محادثات السلام بين الدولة التركية وزعيم حزب العمال الكردستاني؛ عبد الله أوجلان، يقال: إن روجآفا كانت جزءا من المفاوضات التي جرت. لكن عندما فشل الجانبان في الاتفاق على روجآفا، انهارت المحادثات. وفى حالة استئناف المحادثات بين أوجلان وحزب العمال الكردستانى وتركيا فإنّ روجآفا ستكون بالتأكيد جزءاً من المفاوضات مرة أخرى.\\nالسيّد مظلوم: صحيح. لكن السبب الرئيسي وراء انهيار علاقاتنا مع تركيا ليس حزب العمال الكردستاني، وهذه حجّة. والسبب الرئيسي هو العلاقة الاستراتيجية التي تطوّرت بيننا وبين الولايات المتحدة. وقد أدى ذلك إلى تفاقم فوبيا تركيا ومخاوفها. وعلاوة على ذلك، فإن أكبر عدد من الأكراد يعيشون في تركيا، وهذا هو أيضا السبب في أنها تعارض مكاسبنا في روجآفا، كما تعارض الاستفتاء على الاستقلال في كردستان.\\nمونيتور: هل تقول إذا انسحبت الولايات المتحدة من روجآفا ستتحسن علاقاتكم مع تركيا؟\\nالسيّد مظلوم: لا، أنا لا أقول ذلك.\\nمونيتور: لماذا تعتقد أن تركيا لم تنضم إلى قواتكم ضد داعش، التي تهدد تركيا أيضا؟\\nالسيّد مظلوم: كان لدى تركيا حسابات خاصة بها فيما يتعلق ب [داعش]. وكانت تركيا تتوقع أن تسقط كوباني بيد داعش، وهذا هو السبب في أنه لم تدعمنا، بل على العكس من ذلك، فتعاونت مع [داعش]. أما كان قتال محمد من تركيا وآزاد من روجآفا يداً بيد ضد داعش، من شأنه أن يعزز عملية السلام في تركيا ويحطم التحيزات السائدة ضدنا في الرأي العام التركي؟!\\nمونيتور: هل يمكن تحقيق السلام مع الرئيس رجب طيب أردوغان؟\\nالسيّد مظلوم:\\xa0 والله إنّه من الصعب، لكن إذا استنتج أنّ تركيا لا تحصل على أي مكان لها من خلال سياساته الحالية، فسيقبل بنا في نهاية المطاف. أردوغان شخص برغماتي، وإذا استأنفت عملية السلام في تركيا فإن هذا سيكون له بطبيعة الحال أثراً إيجابيّاً علينا.\\n\\nمونيتور: هل بدأت كفاحك داخل صفوف حزب العمال الكردستاني؟\\nالسيّد مظلوم: نعم، ولكن هذا كان منذ وقت طويل.\\nمونيتور: هل تعرف عبد الله أوجلان شخصياً، بل يقال: إنه يحبك مثل ابنه؟\\nالسيّد مظلوم: نعم. عرفته عندما كان يعيش في سوريا. عاش زعيم آبو هنا مدة 20 عاماً، وقد تعرف على جميع العائلات [الكردية] تقريبا، في حلب، دمشق، عفرين… عاش في هذه المنطقة التي لا يمكن تجاهلها. دعني أشرح لك، فالقائد هو فلسفة، أيديولوجية، فحزب العمال الكردستاني هو منظمة، حزب، حركة. فلا يمكننا أن نختصر روجآفا بحركة منفردة. هناك أصناف من الناس تعيش هنا، فهناك عرب من الرقة، ومن الحسكة، … هناك شركس. هناك حزب العمال الكردستاني. هناك المجلس الوطني الكردستاني المعارض. هناك من يؤيدون [مسعود البرزاني] هناك من يدعمون نظام الأسد… لكن المتعاطفين مع حزب العمال الكردستاني يشكلون الأغلبية، وهناك العرب وهنا الذين يريدون أن يتعلموا عن فلسفة القائد آبو الذي يحتضنه، هناك الآلاف من شعبنا الذين استشهدوا وهم يقاتلون في صفوف حزب العمال الكردستاني، لكن روجآفا ليست مكونة فقط من المتعاطفين مع حزب العمال الكردستاني.\\nمونيتور: هل يمكن أن تشرح؟\\nالسيّد مظلوم: نحن مسؤولون عن المناطق [الأغلبية الكردية والمختلطة] التي نحكمها تحت قيادة الاتحاد الديمقراطي لشمال سوريا، وكذلك المناطق التي حررناها حديثا، وإذا فشلنا في التوصل إلى اتفاق مع الحكومة المركزية في دمشق، فسيظلّ وضعنا معلّقاً، ولن يكون هناك حلّ وسط، فإما اتفاق أو حرب طاحنة، وبنفس الطريقة التي آلت إليها الأوضاع في شمال العراق في التسعينيات.\\nمونيتور: لكن هناك اختلافات كبيرة بين شمال العراق وروجآفا. وعلى الرغم من أنّ تركيا ساعدت أكراد العراق، حيث فتحت حدودها للأكراد العراقيين، ولم يتقاتل الأتراك والأكراد العراقيون أبدا، تركيا هي نظام دعم للحياة في كردستان العراق، لكنها أقامت جداراً على طول حدودها السورية، وتنظر إليكم كأعداء، على أنكم مرتبطون بحزب العمال الكردستاني.\\nالسيّد مظلوم: ادعاءات تركيا بأن “روجآفا هي حزب العمال الكردستاني” أو أن “حزب العمال الكردستاني يمثّل كلّ روجافا” لا يعكس الواقع، لكن على الرغم من هذه الحقيقة، هذه هي الطريقة التي تسعى تركيا لتقديم روجآفا. وتقول تركيا إنّ “روجآفا هي حزب العمال الكردستاني”. وهذا ليس صحيحا.\\nمونيتور: يقال: إنه بدون دعم حزب العمال الكردستاني لن تتحقق لكما القوة والتأثير اللذَين تتمتعان بهما حاليا في سوريا.\\nالسيّد مظلوم: قام حزب العمال الكردستاني بمد يد العون كثيراً [لروجافا]. وقد ساهم بشكل كبير في نجاحه. لكن أهم مصدر لنجاحنا هو شعب روجآفا نفسه، من خلال شبابها، فكيف تم إنشاء وحدات حماية الشعب؟ نعم، كان هناك بعض من الذين قاتلوا ضمن صفوف حزب العمال الكردستاني وغيرهم من بين صفوف مؤسسيه، وعندما اندلع الصراع في سوريا، عاد عدد من هؤلاء الناس إلى سوريا. لكنها لم تكن مجموعة كبيرة.\\nمونيتور: هل كنت واحداً من بين تلك المجموعة؟\\nالسيّد مظلوم: نعم. عدت في ربيع عام 2011. كان هناك حوالي 30 منا. ولكن لم ينضم آلاف الشباب المحليين ولم يقدموا الدعم المعنوي والمادي للسكان المحليين، فلم يكن من الممكن تشكيل جيش قوي مثل قوّات سوريا الديمقراطيّة. وبدأ التحالف [المناهض لتنظيم الدولة الإسلامية] بتزويدنا بالأسلحة مؤخرا فقط. فقبل وصول الأميركيين، قمنا بتحرير العديد من المناطق من خلال الكلاشينكوف الذي كان بوحوزتنا، إذا لم ننظر إلى قيم شبابنا على أنها السبب الأساسي لنجاحنا، فسنستخلص الاستنتاجات الخاطئة. نجاح هذا المكان يكمن في نجاح قوته المحلّيّة.\\nمونيتور: لماذا تشعر تركيا بعدم الارتياح تجاهك؟\\nالسيّد مظلوم: إنّنا جيران مع تركيا منذ ست سنوات، وتقع مراكزهم الحدودية على الجانب التركي مقابلنا تماما، ولم تحدث مشكلة أمنية واحدة خلال هذه السنوات الست، لكن حزب العمال الكردستاني نظم هجمات داخل تركيا خلال هذه السنوات الست كسرت كل أبواب جهنم قبل أن نكسب السيطرة على هذه الحدود، كانت هناك اشتباكات بين حزب العمال الكردستاني والقوات التركية هنا. لكنني أكرر أنه على مدى السنوات الست الماضية لم تكن هناك أيّة مشاكل كما تعلمون، القامشلي و [بلدة الأغلبية الكردية] نصيبين [في تركيا] متاخمة لبعضها البعض. تم تدمير نصيبين أمام أعيننا ولو كنا جزءاً من حزب العمال الكردستاني أو كنا حزب العمال الكردستاني، كنا سندخل الحرب ضد تركيا أيضا، وكنا لن نتردد، كانت القامشلي وديريك وكوباني… قد حاربت من أجل نصيبين، لكنها لم تفعل ذلك. وهذا يعني أن هذا المكان له [شخصية فريدة من نوعها]. أليس هذا من عواقب؟ هذا [الفرق] يحتاج إلى تفسير. إن خبرتنا التي دامت ست سنوات تدل بوضوح على أننا لا نشكل تهديدا لتركيا. هذه السنوات الست هي أقل السنوات إشكالية التي تتمتع بها تركيا على حدودها مع روجآفا، وهذا يعني بدوره؛ أنّ حزب العمال الكردستاني وقواتنا ليسا نفسهما. إن لشعب روجآفا، ومديريه، وأحزابه السياسية، استراتيجياتهم الخاصة ومبادئهم. أنها تتصرف وفقا لمصالح روجآفا. ماذا يفعل ذلك مع حزب العمال الكردستاني؟ وبدلا من التركيز على الذين عملوا في الماضي، يجب على تركيا أن تُولي اهتماما للحقيقة المعروضة عليها.\\nإلى جانب ذلك، فإنّ أمريكا هنا الآن لمدة عامين، وهي أيضا على علم بالواقع الذي وصفته. وعندما انهار وقف إطلاق النار [في عام 2015] بين تركيا وحزب العمال الكردستاني، لم ننضم إلى الحرب. ففي الواقع هاجمتنا تركيا واستهدفتني مباشرة في قراتشوك [في أبريل 2017]. فإنّ العديد من مرؤوسينا قد استشهدوا، وفي النهاية، استخدمنا حقنا في الدفاع عن النفس. نحن لم نسمح لزملائنا أن يموتوا دون جدوى، لقد انتقمنا ضد تركيا. وإذا ضربونا مرة أخرى، سنضربهم.\\nمونيتور: إذا هاجمكم النظام، هل ستدافع عنكم أمريكا؟\\nالسيّد مظلوم: لقد وعدوا بالدفاع عنا. و[عندما هاجمتنا قوات النظام] في الطبقة، فعلوا ذلك، وأسقطوا طائرة تابعة للنظام، نود أن نثق أمريكا.\\nمونيتور: بالنسبة للشخص الذي كان في حزب العمال الكردستاني لفترة طويلة، الذي تعرض للايديولوجية اليسارية، كيف أثر العمل مع القوة الإمبراطورية الأولى في العالم، وأمريكا، وجنودها ودبلوماسييها على رؤيتكم للعالم؟\\nالسيّد مظلوم: يتعلم الناس كل الوقت في الحياة. لا يوجد خطأ في هذا. لقد اكتسبنا الكثير من الخبرة من الناحية العسكرية. قبل أن يأتي الأمريكيون، كنا نقاتل بالفعل [داعش]، كنا نعتمد على وسائلنا الخاصة، وبعد أن جاء الأميركيون، دخلت الغارات الجوية حيز اللعب، ووضعنا نظاما جديدا للقتال.\\nمونيتور: هل تعلّم الأمريكيون شيئا منكم؟\\nالسيّد مظلوم: إنّنا نضحّي بأنفسنا، لدينا اعتماد على الذات، لدينا الشجاعة، لقد تعلّموا هذا منا، فقد قمنا ببناء قوات قسد جنبا إلى جنب مع الأميركيين.\\nمونيتور: ذكر جنرال أمريكي أنه من خلال حلقة نقاشية استطعت اختراع هذا الاسم (قسد) بين عشية وضحاها.\\nالسيّد مظلوم: صحيح.\\nمونيتور: إذا انسحبت الولايات المتحدة من سوريا، هناك تكهنات بأن تحالفكم مع العرب سوف ينهار، هل أنت قلق بشأن هذا؟\\nالسيّد مظلوم: لدينا مصالح مشتركة، لكن تحالفنا مع العرب لا يقوم فقط على المصالح المشتركة بل على المصير المشترك، ونحن نعمل من أجل مستقبل مشترك لجمهورية فيدرالية ديمقراطية، حيث يعيش جميع الناس على قدم المساواة، وقد حاول العرب العمل مع الجميع، ففي البداية كانوا مع النظام، ثم هربوا من النظام وانضموا إلى الجيش السوري الحر. فانضموا إلى جبهة النصرة وأخيرا [داعش]، وفي النهاية جاؤوا إلينا وهم يريدون البقاء معنا، إنّهم يثقون بنا.\\nمونيتور: هناك ادعاءات بأنك تجند العرب قسرا في قوّات سوريا الديمقراطيّة، وأنك تقتل أولئك الذين يرفضون الانضمام.\\nالسيّد مظلوم: لم يحدث شيء من هذا النوع، ولن يسمح له بذلك، أعدنا أولئك الذين لا يريدون القتال في الرقة إلى أماكنهم.\\nمونيتور. من يدفع رواتب المقاتلين؟\\nالسيّد مظلوم .إدارتنا\\nمونيتور: ماذا عن المقاتلين العرب؟\\nالسيّد مظلوم: نحن ندفع هذا أيضا، على الرغم من أن أمريكا بدأت الدفع للبعض منهم – لحوالي الخُمس من المقاتلين. وكما قلت، نود أن تبقى أمريكا. وكذلك فإنّ القوات الأمريكية أيضاً تريد أن تبقى. لكن السياسيين هم الذين سيقرّرون البقاء، أمّا الجنود فلا.\\nالرقةسورياقوات سوريا الديمقراطيةمظلوم كوبانيمونيتور \\nشارك على فيسبوكشارك على تويتر\\n\\n\\nتصفّح المقالات\\n السابق  فراس داغ شهيد الإعلام الحرالتالي  استمرار الاشتباكات ومقتل مرتزقين يحملان الأحزمة الناسفة في بلدة الصور\\n \\n\\n\\n\\n\\nمقالات ذات صلة\\n \\n\\n\\n\\n\\n\\nداعش : صحوة ما قبل الموت الرقة\\n 28 يوليو 2017\\n\\n\\n\\n\\n\\n\\n\\nشاهد قضاء ابطالنا ال sdf على ارهابيي داعش\\n 8 أبريل 2017\\n\\n\\n\\n\\n\\n\\n\\nكلمة العميد طلال سلو خلال اجتماع مجلس الرقة المدني  التاسيسي\\n 18 أبريل 201718 أبريل 2017\\n\\n \\n\\n\\n\\n\\n\\nفايس بوك\\nتويتر\\nجوجل بلس\\nإنستاغرام\\nيوتيوب\\n\\n\\nZoeken\\n\\nالبحث عن:\\n\\n\\n\\n\\n\\nالبحث عن:\\n\\n\\n\\n\\nتابعنا\\n\\nفايس بوك\\nتويتر\\nجوجل بلس\\nإنستاغرام\\nيوتيوب\\n\\n\\n أحدث المقالات \\n\\nأفشل مقاتلو عاصفة الجزيرة هجومين لداعش على شركة الجفرا وقرية سعات\\n\\n\\nاستمرار الاشتباكات في الرقة واستسلام 4 من إرهابيي داعش\\n\\n\\nتحرير 500 مدني في ساعات المساء من مدينة الرقة\\n\\n\\nتشييع جثامين خمسة شهداء في قرية الحكومية\\n\\n\\nقوات سوريا الديمقراطية تحرر ثلاث نساء مصابات من محيط المشفى الوطني بمدينة الرقة.\\n\\n\\n الأرشيف الأرشيف\\n\\nاختر شهر\\n أكتوبر 2017 \\xa0(151)\\n سبتمبر 2017 \\xa0(258)\\n أغسطس 2017 \\xa0(270)\\n يوليو 2017 \\xa0(147)\\n يونيو 2017 \\xa0(16)\\n مايو 2017 \\xa0(44)\\n أبريل 2017 \\xa0(99)\\n مارس 2017 \\xa0(112)\\n فبراير 2017 \\xa0(65)\\n يناير 2017 \\xa0(7)\\n\\n \\n\\n\\n\\n\\n\\n\\n\\n\\n\\n\\n\\n\\n\\n\\n\\n\\n\\n\\n\\n\\n\\n\\n\\n\\n\\n\\n\\n\\n\\n\\n\\n\\n/* <![CDATA[ */\\nvar WPGroHo = {\"my_hash\":\"\"};\\n/* ]]> */\\n\\n\\n\\n\\n\\n\\n\\n\\n\\n\\n/* <![CDATA[ */\\nvar WowOption = {\"mode\":\"enable\"};\\nvar moheet_ajax_script = {\"ajaxurl\":\"http:\\\\/\\\\/sdf-press.com\\\\/wp-admin\\\\/admin-ajax.php\"};\\n/* ]]> */\\n\\n\\n\\n/* <![CDATA[ */\\nvar jpfbembed = {\"appid\":\"249643311490\",\"locale\":\"en_US\"};\\n/* ]]> */\\n\\n\\n\\n/* <![CDATA[ */\\nwindow.twttr=(function(w){t=w.twttr||{};t._e=[];t.ready=function(f){t._e.push(f);};return t;}(window));\\n/* ]]> */\\n\\n\\n\\n\\n\\n\\n\\t_stq = window._stq || [];\\n\\t_stq.push([ \\'view\\', {v:\\'ext\\',j:\\'1:5.1\\',blog:\\'123644856\\',post:\\'5709\\',tz:\\'2\\',srv:\\'sdf-press.com\\'} ]);\\n\\t_stq.push([ \\'clickTrackerInit\\', \\'123644856\\', \\'5709\\' ]);\\n\\n\\n\\n'"
      ]
     },
     "execution_count": 5,
     "metadata": {},
     "output_type": "execute_result"
    }
   ],
   "source": [
    "l2 = requests.get(\"http://sdf-press.com/2017/09/%d8%a7%d9%84%d9%85%d9%88%d9%86%d9%8a%d8%aa%d8%b1-%d9%8a%d8%ac%d8%b1%d9%8a-%d8%ad%d9%88%d8%a7%d8%b1%d8%a7%d9%8b-%d9%85%d8%b7%d9%88%d9%84%d8%a7%d9%8b-%d9%85%d8%b9-%d8%a7%d9%84%d9%82%d8%a7%d8%a6%d8%af\")\n",
    "\n",
    "soup2 = bs(l2.content, \"html.parser\")\n",
    "text = str(soup2.text)\n",
    "text"
   ]
  },
  {
   "cell_type": "markdown",
   "metadata": {},
   "source": [
    "# Non-Violent"
   ]
  },
  {
   "cell_type": "markdown",
   "metadata": {},
   "source": [
    "## General Authority of Islamic Affairs & Endowments"
   ]
  },
  {
   "cell_type": "code",
   "execution_count": 125,
   "metadata": {},
   "outputs": [
    {
     "name": "stderr",
     "output_type": "stream",
     "text": [
      "100% (6764 of 6764) |#####################| Elapsed Time: 2:07:55 Time: 2:07:55\n"
     ]
    }
   ],
   "source": [
    "# Deal with DDOS protection\n",
    "scraper = cfscrape.create_scraper()\n",
    "\n",
    "# Regex to extract dates from text\n",
    "regex = re.compile(\"\\d+-\\d+-\\d+\")\n",
    "\n",
    "# Create a progress bar\n",
    "bar = progressbar.ProgressBar()\n",
    "\n",
    "for i in bar(range(1, 6765)):\n",
    "    r = scraper.get(\"http://www.awqaf.gov.ae/Jumaa.aspx?SectionID=5&RefID={0}\".format(i))\n",
    "    soup = bs(r.content, \"html.parser\")\n",
    "    text = soup.text\n",
    "    \n",
    "    try:\n",
    "        # Extract out the relevant text\n",
    "        start_index = text.index(\"addthis_pub=\\\"newawqaf\\\";\")\n",
    "        end_index = text.index(\"الخدمات الإلكترونية\")\n",
    "        relevant_text = text[start_index:end_index]\n",
    "\n",
    "        # Find all dates and use the last one as the date for the profile\n",
    "        res = regex.findall(text)\n",
    "\n",
    "        date = \"\"\n",
    "        if len(res) > 0:\n",
    "            date = res[0]\n",
    "\n",
    "        with open(base_url + \"Non-Violent\\\\GA on Islamic Affairs\\\\{0}d{1}.txt\".format(i, date), \"w\", encoding = \"utf-8\") as file:\n",
    "            file.write(relevant_text)\n",
    "            file.close()\n",
    "    except ValueError:\n",
    "        continue"
   ]
  },
  {
   "cell_type": "markdown",
   "metadata": {},
   "source": [
    "## Repository of Sermons"
   ]
  },
  {
   "cell_type": "code",
   "execution_count": 29,
   "metadata": {},
   "outputs": [
    {
     "name": "stderr",
     "output_type": "stream",
     "text": [
      "100% (41 of 41) |#########################| Elapsed Time: 0:58:25 Time: 0:58:25\n"
     ]
    }
   ],
   "source": [
    "bar = progressbar.ProgressBar()\n",
    "\n",
    "# Regex to extract dates from text\n",
    "regex = re.compile(\"\\d+-\\d+-\\d+\")\n",
    "\n",
    "url_pattern = re.compile(\"art.php\\?art=\\d+&amp;id=\\d+&amp;sid=\\d+&amp;ssid=\\d+&amp;sssid=\\d+\")\n",
    "\n",
    "sermon_base_url = \"http://www.nabulsi.com/blue/ar/\"\n",
    "\n",
    "# index for the files\n",
    "index = 1\n",
    "\n",
    "# iterate over all pages\n",
    "for i in bar(range(1, 42)):\n",
    "    \n",
    "    first_url = requests.get(\"http://www.nabulsi.com/blue/ar/sss_cat.php?pg={0}&id=44&sid=46&ssid=48&sssid=49\".format(i))\n",
    "\n",
    "    first_content = bs(l.content, \"html.parser\")\n",
    "\n",
    "    bdiv = first_content.find_all(\"div\", {\"id\":\"cattbltxt\"})\n",
    "\n",
    "    # Iterate through all sub-urls \n",
    "    for elem in bdiv:\n",
    "\n",
    "        ext = url_pattern.findall(str(elem))\n",
    "        \n",
    "        if len(ext) > 0:\n",
    "            \n",
    "            actual_page = requests.get(sermon_base_url + ext[0])\n",
    "\n",
    "            actual_content = bs(actual_page.content, \"html.parser\")\n",
    "            text = actual_content.text\n",
    "            \n",
    "            try:\n",
    "                i1 = text.index(\"بسم الله الرحمن الرحيم\")\n",
    "                i2 = text.index(\"var _gaq\")\n",
    "                relevant_text = text[i1:i2]\n",
    "                date = regex.findall(text)[0]\n",
    "            \n",
    "                with open(base_url + \"Non-Violent\\\\Repo of Sermons\\\\{0}d{1}.txt\".format(index, date), \"w\", encoding = \"utf-8\") as file:\n",
    "                    file.write(relevant_text)\n",
    "                    file.close()\n",
    "                    \n",
    "                index += 1\n",
    "            except (ValueError, IndexError):\n",
    "                continue"
   ]
  },
  {
   "cell_type": "markdown",
   "metadata": {},
   "source": [
    "# Use the newspaper package to scrape news sources\n",
    "\n",
    "- http://www.aljazeera.net/knowledgegate/opinions\n",
    "- https://arabic.cnn.com/middle_east\n",
    "- http://www.aljazeera.net/portal\n",
    "- https://www.alarabiya.net/views.html\n"
   ]
  },
  {
   "cell_type": "markdown",
   "metadata": {},
   "source": [
    "## Aljazeera"
   ]
  },
  {
   "cell_type": "code",
   "execution_count": 57,
   "metadata": {
    "collapsed": true
   },
   "outputs": [],
   "source": [
    "# Aljazeera\n",
    "\n",
    "aljazeera = np.build(\"http://www.aljazeera.net\", memoize_articles = False)\n",
    "\n",
    "# Regex to extract dates from text\n",
    "regex = re.compile(\"/\\d+/\\d+/\\d+\")\n",
    "\n",
    "index = 1\n",
    "\n",
    "for article in aljazeera.articles:\n",
    "    if \"Blog\" in article.url or \"knowledgegate/opinion\" in article.url:\n",
    "        article = Article(article.url, language = \"ar\")\n",
    "        article.download()\n",
    "        article.parse()\n",
    "        date = regex.findall(article.url)[0].replace(\"/\", \"-\")\n",
    "        with open(base_url + \"Non-Violent\\\\Aljazeera\\\\{0}d{1}.txt\".format(index, date), \"w\", encoding = \"utf-8\") as file:\n",
    "            file.write(article.text)\n",
    "            file.close()\n",
    "        index += 1      "
   ]
  },
  {
   "cell_type": "markdown",
   "metadata": {},
   "source": [
    "## CNN"
   ]
  },
  {
   "cell_type": "code",
   "execution_count": 60,
   "metadata": {
    "collapsed": true
   },
   "outputs": [],
   "source": [
    "cnn = np.build(\"https://arabic.cnn.com/middle_east\", memoize_articles = False)\n",
    "index = 1\n",
    "for article in cnn.articles:\n",
    "    if \"middle-east\" in article.url and \"#\" not in article.url:\n",
    "        article = Article(article.url, language = \"ar\")\n",
    "        article.download()\n",
    "        article.parse()\n",
    "        date = regex.findall(article.url)[0].replace(\"/\", \"-\")\n",
    "        with open(base_url + \"Non-Violent\\\\CNN\\\\{0}d{1}.txt\".format(index, date), \"w\", encoding = \"utf-8\") as file:\n",
    "            file.write(article.text.replace(\"CNN\", \"\"))\n",
    "            file.close()\n",
    "        index += 1"
   ]
  },
  {
   "cell_type": "markdown",
   "metadata": {
    "collapsed": true
   },
   "source": [
    "## Alarabiya"
   ]
  },
  {
   "cell_type": "code",
   "execution_count": 2,
   "metadata": {
    "scrolled": true
   },
   "outputs": [
    {
     "name": "stderr",
     "output_type": "stream",
     "text": [
      "100% (605 of 605) |#######################| Elapsed Time: 2:04:28 Time: 2:04:28\n"
     ]
    }
   ],
   "source": [
    "# Comb the archive of political reporting from Alarabiya\n",
    "\n",
    "bar = progressbar.ProgressBar()\n",
    "\n",
    "index = 3950\n",
    "\n",
    "for i in bar(range(395,1000)):\n",
    "\n",
    "    base = requests.get(\"https://www.alarabiya.net/politics/archive.view.html?currentPage={0}\".format(i))\n",
    "    soup = bs(base.content, \"html.parser\")\n",
    "    \n",
    "    a = soup.find_all(\"a\", {\"class\": \"pic\"})\n",
    "    \n",
    "    for elem in a:\n",
    "        url_text = str(elem)\n",
    "        url = url_text[url_text.index(\"href=\\\"\") + 6: url_text.index(\">\")-3]\n",
    "        url_ext = url.split(\" \")[0][:-1]\n",
    "        actual_page = requests.get(\"https://www.alarabiya.net\" + url_ext)\n",
    "        soup2 = bs(actual_page.content, \"html.parser\")\n",
    "        text = soup2.text\n",
    "        try:\n",
    "            i1 = text.index(\"GMT\")\n",
    "            i2 = text.index(\"\\n\\n\\n\\nTweet\")\n",
    "            relevant_text = text[i1+3:i2]\n",
    "            \n",
    "            with open(base_url + \"Non-Violent\\\\Alarabiya\\\\{0}.txt\".format(index), \"w\", encoding = \"utf-8\") as file:\n",
    "                file.write(relevant_text)\n",
    "                file.close()\n",
    "                \n",
    "            index += 1\n",
    "            \n",
    "        except ValueError:\n",
    "            pass"
   ]
  },
  {
   "cell_type": "code",
   "execution_count": 27,
   "metadata": {},
   "outputs": [
    {
     "data": {
      "text/plain": [
       "'\\n\\n\\n\\n\\nأكلة.. طير!!  - العربية.نت | الصفحة الرئيسية\\n\\n\\n\\n\\n\\n\\n\\n\\n\\n\\n\\n\\n\\n\\r\\nwindow.VIDEOJS_NO_DYNAMIC_STYLE=true;\\r\\n\\n\\n\\n\\n\\n\\n\\r\\n\\tvideojs.options.flash.swf = \"/docroot/aa-templating/js/videojs5/video-js.swf\";\\r\\n\\n\\r\\n  .vjs-default-skin .vjs-play-progress,\\r\\n  .vjs-default-skin .vjs-volume-level { background-color: #6c2769 }\\r\\n\\n\\n\\n\\r\\n\\r\\n\\tvar contextPath = \"\";\\r\\n\\tvar captchaBaseUrl =\"https://webapps.alarabiya.net/aa-captcha/captcha\";\\r\\n\\tvar reutersBaseUrl =\"https://webapps.alarabiya.net/aa-reuters\";\\r\\n\\tvar site = \"ar\";\\r\\n\\tjwplayer.key = \\'MBHXGA5XBQKH4jKZFIDpNIn/1IAE62FFdVms0HiLn8g=\\';\\r\\n\\t\\r\\n\\t\\tvar shortURL=\"http://ara.tv/84fbb\";\\r\\n\\t \\r\\n\\t\\r\\n\\n\\r\\n\\t        \\r\\n\\t       function getCookie(cname) {\\r\\n                var name = cname + \"=\";\\r\\n                var ca = document.cookie.split(\\';\\');\\r\\n                for(var i=0; i<ca.length; i++) {\\r\\n                    var c = ca[i];\\r\\n                    while (c.charAt(0)==\\' \\') c = c.substring(1);\\r\\n                    if (c.indexOf(name) == 0) return c.substring(name.length,c.length);\\r\\n                }\\r\\n                return \"\";\\r\\n            }\\r\\n            \\r\\n            function forceFull() {\\r\\n\\t\\t\\t\\tvar cookie_string = \"fullsiteV3=true; expires=0;  path=/;\"; \\r\\n                document.cookie=cookie_string;\\r\\n            }\\r\\n\\t        \\r\\n\\t        \\r\\n\\t        var usrAgent = navigator.userAgent.toLowerCase();  \\r\\n\\t       \\tconsole.log(\"usrAgent\"+usrAgent);\\r\\n\\t        var urlparamsvalues = window.location.search.toLowerCase(); \\r\\n\\t        //console.log(\"urlparamsvalues\"+urlparamsvalues);\\r\\n\\t\\t\\tvar urlhashes = window.location.hash;\\r\\n\\t\\t\\t//console.log(\"urlhashes\"+urlhashes);\\r\\n\\t        var orgUrl = window.location.pathname;\\r\\n\\t        //console.log(\"orgUrl\"+orgUrl);\\r\\n\\t        var ck = getCookie(\"fullsiteV3\");\\r\\n\\t        \\r\\n\\t\\t\\t\\r\\n\\t\\t\\tif (urlparamsvalues.indexOf(\\'fullversion\\') == -1 && ck != \"true\") {\\r\\n\\t\\t        if (usrAgent.indexOf(\\'iphone\\') != -1 || ( usrAgent.indexOf(\\'android\\') != -1 &&  usrAgent.indexOf(\\'mobile\\') != -1 )|| ( usrAgent.indexOf(\\'mobile\\') != -1  && usrAgent.indexOf(\\'ipad\\') == -1 )) {\\r\\n\\t\\t\\t\\t\\t\\r\\n\\t\\t\\t\\t\\tif( orgUrl.startsWith(\"/ar/mob\") || orgUrl.startsWith(\"/mob\") || orgUrl.indexOf(\"/ana-ara\")>-1 ){\\r\\n\\t\\t\\t\\t\\t\\t//console.log(\"MObile Page\");\\r\\n\\t\\t\\t\\t\\t}else if(orgUrl==\"/ar\"){\\r\\n\\t\\t\\t\\t\\t\\t//console.log(\"Home Page /ar\");\\r\\n\\t\\t\\t\\t\\t\\twindow.location.href = \"/ar/mob\" + urlparamsvalues + urlhashes;\\r\\n\\t\\t\\t\\t\\t\\t\\r\\n\\t\\t\\t\\t\\t}else if(orgUrl.indexOf(\"/ar/\")>-1){\\r\\n\\t\\t\\t\\t\\t\\t//console.log(\"ANY Page /ar//\");\\r\\n\\t\\t\\t\\t\\t\\torgUrl = orgUrl.replace(\"/ar/\" , \"/ar/mob/\");\\r\\n\\t\\t\\t\\t\\t\\twindow.location.href = orgUrl + urlparamsvalues + urlhashes;\\r\\n\\t\\t\\t\\t\\t}else{\\r\\n\\t\\t\\t\\t\\t\\t//console.log(\"section\");\\r\\n\\t\\t\\t\\t\\t\\torgUrl = \"/mob\" + orgUrl;\\r\\n\\t\\t\\t\\t\\t\\t//console.log(\"orgUrl1 = \" +orgUrl);\\r\\n\\t\\t\\t\\t\\t\\twindow.location.href = orgUrl  + urlparamsvalues + urlhashes;\\r\\n\\t\\t\\t\\t\\t}\\r\\n\\t\\t        }\\r\\n\\t        }else{\\r\\n\\t        \\tforceFull();\\r\\n\\t        }\\r\\n\\t\\n\\n\\n\\n\\n\\n\\n\\n\\n\\n\\n\\n\\n\\n\\n\\n\\n\\n\\n\\nif(typeof wabtn4fg===\"undefined\"){wabtn4fg=1;h=document.head||document.getElementsByTagName(\"head\")[0],s=document.createElement(\"script\");s.type=\"text/javascript\";s.src=\"/dms/docroot/aa-templating/en/js/whatsapp-button.js\";h.appendChild(s);}\\n\\n\\n\\n\\r\\n\\t\\tvar adStat = [{\\r\\n\\t\\t\\t\\'pageCategory\\': \\'ar-politics-articles\\',\\r\\n\\t\\t\\t\\'pci\\':\\'auto\\',\\r\\n\\t\\t\\t\\'pageAddress\\' : \\'/ar/politics/articles/أكلة-طير-\\',\\r\\n\\t\\t\\t\\'cnt_section\\' : \\'politics\\',\\r\\n\\t\\t\\t\\'cnt_subsection\\' : \\'articles\\',\\r\\n\\t\\t\\t\\'cnt_articlePublicationDate\\' : \\'2017-10-15\\',\\r\\n\\t\\t\\t\\'cnt_language\\' : \\'ar\\'\\r\\n         }];\\r\\n\\t\\n\\n\\n\\n\\n\\n\\n\\n\\n\\n\\n\\r\\nfunction startBreakingNewsPoller() {\\r\\n\\tjQuery.ajaxPrefilter( function( options, originalOptions, jqXHR ) {\\r\\n\\t\\t\\tif(options.url.indexOf(\\'https://feed.alarabiya.net/breakingNews\\') != -1){\\r\\n\\t\\t\\t\\toptions.cache = true;\\r\\n\\t\\t\\t}\\t\\t\\r\\n\\t});\\r\\n\\tjQuery(\"#breaking-news\").smartupdater({\\r\\n\\t\\turl : \\'https://feed.alarabiya.net/breakingNews/ar.json\\',\\r\\n\\t\\tdataType: \"json\",\\r\\n\\t\\tminTimeout: 30000\\r\\n\\t\\t}, function (data) {\\r\\n\\t\\t\\r\\n\\t\\t\\tif (data.error) {\\r\\n\\t\\t\\t\\tfallbackBreakingNews();\\r\\n\\t\\t\\t\\t$(\"#breaking-news\").parent().hide();\\r\\n\\t\\t\\t} else {\\r\\n\\t\\t\\t\\tif (data.result.text != null && data.result.text != \"\") {\\r\\n\\t\\t\\t\\t\\t$(\"header .frequencies\").hide();\\r\\n\\t\\t\\t\\t\\t$(\"#breaking-news\").parent().show();\\r\\n\\t\\t\\t\\t\\t$(\"#breaking-news\").html(data.result.text);\\r\\n\\t\\t\\t\\t} else {\\r\\n\\t\\t\\t\\t\\tfallbackBreakingNews();\\r\\n\\t\\t\\t\\t\\t$(\"#breaking-news\").html(\"\");\\r\\n\\t\\t\\t\\t\\t$(\"#breaking-news\").parent().hide();\\r\\n\\t\\t\\t\\t}\\r\\n\\t\\t\\t}\\r\\n\\t\\t}\\r\\n\\t);\\r\\n}\\r\\n\\r\\nfunction fallbackBreakingNews() {\\r\\n\\tfallbackEnabled = false;\\r\\n\\tif (fallbackEnabled) {\\r\\n\\t\\t$(\"header .frequencies\").show();\\r\\n\\t}\\r\\n}\\r\\n\\r\\n$(document).ready(function() {\\r\\n\\t\\r\\n\\tvar millisToWait = 500;\\r\\n\\twindow.setTimeout(startBreakingNewsPoller, millisToWait);\\r\\n});\\r\\n\\n\\n\\n\\n\\n\\n\\n\\n(function(w,d,s,l,i){w[l]=w[l]||[];w[l].push({\\'gtm.start\\':\\r\\nnew Date().getTime(),event:\\'gtm.js\\'});var f=d.getElementsByTagName(s)[0],\\r\\nj=d.createElement(s),dl=l!=\\'adStatScript\\'?\\'&l=\\'+l:\\'\\';j.async=true;j.src=\\r\\n\\'//www.googletagmanager.com/gtm.js?id=\\'+i+dl;f.parentNode.insertBefore(j,f);\\r\\n})(window,document,\\'script\\',\\'adStat\\',\\'GTM-W8PZ4D\\');\\r\\n\\n\\n\\r\\n\\t\\r\\n\\tvar txt_contextPath = \"\";\\r\\n\\tvar txt_uid = \"\";\\r\\n\\tvar txt_ty = \"\";\\r\\n\\tvar txt_se = \"\";\\r\\n\\t\\t\\r\\n\\t\\t\\r\\n\\t\\ttxt_uid = \"b19fdf09-fd28-4a91-9d5c-4094b2fa040d\";\\r\\n\\t\\ttxt_ty = \"view\";\\r\\n\\t\\ttxt_se = \"%2Far%2Fpolitics\";\\r\\n\\t\\t\\r\\n\\r\\n\\t\\t\\r\\n\\t\\tvar sharecounthtml = \"\" ;\\r\\n\\t\\tvar sharecounthtml_part1 = \"<img src=\\'\" + txt_contextPath + \"/servlet/aa/tracking-info.gif?id=\" + txt_uid + \"&ty=\" + txt_ty + \"&se=\" + txt_se + \"&ac=sharing\";\\r\\n\\t\\tvar sharecounthtml_part2 = \"\" ; //for random number so that no image call is cached for each request\\r\\n\\t\\tvar sharecounthtml_part3 = \"\\' width=\\'0\\' height=\\'0\\' style=\\'visibility:hidden; width: 0px; height: 0px;\\'/>\" ;\\r\\n\\t\\t\\r\\n\\n\\n\\n\\r\\n\\r\\n\\twindow.fbAsyncInit = function() {\\r\\n        FB.init({\\r\\n          appId      : \\'477847702293720\\',\\r\\n          xfbml      : true,\\r\\n          version    : \\'v2.4\\'\\r\\n        });\\r\\n    };\\r\\n\\r\\n\\t(function(d, s, id) {\\r\\n\\t  var js, fjs = d.getElementsByTagName(s)[0];\\r\\n\\t  if (d.getElementById(id)) return;\\r\\n\\t  js = d.createElement(s); js.id = id;\\r\\n\\t  js.src = \"//connect.facebook.net/ar_AR/sdk.js\";\\r\\n\\t  fjs.parentNode.insertBefore(js, fjs);\\r\\n\\t}(document, \\'script\\', \\'facebook-jssdk\\'));\\r\\n\\r\\n\\n\\n\\n\\r\\n\\r\\n\\twindow.twttr = (function(d, s, id) {\\r\\n\\t\\t  var js, fjs = d.getElementsByTagName(s)[0],\\r\\n\\t\\t    t = window.twttr || {};\\r\\n\\t\\t  if (d.getElementById(id)) return;\\r\\n\\t\\t  js = d.createElement(s);\\r\\n\\t\\t  js.id = id;\\r\\n\\t\\t  js.src = \"https://platform.twitter.com/widgets.js\";\\r\\n\\t\\t  fjs.parentNode.insertBefore(js, fjs);\\r\\n\\t\\t \\r\\n\\t\\t  t._e = [];\\r\\n\\t\\t  t.ready = function(f) {\\r\\n\\t\\t    t._e.push(f);\\r\\n\\t\\t  };\\r\\n\\t\\t \\r\\n\\t\\t  return t;\\r\\n\\t\\t}(document, \"script\", \"twitter-wjs\"));\\r\\n\\t\\t\\t\\r\\n\\n\\n\\n\\n\\n\\n\\n\\n\\n\\n\\n\\nالمزيد\\n\\n\\n\\nقوات وآليات عسكرية عراقية تتقدم باتجاه كركوك \\r\\nمصادر عسكرية عراقية تؤكد أن انطلاق عملية عسكرية في كركوك يهدف إلى تطويق المدينة واستعادة مواقع القوات الاتحادية \\r\\nمصادر عسكرية عراقية: عملية كركوك العسكرية تهدف لاستعادة قاعدة K1 العسكرية ومطار كركوك والآبار النفطية \\r\\nمصادر كردية تؤكد وجود تعزيزات وحشود للبيشمركة داخل مدينة كركوك وعلى حدودها \\r\\nمراسل العربية: عملية كركوك بدأت بعد اجتماع مصغر للمجلس الأمني برئاسة العبادي \\r\\nالحكومة العراقية تعتبر إرسال تعزيزات من حزب العمال إلى كركوك \"إعلان حرب\"\\r\\nالحكومة العراقية تحذر من تصعيد خطير واستفزازات تقودها قوات كردية خارج حدود الاقليم بهدف جر البلاد إلى احتراب داخلي \\r\\nرويترز: مساعد لرئيس إقليم كردستان العراق ينفي اتهامات بغداد بوجود مقاتلين من حزب العمال في كركوك\\r\\nتحذيرات أميركية من أن الحرس الثوري يعمل على الدفع بمواجهة عسكرية في كركوك\\r\\nميليشيات الحشد الشعبي تمهل البيشمركة 24 ساعة للانسحاب من كركوك\\r\\nالبيشمركة ترفض تهديد ميليشيات الحشد بالانسحاب من جنوب كركوك\\r\\nلقاء الأحزاب الكردية مع معصوم وبرزاني ينتهي برفض شرط بغداد إلغاء الاستفتاء\\r\\nقاسم سليماني قائد فيلق القدس في الحرس الثوري الإيراني يزور إقليم كردستان العراق\\r\\nإيران تنفي إغلاق المعابر الحدودية مع إقليم كردستان\\r\\nتأجيل فتح معبر رفح البري مع قطاع غزة بعد هجوم كرم القواديس \\r\\nالجيش المصري: مقتل 24 مسلحا و6 عسكريين خلال تصديهم لعملية إرهابية في كرم القواديس\\r\\n\"قوات سوريا الديمقراطية\" تقول إنها شنت هجوما على آخر جيب لداعش في الرقة\\r\\nمئات المقاتلين من داعش يغادرون الرقة بموجب وساطة محلية\\r\\nالشيخ عبد الله آل ثاني يدعو السلطات القطرية لطرد صيّادي الفرص والعودة إلى الحضن الخليجي\\r\\nقطر تنفق 5 ملايين دولار على حملات الضغط والترويج الإعلامي في أميركا منذ يونيو\\r\\nأمير قطر يقوم بأول زيارة له لماليزيا تستغرق يومين\\r\\nوزير الخارجية الأميركي: استراتيجية ترمب بشأن إيران تهدف إلى دعم القوى المطالبة بالديمقراطية وتغيير النظام الحاكم في طهران\\r\\nالعاهل السعودي الملك سلمان بن عبد العزيز يجري اتصالاً هاتفياً بالرئيس الأميركي دونالد ترمب \\r\\nالملك سلمان يعرب لترمب عن ترحيب المملكة بالاستراتيجية الأميركية الحازمة تجاه إيران وأنشطتها العدوانية \\r\\nترمب يؤكد للملك سلمان حرص واشنطن على العمل مع حلفائها لتحقيق الأمن والسلم العالمي\\r\\nرئيسة الوزراء البريطانية والمستشارة الألمانية تؤكدان ضرورة التصدي لنشاطات إيران المزعزعة لاستقرار المنطقة وصواريخها الباليستية\\r\\nألمانيا وبريطانيا تؤكدان الالتزام بالاتفاق النووي\\r\\nفرنسا: ماكرون يعلن أنه سيزور إيران \"في الوقت المناسب\"\\r\\nرئیس منظمة الطاقة الذریة الإيرانية يهدد بوقف تنفیذ البروتوکول الإضافي إذا انسحبت واشنطن من الاتفاق النووي\\r\\nمندوبة واشنطن في الأمم المتحدة نيكي هيلي: نضغط في موضوع الاتفاق النووي الإيراني كي لا تصبح طهران مثل كوريا الشمالية\\r\\nوزير الخارجية الأميركي ريكس تيلرسون: ترمب لا يعتقد أن المحادثات مع كوريا الشمالية مضيعة للوقت\\r\\nالمرصد السوري: قتلى وجرحى بسقوط صواريخ في مناطق عدة في العاصمة دمشق \\r\\nمراسل العربية: إسرائيل تعتقل 15 فلسطينيا في أنحاء متفرقة من الضفة الغربية والقدس الشرقية\\r\\nارتفاع حصيلة تفجير مقديشو إلى نحو 231 قتيلاً وعشرات الجرحى\\r\\nجيش بنغلاديش يكثف استعداده لمنع إعادة الهند 40 ألف لاجئ من الروهينغا عبر الحدود\\r\\nالإفراج عن شخص أمضى 23 عاما في سجن أميركي بعد حكم خاطئ بحقه             \\r\\nتهتم العربية بالاستماع إلى آرائكم ـ راسلونا على feedback@alarabiya.net\\r\\nيمكن استقبال بث قناة العربية على الترددات التالية: قمر \"ياه لايف\" 52.5 شرق ـ 11823/ أفقي ـ الترميز 27500 معامل التصحيح 5/6\\r\\n \\n \\n\\n\\n\\n\\n\\n\\n\\n\\n\\n\\nإغلاق\\n\\n\\n\\n\\n\\n\\n\\r\\n\\t© جميع الحقوق محفوظة لقناة العربية \\r\\n\\t2017\\t\\r\\n\\n\\n\\n\\n\\n\\r\\n\\tvar mainContentUUID = \"b19fdf09-fd28-4a91-9d5c-4094b2fa040d\";\\r\\n\\tvar mainContentTitle = \"&#1571;&#1603;&#1604;&#1577;.. &#1591;&#1610;&#1585;!! \";\\r\\n\\t\\r\\n\\tfunction processError(error){\\r\\n\\t\\r\\n\\t\\tvar extraMsg = \"\";\\r\\n\\t\\r\\n\\t\\tif (error.code < 10) {\\r\\n\\t\\t\\textraMsg = error.data.fields;\\t  \\r\\n\\t\\t} else if (error.code < 100){\\r\\n\\t\\t} else if (error.code < 1000) {\\r\\n\\t\\t} else if (error.code < 10000) {\\r\\n\\t\\t\\textraMsg = \"controlCode\";\\t\\t\\t\\r\\n\\t\\t} \\r\\n\\t \\r\\n\\t \\treloadCaptcha();\\t \\t\\r\\n\\t\\t//alert(error.message + \"(\" + extraMsg + \")\");\\r\\n\\t\\t$(\\'.email_article .error_msg\\').html(error.message);\\r\\n\\t\\t$(\\'.email_article .error_msg\\').show();\\r\\n\\t}\\r\\n\\r\\n\\tfunction resetForm() {\\r\\n\\t\\t\\r\\n\\t\\t//disablePopup();\\r\\n\\t\\t$(\"input.txt_box\").val(\"\");\\r\\n\\t\\treloadCaptcha();\\r\\n\\t\\t//alert(\"Your message is successfull send\");\\r\\n\\t\\t$(\\'.email_article .error_msg\\').hide();\\t\\r\\n\\t\\t$(\\'.email_article .thanku_msg\\').show();\\t\\t\\r\\n\\t}\\r\\n\\t\\r\\n\\tfunction sendToFriend(jsonObject) { \\r\\n   \\r\\n\\t\\t$.post(\"/servlet/aa/sendEmail\", jsonObject, function(data, message, xhr) {\\r\\n\\t\\t\\t\\r\\n\\t\\t\\tif (data.error) {\\r\\n\\t\\t\\t\\tprocessError(data.error);\\r\\n\\t\\t\\t} else {\\r\\n\\t\\t\\t\\tresetForm();\\r\\n\\t\\t\\t}\\r\\n\\t\\t\\t\\r\\n\\t\\t}, \"json\");\\r\\n\\t}\\r\\n\\r\\n\\tjQuery(document).ready(function(){\\r\\n\\t\\r\\n\\t\\tjQuery(function(){\\r\\n\\t\\t\\tjQuery(\"#send-to-friend-form\").validate({\\r\\n\\t\\t\\t\\tsubmitHandler: function(form) {\\r\\n\\t\\t\\t\\t\\tsendToFriend($(\\'#send-to-friend-form\\').serializeObject());\\r\\n\\t\\t\\t\\t}\\r\\n\\t\\t\\t});\\r\\n\\t\\t});\\r\\n\\t});\\r\\n\\t\\n\\nارسل لصديق\\nإغلاق\\n\\n\\n\\nأكلة.. طير!! \\n\\n\\n\\n\\nاسم الصديق:\\n\\n\\n\\n\\n\\nبريد الصديق الالكتروني:\\n\\n\\n\\n\\n\\nاسم المرسل:\\n\\n\\n\\n\\n\\nبريد المرسل الالكتروني:\\n\\n\\n\\n\\n\\n\\n\\n\\n\\nتحديث\\n\\n\\n\\nالرمز\\n\\n\\n\\n\\n\\n\\n\\n\\n\\n\\nتم الارسال بنجاح\\nخطأ بالارسال الرجاء المحاولة مرة اخرى\\n\\n\\n\\n\\n\\n\\n\\n\\n\\n\\n\\xa0\\n\\n\\n\\n\\nفارسي\\nاردو\\nEnglish\\n\\n\\nالاثنين 26 محرم 1439هـ - 16 أكتوبر 2017م\\n\\n\\n\\n\\n\\nأخبار\\n\\n\\nالخليج العربي\\n\\n\\nالمغرب العربي\\n\\n\\nمصر\\n\\n\\nاليمن\\n\\n\\nسوريا\\n\\n\\nإيران\\n\\n\\nالعرب والعالم\\n\\n\\nالعراق\\n\\n\\n\\n\\nالسعودية \\n\\n\\nأسواق\\n\\n\\nرياضة\\n\\n\\nمنوعات\\n\\n\\nصحة\\n\\n\\nثقافة و فن\\n\\n\\nتكنولوجيا\\n\\n\\nستايل\\n\\n\\nسوشيال ميديا\\n\\n\\nعلم\\n\\n\\n\\n\\nالبرامج\\n\\n\\nفيديو\\n\\n\\nمقالات\\n\\n\\nسياسة\\n\\n\\nالرياضة\\n\\n\\n\\n\\nأنا أرى\\n\\n\\nالأخيرة\\n\\n\\nمباشر\\n\\n\\n\\n\\n \\n\\n\\n\\n\\n\\n\\n\\n\\n\\n\\n\\n\\n\\n\\nالرئيسية\\n»\\nسياسة\\n\\n\\n\\n\\n\\nآخر تحديث: الأحد 25 محرم 1439هـ - 15 أكتوبر 2017م KSA 18:12 - GMT 15:12\\nأكلة.. طير!! \\n\\nالأحد 25 محرم 1439هـ - 15 أكتوبر 2017م\\n\\n\\n\\nعباس الطرابيلي\\n\\n\\n\\nبعيداً عن السياسة وقرف السياسة.. من معركة اليونسكو.. إلى معركة أمريكا مع كوريا الشمالية.. ومن مخاطر الدواعش إلى أحلام الأكراد فى الاستقلال تعالوا نتكلم فيما لا يمل الناس من الحديث عنه.. وهو الطعام. فالمعدة لا تتوقف أبداً عن الشغل.. وبالتالى طلب الطعام.\\xa0وحديثنا اليوم عن «الطير»، وهو ليس من الطيور المنزلية من بط وفراخ وإوز.. ولكنه طعام ينتظره أبناء سواحل مصر الشمالية طوال أشهر سبتمبر وأكتوبر ونوفمبر، وحتى ديسمبر.. وهو الطير المهاجر من شمال أوروبا البارد، أو المجمد، هرباً من هذا البرد إلى سواحلنا الشمالية لينعم بالدفء والطعام الجيد.\\xa0والطير هنا أنواع. منها الصغير مثل السمان. والمتوسط مثل بط الشرشير والغر والجمرى. ومنه كبير الحجم ومنه: البلبول، والخضيرى، والحمراى، والزرقاى، والكيش. ولكن الدمايطة وباقى أبناء سواحل مصر يعشقون طير البلبول لأنه ألذ وأطعم. وإن كان البعض يفضلون الخضيرى- وله بعض الريش أخضر اللون فوق الظهر- لأنه أكبر وبالذات الطير الذكر، الذى هو أكبر من الأنثى. أما الزرقاى فبعض ريش ظهره لونه أزرق. والحمراى يتميز بلون منقاره الأحمر. مثل لون منقار طيور الغر. والغر بالمناسبة لا يأكل إلا السمك، أما البلبول فيأكل الدنيبة.\\xa0ورغم ارتفاع سعر كل هذا الطير إلا أن عشاقه ينتظرونه فى مثل هذه الأيام، لأنهم يعتبرونه «فاكهة»، ويباع الطير، «بالطورة»، والطورة عبارة عن حبل به أربع حبايات.. بينما السمان «المهاجر وليس المزارع» فإنه يباع بالحبل.. والحبل يتكون من عشر حبايات.. وحبة طير البلبول بين 80 و100 جنيه، بينما حبة الخضيرى بين 100 و120 جنيهاً والشرشير نصف هذا الثمن.. والغر أقل نوعاً ما.. وإذا كان الغر يافعاً وليس عجوزاً تحولت الواحدة كلها إلى قطعة من الكبدة.. وشوفوا إنتم بقى عشق الناس للكبدة. أما الكيش فهو أقل جودة، وإن كان بعض الغشاشين يدسونه بين الخضيرى والزرقاى ليبيعوه بنفس السعر.\\xa0وأفضل طريقة لأكل الطير هى ما يتبعه الدمايطة، أى الطير المحشو «بالمرتة»، والمرتة هذه من البصل المفروم، والكمون. والحبهان المطحون. والقرفة، يخلط هذا الخليط كله بالزيت أو السمن، ثم يحشى به بطن الطير.. لأنه حرام أن نفقد دهون هذه الطيور بسبب الشواء. أما فى حالة «السلق» فى المياه فإن ما يخرج منها ومن المرتة يتحول إلى «شوربة» يستخدم بعضها فى إنضاج الأرز.. ثم يحمر الطير فى الزيت غالباً أو السمن.. ويا سلام لو تم تقديم «الخبيزة» أو السبانخ كطبق للخضار.. أو القلقاس.. بالسلق أو الطماطم، وكل منطقة حسب هواها!!. ولما كانت تكثر كميات الغر فى الأسواق كان الباعة ينطلقون لبيعه فى الحوارى على عربات الكارو!!.\\xa0■ ■ وإن كان طعم السمان هو الألذ، إلا أن سعر الحبل «10 حبايات» يتراوح الآن بين 200 و 220 جنيهاً.. يعنى الواحدة لا تقل عن 20 جنيها، وهى أكبر قليلاً من الدقناش، أى العصفور كبير الحجم.. أين هذا من سعر السمان زمان حيث قفز سعر الحبل فى أواخر الثلاثينات من 20 إلى 40 قرشاً؟! وأتذكر أمى، عليها رحمة الله، بعد أن فرغت من أكل واحدة عزم عليها أبى بواحدة أخرى.. فضربت صدرها وهى غارقة فى سمن السمانة، قائلة: يا خبر!! آكل سمانتين.. بأربعة قروش!!، ورفضت!!.\\xa0■ ■ ومن غرائب سلوكيات هذه الطيور أنها لا تأكل أبداً فى «الأسر»، وتفضل الموت جوعاً على أن تأكل وهى أسيرة.. بل إن السمان يخنق نفسه- وهو فى الأسر- بضم جناحيه على الرقبة.. ليكسرها.. ولا يأكل أبداً.\\xa0■ ■ والأغنياء يضعون بعض البندق المقشور والزبيب على الأرز المطبوخ بشوربة الطير.. يزيده طعامة ولذاذة.\\xa0بالذمة أكل زمان أم أكل هذا الزمان؟!، ولن يتوقف «القادرون» عن أكل الطير.. مهما زاد سعره.. ولو لمرة واحدة فى السنة.. فهو فاكهة الموسم.\\xa0*نقلا عن \"اليوم السابع\"\\n** جميع المقالات المنشورة تمثل رأي كتابها فقط.\\n\\n\\n\\n\\n\\n\\n\\nTweet\\n\\nشارك\\n\\n\\n\\n\\n\\n\\nشارك\\n\\n\\nرابط مختصر\\n\\n\\r\\n\\t\\t  $(document).ready(function() {\\t  \\r\\n\\t\\t\\t\\tif(/Android|webOS|iPhone|iPad|iPod|BlackBerry|IEMobile|Opera Mini/i.test(navigator.userAgent)) {\\t\\t\\t\\r\\n\\t\\t\\t\\t\\t\\r\\n\\t\\t\\t\\t}else{\\r\\n\\t\\t\\t\\t\\tTipped.create(\\'#shortUrlLink\\', \\'للنسخ (CTRL+C) اضغط على\\',{ showOn: \\'click\\', hideOn: \\'blur\\'});\\r\\n\\t\\t\\t\\t}\\t\\t\\r\\n\\t\\t  });\\r\\n\\t\\n\\n\\nWhatsapp\\nFacebook\\nTwitter\\nTelegram\\n\\n\\n\\n\\n\\n\\n\\n\\n\\n\\n\\r\\n\\t\\tvar site = \\'ar\\';\\r\\n\\t\\tvar pageId = \\'b19fdf09-fd28-4a91-9d5c-4094b2fa040d\\';\\r\\n\\t    var pagePath = \\'https://www.alarabiya.net/ar/politics/2017/10/15/أكلة-طير-.html\\';\\r\\n\\t\\tvar title = \\'أكلة.. طير!! \\';\\r\\n\\t\\tvar showComments = \\'true\\';\\r\\n\\t\\tvar allowComments = \\'true\\';\\t\\r\\n\\t\\tvar contextPath = \\'\\';\\r\\n\\t\\n\\n\\n\\n\\n\\n\\n\\n\\n\\n\\n\\n\\n\\nالبحث\\n\\n\\n\\n\\nتابعونا على\\n\\n\\n\\n\\n\\n\\n\\n\\n\\n\\n\\n\\n\\n\\n\\n\\n\\n\\n\\n\\n\\n\\n\\n\\n\\n\\n\\n\\n\\n\\n\\n\\n\\n\\n\\n\\n\\nآراء\\n\\n\\n\\n\\nسياسي\\nرياضي\\n\\n\\n\\n\\n\\n\\n\\n\\nذكرى لجوء الجنرال وأخطار الحرب\\nرضوان السيد\\n\\n\\n\\nمخاطر رفض الربط بين «نووي» إيران وسلوكها \\nإياد أبو شقرا\\n\\n\\n\\n  فلا فلحوا ولا فلح الغراب !  \\nمحمد آل الشيخ\\n\\n\\n\\nاليابان.. ماذا وراء الإنتخابات المبكرة\\nعبدالله المدني\\n\\n\\n\\nإخوانيان شاميان نحلا شعراً على لسان سيد قطب!\\nعلي العميم\\n\\n\\n\\nتشريع نظام مكافحة التحرش بعد سنين من الممانعة\\nحسناء عبدالعزيز القنيعـير\\n\\n\\n\\nالعجز الأممي في إنقاذ اليمن\\nصلاح الجودر\\n\\n\\n\\nأكلة.. طير!! \\nعباس الطرابيلي\\n\\n\\n\\nواشنطن والرأي العام الإيراني\\nعبد الرحمن الراشد\\n\\n\\n\\nزيارة الملك عبدالعزيز لكريم حكيموف.. ودموع خديجة خانم (2)\\nعبدالله الرشيد\\n\\n\\n\\nالجواهري وطالباني… خارج الطائفة والسياسة\\nرشيد الخيُّون\\n\\n\\n\\nكولومبيا... تراجيديا الفارك وكوميديا سكوبار\\nعبد الرحمن شلقم\\n\\n\\n\\nالمسيحيون أحبوا فيلم زياد الدويري! \\nحازم الأمين\\n\\n\\n\\n«مودي».. كفاح على الصعيد الاقتصادي\\nذكر الرحمن\\n\\n\\n\\nالنموذج السعودي - الإماراتي\\nفهد الدغيثر\\n\\n\\n\\nإعادة النظر في كل شيء: قصة الإنكار والاحتساب\\nيحيى الأمير\\n\\n\\n\\nفصول من القصة الكندية\\nخالص جلبي\\n\\n\\n\\nوا تعليماه\\nصالح الشايجي\\n\\n\\n\\nترمب في مواجهة نظام طهران\\nعبد الرحمن الراشد\\n\\n\\n\\nالمملكة وإعادة تشكيل المشرق العربي\\nرضوان السيد\\n\\n\\n\\n\\n\\nالمزيد\\n\\n\\n\\n\\n\\n\\n\\n\\nقبيلة الفرنجة!\\nطلال الحمود\\n\\n\\n\\nزلزال رياضي !\\nخالد السليمان\\n\\n\\n\\nالمنتخب.. والفخ المخملي\\nخميس البلوشي\\n\\n\\n\\nكوبر .. «المظلوم»\\nأسامة إسماعيل\\n\\n\\n\\nعقوبة جمعة سعيد في محلها\\nناصر العنزي\\n\\n\\n\\nصلاح.. نجم متألق\\nمحمد جميل عبدالقادر\\n\\n\\n\\nقصة عقد كوبر\\nمحمد الخولي\\n\\n\\n\\nبلنتيات تركي آل الشيخ\\nخلف الحربي\\n\\n\\n\\nالهيئة.. وإيقاف العبث المالي\\nسلطان السيف\\n\\n\\n\\nصح النوم يا بدري تصرفك مع متعب.. استفزازي ومتعنت \\nسمير عبدالعظيم\\n\\n\\n\\nدورينا قابل للتسويق\\nمحمد جاسم\\n\\n\\n\\nحبل النجاة\\nجاسب عبد المجيد\\n\\n\\n\\nخالد بن عبدالله بن عبدالعزيز\\nأحمد عدنان\\n\\n\\n\\nالحرب العالمية على الفساد!\\nمسلي آل معمر\\n\\n\\n\\nالشعب \"الكروي\" يريد\\nياسين معلومي\\n\\n\\n\\nعولمة الكرة والجمهور والتشجيع\\nأكرم القصاص\\n\\n\\n\\nبوطيب أفضل من أوباميانغ\\nمنعم بلمقدم\\n\\n\\n\\nلماذا كرة القدم «1»؟\\nحسن المستكاوي\\n\\n\\n\\nكائنات ثياب النوم !\\nخالد السليمان\\n\\n\\n\\nحقيقة.. التأهل أهم مما يليه\\nسعد المهدي\\n\\n\\n\\n\\n\\nالمزيد\\n\\n\\n\\n\\n\\n\\n\\r\\n                   شاركنا رأيك\\r\\n                    \\n\\nX\\n\\nتم إرسال تعليقك بنجاح, شكراً لتواصلك معنا.\\n\\n\\n\\n\\n\\nشاركنا رأيك\\n\\n\\n\\n\\n\\n\\n\\nالاسم * \\n\\n\\n\\n\\n\\n\\n\\nالبريد الالكتروني* \\n\\n\\n\\n\\n\\n\\n\\nبلد الإقامة \\n\\n\\n\\nاختر من القائمة...\\nالأردن\\nالإمارات العربية المتحدة\\nالبحرين\\nتونس\\nالجزائر\\nجزر القمر\\nجيبوتي\\nالسـعودية\\nالسودان\\nسوريا\\nالصومال\\nالعراق\\nعُمان\\nفلسطين\\nقطر\\nالكويت\\nلبنان\\nليبيا\\nمصر\\nالمغرب\\nموريتانيا\\nاليمن\\nإثيوبيا\\nالأرجنتين\\nأرمينيا\\nأريتريا\\nإسبانيا\\nأستراليا\\nاسكتلندا\\nأفغانستان\\nالإكوداور\\nألبانيا\\nألمانيا\\nأندونيسيا\\nأوروغواي\\nأوكرانيا\\nإيران\\nآيرلندا\\nآيرلندا الشمالية\\nآيسلندا\\nإيطاليا\\nباراغواي\\nباكستان\\nالبرازيل\\nالبرتغال\\nبلجيكا\\nبلغاريا\\nبنما\\nبورتوريكو\\nالبوسنة والهرسك\\nبولندا\\nبوليفيا\\nالبيرو\\nتايلند\\nتركيا\\nتشيلي\\nتنزانيا\\nجامايكا\\nجمهورية التشيك\\nجنوب إفريقيا\\nالدانمارك\\nروسيا\\nرومانيا\\nساحل العاج\\nسلطنة بروناي\\nالسلفادور\\nسنغافورة\\nالسنغال\\nالسويد\\nسويسرا\\nالصين\\nغانا\\nغرينلاند\\nغينيا\\nفرنسا\\nفنزويلا\\nفنلندا\\nقبرص\\nالكاميرون\\nكرواتيا\\nكندا\\nكوريا\\nكوستاريكا\\nكولومبيا\\nكينيا\\nلوكسمبورغ\\nمالطا\\nمالي\\nماليزيا\\nالمجر\\nالمكسيك\\nالمملكة المتحدة\\nموريشيوس\\nموناكو\\nالنرويج\\nالنمسا\\nنيجيريا\\nنيكاراغوا\\nنيوزيلندا\\nالهند\\nهولندا\\nهونغ كونغ\\nالولايات المتحدة\\nاليابان\\nاليونان\\nأخرى\\n\\nهذا الحقل إلزامي\\n\\n\\n\\n\\nنص الرسالة* \\n\\n\\n\\nالحد الاقصى\\xa0550\\xa0حرف\\n\\n\\n\\n\\n\\n \\n\\n\\n\\n\\n\\n\\n\\n\\n\\n\\n\\n\\n\\n\\n\\r\\n    var onloadCallback = function() {\\r\\n\\r\\n        grecaptcha.render(\\'recaptcha\\', {\\r\\n            \\'sitekey\\': \\'6Ld0rxMUAAAAAO0l5CQuPGQoJfy7-Q4bqlgM-0QI\\',\\r\\n            \\'callback\\': verifyCallback,\\r\\n            \\'theme\\': \\'light\\'\\r\\n        });\\r\\n    };\\r\\n    var verifyCallback = function(response) {};\\r\\n\\n\\n\\n\\r\\n    $(document).ready(function() {\\r\\n\\r\\n\\r\\n        $(\\'#feedback\\').popup({\\r\\n            pagecontainer: \\'.container\\',\\r\\n            transition: \\'all 0.3s\\'\\r\\n        });\\r\\n\\r\\n        $(\\'#contactForm\\').validate({\\r\\n            rules: {\\r\\n                name_field: {\\r\\n                    minlength: 2\\r\\n                },\\r\\n                message_field: {\\r\\n                    maxlength: 550\\r\\n                },\\r\\n                email_field: {\\r\\n                    required: true,\\r\\n                    email: true\\r\\n                }\\r\\n            }\\r\\n        });\\r\\n\\r\\n\\r\\n        $(\\'#contactForm\\').submit(function(event) {\\r\\n            event.preventDefault();\\r\\n\\r\\n            var resp = grecaptcha.getResponse();\\r\\n\\r\\n            if (resp.length == 0) {\\r\\n                alert(\"يرجى تحديد الخيار CAPTCHA\");\\r\\n                return false;\\r\\n            }\\r\\n\\r\\n            var _name, _email, _message;\\r\\n\\r\\n            _name = $(\"input[name=\\'name_field\\']\").val();\\r\\n            _email = $(\"input[name=\\'email_field\\']\").val();\\r\\n            _message = $(\"textarea[name=\\'message_field\\']\").val();\\r\\n\\r\\n            if (_name.length == 0 || _email.length == 0 ||_message.length == 0 || _message.length > 550  || !isEmail(_email)) {\\r\\n                return false;\\r\\n            }\\r\\n\\r\\n            $.post(\"https://kukurap.alarabiya.net/api/alarabiya_feedback\", {\\r\\n                    from_name: _name,\\r\\n                    from_email: _email,\\r\\n                    message: _message,\\r\\n                    response: resp\\r\\n                })\\r\\n                .done(function(data) {\\r\\n                    console.log(\"done\");\\r\\n                    close();\\r\\n                })\\r\\n                .fail(function(xhr, textStatus, errorThrown) {\\r\\n                    console.log(\"post fail \" + xhr.responseText);\\r\\n                    console.log(textStatus);\\r\\n                    close();\\r\\n                });\\r\\n        });\\r\\n\\r\\n\\r\\n        function isEmail(email) {\\r\\n            var pattern = /^([\\\\w-\\\\.]+)@((\\\\[[0-9]{1,3}\\\\.[0-9]{1,3}\\\\.[0-9]{1,3}\\\\.)|(([\\\\w-]+\\\\.)+))([a-zA-Z]{2,4}|[0-9]{1,3})(\\\\]?)$/;\\r\\n            return $.trim(email).match(pattern) ? true : false;\\r\\n        }\\r\\n\\r\\n        function close() {\\r\\n\\r\\n            $(\\'#contactForm\\').trigger(\\'reset\\');\\r\\n            if ($(\\'#feedback\\').hasClass(\"popup_content\")) {\\r\\n\\r\\n                $(\"#feedback\").removeClass(\"popup_content\").addClass(\"thank_you\");\\r\\n                $(\\'.thank_you\\').show();\\r\\n                $(\\'#mydiv\\').hide();\\r\\n            }\\r\\n        }\\r\\n    });\\r\\n\\n\\n\\n\\n\\n\\n\\n\\n\\r\\n\\t\\t\\tالصفحة الرئيسية\\r\\n\\t\\t\\t\\n\\n\\n\\n\\r\\n\\t\\t\\tأخبار العربية\\r\\n\\t\\t\\t\\r\\n\\t\\t\\n\\n\\nالشرق الأوسط\\n\\n\\nالعرب والعالم\\n\\n\\nالأسواق العربية\\n\\n\\nالرياضة\\n\\n\\n\\n\\nطب وصحة\\n\\n\\nثقافة وفن\\n\\n\\nآراء\\n\\n\\n\\n\\n\\r\\n\\t\\t\\tبرامج العربية\\r\\n\\t\\t\\t\\r\\n\\t\\t\\n\\n\\nبرامج العربية\\n\\n\\nفيديوالعربية\\n\\n\\n\\n\\n\\r\\n\\t\\t\\tخدمات العربية\\r\\n\\t\\t\\t\\r\\n\\t\\t\\n\\n\\n مزودو الخدمة\\n\\n\\nحول العربية.نت\\n\\n\\nترددات القناة\\n\\n\\nأعلن معنا\\n\\n\\n\\n\\nتطبيقات العربية\\n\\n\\nاتصل بنا\\n\\n\\nخدمة RSS\\n\\n\\nسياسة الخصوصية\\n\\n\\n\\n\\n\\r\\n\\t\\t\\tلغات أخرى\\r\\n\\t\\t\\t\\r\\n\\t\\t\\n\\n\\nEnglish\\n\\n\\nأردو\\n\\n\\nفارسي\\n\\n\\n\\n\\n\\r\\n\\t© جميع الحقوق محفوظة لقناة العربية \\r\\n\\t2017\\t\\r\\n\\n\\n\\n\\n\\n\\n\\n'"
      ]
     },
     "execution_count": 27,
     "metadata": {},
     "output_type": "execute_result"
    }
   ],
   "source": [
    "base = requests.get(\"https://www.alarabiya.net/ar/politics/2017/10/15/%D8%A3%D9%83%D9%84%D8%A9-%D8%B7%D9%8A%D8%B1-.html\")\n",
    "soup = bs(base.content, \"html.parser\")\n",
    "soup.text"
   ]
  },
  {
   "cell_type": "markdown",
   "metadata": {},
   "source": [
    "### Socialist Union of Popular Forces (Morocco)"
   ]
  },
  {
   "cell_type": "code",
   "execution_count": null,
   "metadata": {
    "collapsed": true
   },
   "outputs": [],
   "source": [
    "l =requests.get(\"http://usfp.org.ma/ar/%D8%A3%D9%86%D8%B4%D8%B7%D8%A9-%D8%AD%D8%B2%D8%A8%D9%8A%D8%A9/\")"
   ]
  },
  {
   "cell_type": "code",
   "execution_count": 26,
   "metadata": {},
   "outputs": [],
   "source": [
    "l = requests.get(\"http://usfp.org.ma/ar/%D8%A7%D9%84%D9%83%D8%A7%D8%AA%D8%A8-%D8%A7%D9%84%D8%A3%D9%88%D9%84-%D9%84%D9%84%D8%A5%D8%AA%D8%AD%D8%A7%D8%AF-%D8%A7%D9%84%D8%A5%D8%B4%D8%AA%D8%B1%D8%A7%D9%83%D9%8A-%D9%84%D9%84%D9%82%D9%88/\")\n",
    "soup = bs(l.content, \"html.parser\")"
   ]
  },
  {
   "cell_type": "code",
   "execution_count": 36,
   "metadata": {},
   "outputs": [
    {
     "data": {
      "text/plain": [
       "'\\n\\n\\n\\n\\n\\n\\n\\n\\n\\n\\n\\n\\nأنشطة حزبية - الاتحاد الاشتراكي للقوات الشعبية\\n.ms-loading-container .ms-loading, .ms-slide .ms-slide-loading { background-image: none !important; background-color: transparent !important; box-shadow: none !important; } #header .logo { max-width: 350px; } @media (min-width: 1170px) { #header .logo { max-width: 350px; } } @media (max-width: 991px) { #header .logo { max-width: 110px; } } @media (max-width: 767px) { #header .logo { max-width: 110px; } } #header.sticky-header .logo { max-width: 100px; }\\n\\n\\n\\n\\n\\n\\n\\n\\n\\n{\"@context\":\"http:\\\\/\\\\/schema.org\",\"@type\":\"WebSite\",\"@id\":\"#website\",\"url\":\"http:\\\\/\\\\/usfp.org.ma\\\\/ar\\\\/\",\"name\":\"\\\\u0627\\\\u0644\\\\u0627\\\\u062a\\\\u062d\\\\u0627\\\\u062f \\\\u0627\\\\u0644\\\\u0627\\\\u0634\\\\u062a\\\\u0631\\\\u0627\\\\u0643\\\\u064a \\\\u0644\\\\u0644\\\\u0642\\\\u0648\\\\u0627\\\\u062a \\\\u0627\\\\u0644\\\\u0634\\\\u0639\\\\u0628\\\\u064a\\\\u0629\",\"potentialAction\":{\"@type\":\"SearchAction\",\"target\":\"http:\\\\/\\\\/usfp.org.ma\\\\/ar\\\\/?s={search_term_string}\",\"query-input\":\"required name=search_term_string\"}}\\n\\n\\n\\n\\n\\nvar $TS_VCSC_Lightbox_Activated = true;var $TS_VCSC_Lightbox_Thumbs = \"bottom\";var $TS_VCSC_Lightbox_Thumbsize = 50;var $TS_VCSC_Lightbox_Animation = \"random\";var $TS_VCSC_Lightbox_Captions = \"data-title\";var $TS_VCSC_Lightbox_Closer = true;var $TS_VCSC_Lightbox_Durations = 5000;var $TS_VCSC_Lightbox_Share = false;var $TS_VCSC_Lightbox_LoadAPIs = true;var $TS_VCSC_Lightbox_Social = \"fb,tw,gp,pin\";var $TS_VCSC_Lightbox_NoTouch = false;var $TS_VCSC_Lightbox_BGClose = true;var $TS_VCSC_Lightbox_NoHashes = true;var $TS_VCSC_Lightbox_Keyboard = true;var $TS_VCSC_Lightbox_FullScreen = true;var $TS_VCSC_Lightbox_Zoom = true;var $TS_VCSC_Lightbox_FXSpeed = 300;var $TS_VCSC_Lightbox_Scheme = \"dark\";var $TS_VCSC_Lightbox_Backlight = \"#ffffff\";var $TS_VCSC_Lightbox_UseColor = false;var $TS_VCSC_Lightbox_Overlay = \"#000000\";var $TS_VCSC_Lightbox_Background = \"\";var $TS_VCSC_Lightbox_Repeat = \"no-repeat\";var $TS_VCSC_Lightbox_Noise = \"\";var $TS_VCSC_Lightbox_CORS = false;var $TS_VCSC_Lightbox_Tapping = true;var $TS_VCSC_Lightbox_ScrollBlock = \"css\";var $TS_VCSC_Lightbox_LastScroll = 0;var $TS_VCSC_Hammer_ReleaseNew = true;var $TS_VCSC_Countdown_DaysLabel = \"Days\";var $TS_VCSC_Countdown_DayLabel = \"Day\";var $TS_VCSC_Countdown_HoursLabel = \"Hours\";var $TS_VCSC_Countdown_HourLabel = \"Hour\";var $TS_VCSC_Countdown_MinutesLabel = \"Minutes\";var $TS_VCSC_Countdown_MinuteLabel = \"Minute\";var $TS_VCSC_Countdown_SecondsLabel = \"Seconds\";var $TS_VCSC_Countdown_SecondLabel = \"Second\";var $TS_VCSC_SmoothScrollActive = false; \\n\\t\\t\\twindow._wpemojiSettings = {\"baseUrl\":\"https:\\\\/\\\\/s.w.org\\\\/images\\\\/core\\\\/emoji\\\\/2.2.1\\\\/72x72\\\\/\",\"ext\":\".png\",\"svgUrl\":\"https:\\\\/\\\\/s.w.org\\\\/images\\\\/core\\\\/emoji\\\\/2.2.1\\\\/svg\\\\/\",\"svgExt\":\".svg\",\"source\":{\"concatemoji\":\"http:\\\\/\\\\/usfp.org.ma\\\\/ar\\\\/wp-includes\\\\/js\\\\/wp-emoji-release.min.js?ver=4.7.7\"}};\\n\\t\\t\\t!function(a,b,c){function d(a){var b,c,d,e,f=String.fromCharCode;if(!k||!k.fillText)return!1;switch(k.clearRect(0,0,j.width,j.height),k.textBaseline=\"top\",k.font=\"600 32px Arial\",a){case\"flag\":return k.fillText(f(55356,56826,55356,56819),0,0),!(j.toDataURL().length<3e3)&&(k.clearRect(0,0,j.width,j.height),k.fillText(f(55356,57331,65039,8205,55356,57096),0,0),b=j.toDataURL(),k.clearRect(0,0,j.width,j.height),k.fillText(f(55356,57331,55356,57096),0,0),c=j.toDataURL(),b!==c);case\"emoji4\":return k.fillText(f(55357,56425,55356,57341,8205,55357,56507),0,0),d=j.toDataURL(),k.clearRect(0,0,j.width,j.height),k.fillText(f(55357,56425,55356,57341,55357,56507),0,0),e=j.toDataURL(),d!==e}return!1}function e(a){var c=b.createElement(\"script\");c.src=a,c.defer=c.type=\"text/javascript\",b.getElementsByTagName(\"head\")[0].appendChild(c)}var f,g,h,i,j=b.createElement(\"canvas\"),k=j.getContext&&j.getContext(\"2d\");for(i=Array(\"flag\",\"emoji4\"),c.supports={everything:!0,everythingExceptFlag:!0},h=0;h<i.length;h++)c.supports[i[h]]=d(i[h]),c.supports.everything=c.supports.everything&&c.supports[i[h]],\"flag\"!==i[h]&&(c.supports.everythingExceptFlag=c.supports.everythingExceptFlag&&c.supports[i[h]]);c.supports.everythingExceptFlag=c.supports.everythingExceptFlag&&!c.supports.flag,c.DOMReady=!1,c.readyCallback=function(){c.DOMReady=!0},c.supports.everything||(g=function(){c.readyCallback()},b.addEventListener?(b.addEventListener(\"DOMContentLoaded\",g,!1),a.addEventListener(\"load\",g,!1)):(a.attachEvent(\"onload\",g),b.attachEvent(\"onreadystatechange\",function(){\"complete\"===b.readyState&&c.readyCallback()})),f=c.source||{},f.concatemoji?e(f.concatemoji):f.wpemoji&&f.twemoji&&(e(f.twemoji),e(f.wpemoji)))}(window,document,window._wpemojiSettings);\\n\\t\\t\\n\\nimg.wp-smiley,\\nimg.emoji {\\n\\tdisplay: inline !important;\\n\\tborder: none !important;\\n\\tbox-shadow: none !important;\\n\\theight: 1em !important;\\n\\twidth: 1em !important;\\n\\tmargin: 0 .07em !important;\\n\\tvertical-align: -0.1em !important;\\n\\tbackground: none !important;\\n\\tpadding: 0 !important;\\n}\\n\\n\\n\\n\\n\\n\\n\\n\\n\\n\\n\\n\\n\\n\\n\\n\\n\\n\\n\\n\\n\\n\\n\\n\\n\\n\\n\\n\\n\\n\\n\\n\\n\\n\\n\\n\\n\\n\\n\\n\\n\\n\\n\\n\\n\\n\\n\\nvar ms_grabbing_curosr=\\'http://usfp.org.ma/ar/wp-content/plugins/masterslider/public/assets/css/common/grabbing.cur\\',ms_grab_curosr=\\'http://usfp.org.ma/ar/wp-content/plugins/masterslider/public/assets/css/common/grab.cur\\';\\n\\n\\n\\t.svc_post_grid_list_container{ display:none;}\\n\\t#loader {background-image: url(\"http://usfp.org.ma/ar/wp-content/plugins/svc-post-grid-addon/inc/../addons/post-grid/css/loader.GIF\");}\\n\\t\\n\\n/*Menu a droit */\\r\\n\\r\\n.widget > div > ul li > a, .widget > ul li > a {\\r\\n    color: #666666;\\r\\n    font-size: 20px;\\r\\n}\\r\\n\\r\\n.current_page_item{\\r\\n    background: #E20040;\\r\\n}\\r\\n.current_page_item > a{\\r\\n    color:#fff !important;\\r\\n    \\r\\n}\\r\\n\\r\\n.widget .widgettitle, .widget .widget-title {\\r\\n    margin-bottom: 15px;\\r\\n    font-size: 1.6429em;\\r\\n    margin-top: 0;\\r\\n    letter-spacing: normal;\\r\\n}\\r\\n\\r\\n\\r\\n.newscodes.nc-type-news-list ul.newscodes-wrap li .nc-figure-wrapper {\\r\\n    float: right;\\r\\n    width: 100%;\\r\\n    max-width: 40%;\\r\\n    min-width: 160px;\\r\\n    margin-left: 20px;\\r\\n} .wpb_animate_when_almost_visible { opacity: 1; }\\n\\r\\n        \\r\\n  (function(i,s,o,g,r,a,m){i[\\'GoogleAnalyticsObject\\']=r;i[r]=i[r]||function(){\\r\\n  (i[r].q=i[r].q||[]).push(arguments)},i[r].l=1*new Date();a=s.createElement(o),\\r\\n  m=s.getElementsByTagName(o)[0];a.async=1;a.src=g;m.parentNode.insertBefore(a,m)\\r\\n  })(window,document,\\'script\\',\\'https://www.google-analytics.com/analytics.js\\',\\'ga\\');\\r\\n\\r\\n  ga(\\'create\\', \\'UA-84668941-1\\', \\'auto\\');\\r\\n  ga(\\'send\\', \\'pageview\\');\\r\\n\\r\\n    \\n\\n\\n\\n\\n\\n\\n\\n\\n\\n\\n\\nالاتصال بالحزب\\nالالتحاق بالحزب\\nAR\\nFR\\nES\\nEN\\n \\n\\n\\n\\n\\n\\n \\n \\n \\n\\n\\n\\n\\n\\n\\n\\nالرئيسية\\n\\n\\nالمستجدات\\n\\n\\nالحزب\\n\\n\\nالخزانة الوثائقية\\n\\n\\nالخزانة الوسائطية\\n\\n\\nفضاء التواصل\\n\\n\\n \\n\\n\\n\\n\\n\\n\\nمغاربة العالم\\nسياسة\\nمجتمع\\nإقتصاد\\nفن وثقافة\\n \\n\\n\\n\\n\\n\\n\\n\\n\\n\\nأنشطة حزبية\\n\\n\\n\\n \\n\\n\\n\\n\\n\\n\\n\\nأنشطة حزبيةadmin2016-08-27T15:01:57+00:00\\n\\n\\n\\n\\n\\n\\n\\n\\n\\n\\n\\n\\t\\t\\tفي الذكرى 52 لعريس الشهداء\\t\\t\\t\\t\\t\\n\\n\\n\\nعن جريدة الاتحاد الاشتراكي اختارت الكتابة الإقليمية لحزب الاتحاد الاشتراكي للقوات الشعبية أن تحيي الذكرى 52 لاختطاف المهدي بنبركة على إيقاع مقاربات هامة حول الدخول السياسي والاجتماعي، في ندوة تحت عنوان «الدخول الاجتماعي والسياسي: مقاربات وآفاق»، سيرها باسم الكتابة الإقليميةالتفاصيل\\n\\n\\n\\n\\n\\n\\n\\n\\n\\t\\t\\tالفريق الاشتراكي يضع الملف الاجتماعي ضمن أولوياته ويتدارس التعديلات في ورشة عمل بالرباط\\t\\t\\t\\t\\t\\n\\n\\n\\nعن جريدة الاتحاد الاشتراكي تداول الفريق الاشتراكي بالدرس والتحليل مشروع قانون المالية 2018، في ورشة مغلقة أول أمس الأحد 29/10/2017 بالرباط. وتطرقت المداخلات، التي توزعت بين عروض، تقدم بها كل من الأساتذة الخبراء في القانون والاقتصاد والمالية، طارق المالكي وبنيونسالتفاصيل\\n\\n\\n\\n\\n\\n\\n\\n\\n\\t\\t\\t«الكاتب الأول للإتحاد الإشتراكي للقوات الشعبية إدريس لشكر،يرسم ملامح خريطة تنظيمية جديدة لإستعادة التوهج الحزبي بالمنطقة »\\t\\t\\t\\t\\t\\n\\n\\n\\n\\xa0 في لقائه بأعضاء الكتابتين الإقليميتين بكل من أكَادير إداوتنان وإنزكَان أيت ملول،مساء يوم الثلاثاء 17أكتوبر2017،أعطى الكاتب الأول للإتحاد الإشتراكي للقوات الشعبية الأخ إدريس لشكر،انطلاقة تنظيمية جديدة بهدف تفعيل توصيات المؤتمرالوطني العاشرمن جهة واستعادة التوهج الحزبي سياسيا وتنظيميا بهذه القلعالتفاصيل\\n\\n\\n\\n\\n\\n\\n\\n\\n\\t\\t\\tالكتابة الإقليمية بالرباط  تنظم ندوة حول “الدخول الاجتماعي والسياسي: أسئلة ومقاربات”\\t\\t\\t\\t\\t\\n\\n\\n\\n\\n\\n\\n\\n\\n\\n\\n\\n\\t\\t\\tالكتابة الإقليمية بالشاون تندد بالمضايقات والشكايات الكيدية ضد مناضلي الإقليم\\t\\t\\t\\t\\t\\n\\n\\n\\nعبرت الكتابة الإقليمية للاتحاد الاشتراكي للقوات الشعبية بالشاون عن قلقها البالغ من عملية توزيع المنح على الطالبات والطلبة الجدد الملتحقين بمختلف المؤسسات الجامعية، وهي عملية يحاول الجميع التنصل من نتائجها، بسبب حالة التوتر التي خلفتها لدى أسر الطلبة ولدى الرأيالتفاصيل\\n\\n\\n\\n\\n\\n\\n\\n\\n\\t\\t\\tلقاء حواري مفتوح مع الاخ محمد بنعبد القادر\\t\\t\\t\\t\\t\\n\\n\\n\\n\\xa0تنظم الكتابة الاقليمية لحزب الاتحاد الاشتراكي بمراكش، لقاء تواصليا مفتوحا بحضور عضو المكتب السياسي والوزير المنتدب لدى رئيس الحكومة المكلف باصلاح الادارة محمد بنعبد القادر اليوم على الساعة السابعة مساء بقاعة الاجتماعات التابعة للمجلس الجماعي لمراكش\\n\\n\\n\\n\\n\\n\\n\\n\\n\\t\\t\\tالوزير الاتحادي محمد بنعبد القادر : لابد من العدالة الأجرية في الوظيفة العمومية و لا إصلاح بدونها\\t\\t\\t\\t\\t\\n\\n\\n\\nالتحرير بريس ـ سليم السالمي قال محمد بنعبد القادر الوزير اللمكلف باصلاح الادارة والوظيفة العمومية ان فئة المصترفين كانت \\xa0من بين الفئات الاولى التي استقبلتها في الوزارة واستمعت لها وتفهمت عدالة ملفهم. واضاف بنعبد القادر في لقاء تواصلي بابي الجعدالتفاصيل\\n\\n\\n\\n\\n\\n\\n\\n\\n\\t\\t\\tالكاتب الأول يجتمع بالفريق الاشتراكي بالبرلمان ويدعو إلى تكثيف الجهود في مراقبة السياسات العمومية ووضع مشاريع قوانين تنظيمية كفيلة\\t\\t\\t\\t\\t\\n\\n\\n\\nبعد الاستماع، صحبة القيادة الحزبية بمقر الحزب بالرباط ، لمضامين الخطاب الملكي الذي ألقاء جلالة الملك محمد السادس، يوم الجمعة 13 أكتوبر 2017، بمناسبة افتتاح الدورة الأولى للسنة التشريعية الثانية من الولاية العاشرة، انتقل الكاتب الأول للاتحاد الاشتراكي للقوات الشعبية،التفاصيل\\n\\n\\n\\n\\n\\n\\n\\n\\n\\t\\t\\tبنعتيق يجري مباحثات مع سفير فرنسا بالرباط\\t\\t\\t\\t\\t\\n\\n\\n\\nعن جريدة الاتحاد الاشتراكي استقبل عبد الكريم بنعتيق الوزير المنتدب لدى وزير الشؤون الخارجية والتعاون الدولي المكلف بالمغاربة المقيمين بالخارج وشؤون الهجرة، يوم الثلاثاء 10 أكتوبر 2017 بمقر الوزارة «جان فرانسوا جيرو» سفير الجمهورية الفرنسية المعتمد بالرباط . وقد استعرضالتفاصيل\\n\\n\\n\\n\\n\\n\\n\\n\\n\\t\\t\\tتواصل فعاليات الحملة الانتخابية الاتحادية بأكادير اداوتنان وبني ملال\\t\\t\\t\\t\\t\\n\\n\\n\\nتستمر فعاليات الحملة النظيفة والمميزة التي يخوضها الأخوان سيدي علي ماء العينين و مصطفى حتيم، بمناسبة الانتخابات الجزئية بدائرتي أكادير اداوتنان وبني ملال، وعرفت الحملة إقبالا من طرف المواطنين والمناضلين، وتركزت في اكادير، بقيادة الإطار الشاب ماء العينين، بالاعتماد علىالتفاصيل\\n\\n\\n\\nالصفحة 1 من 38\\n1\\n2\\n3\\n…\\n37\\n38\\n>\\n\\n\\n\\n\\n\\n\\n\\n\\nالمستجداتأنشطة حزبية\\nبلاغات حزبية\\nآراء\\n \\n\\n\\n\\n\\n\\n\\n\\n\\n                                الاتحاد الاشتراكي للقوات الشعبية - جميع الحقوق محفوظة © 2016            \\n\\n\\n\\n\\n\\n\\n\\xa0\\n\\n\\n\\n\\n\\n\\n\\n\\n\\n\\nمغاربة العالم\\nسياسة\\nمجتمع\\nإقتصاد\\nفن وثقافة\\nالاتصال بالحزب\\nالالتحاق بالحزب\\nAR\\nFR\\nES\\nEN\\n\\n\\n\\n\\n/* <![CDATA[ */\\nvar wpcf7 = {\"apiSettings\":{\"root\":\"http:\\\\/\\\\/usfp.org.ma\\\\/ar\\\\/wp-json\\\\/contact-form-7\\\\/v1\",\"namespace\":\"contact-form-7\\\\/v1\"},\"recaptcha\":{\"messages\":{\"empty\":\"Please verify that you are not a robot.\"}}};\\n/* ]]> */\\n\\n\\n\\n/* <![CDATA[ */\\nvar nc = {\"ajax\":\"http:\\\\/\\\\/usfp.org.ma\\\\/ar\\\\/wp-admin\\\\/admin-ajax.php\",\"instances\":{\"nc-post-59fdf1a0b16b3\":{\"args\":{\"post_type\":\"post\",\"post_status\":\"publish\",\"ignore_sticky_posts\":1,\"orderby\":\"date\",\"order\":\"desc\",\"posts_per_page\":-1,\"paged\":1,\"offset\":\"\"},\"atts\":{\"type\":\"news-list\",\"style\":\"\",\"ajax\":\"\",\"columns\":\"1\",\"post_type\":\"post\",\"post_status\":\"publish\",\"posts_per_page\":\"10\",\"posts_per_column\":\"1\",\"offset\":\"\",\"order\":\"date\",\"orderby\":\"DESC\",\"excerpt_length\":\"40\",\"excerpt_more\":\"\",\"image_ratio\":\"4-3\",\"image_size\":\"large\",\"pagination\":\"true\",\"load_more\":\"\",\"show_date\":\"\",\"show_time\":\"\",\"show_taxonomy\":\"\",\"which_taxonomy\":\"\",\"show_author\":\"\",\"show_format\":\"\",\"title_cut\":\"\",\"title_tag\":\"h3\",\"filters\":\"category\",\"filter_terms\":\"8\",\"filter_relation\":\"OR\",\"meta_keys\":\"\",\"meta_values\":\"\",\"meta_compares\":\"\",\"meta_types\":\"\",\"meta_relation\":\"OR\",\"post_in\":\"\",\"post_notin\":\"\",\"marquee_direction\":\"right\",\"ticker_visible\":\"3\",\"ticker_direction\":\"up\",\"section_title\":\"Title\",\"unique_id\":\"nc-post-59fdf1a0b16b3\"}}}};\\n/* ]]> */\\n\\n\\n\\n\\n\\n\\n\\n\\n\\n/* <![CDATA[ */\\nvar js_porto_vars = {\"rtl\":\"1\",\"ajax_url\":\"http:\\\\/\\\\/usfp.org.ma\\\\/ar\\\\/wp-admin\\\\/admin-ajax.php\",\"change_logo\":\"1\",\"post_zoom\":\"1\",\"portfolio_zoom\":\"1\",\"member_zoom\":\"1\",\"page_zoom\":\"1\",\"container_width\":\"1170\",\"grid_gutter_width\":\"20\",\"show_sticky_header\":\"1\",\"show_sticky_header_tablet\":\"1\",\"show_sticky_header_mobile\":\"1\",\"request_error\":\"The requested content cannot be loaded.<br\\\\/>Please try again later.\",\"ajax_loader_url\":\"\\\\/\\\\/usfp.org.ma\\\\/ar\\\\/wp-content\\\\/themes\\\\/usfp\\\\/images\\\\/ajax-loader@2x.gif\",\"category_ajax\":\"\",\"prdctfltr_ajax\":\"\",\"show_minicart\":\"1\",\"slider_loop\":\"1\",\"slider_autoplay\":\"1\",\"slider_speed\":\"5000\",\"slider_nav\":\"\",\"slider_nav_hover\":\"1\",\"slider_margin\":\"\",\"slider_dots\":\"1\",\"slider_animatein\":\"\",\"slider_animateout\":\"\",\"product_thumbs_count\":\"4\",\"product_zoom\":\"1\",\"product_zoom_mobile\":\"1\",\"product_image_popup\":\"1\",\"zoom_type\":\"inner\",\"zoom_scroll\":\"1\",\"zoom_lens_size\":\"200\",\"zoom_lens_shape\":\"square\",\"zoom_contain_lens\":\"1\",\"zoom_lens_border\":\"1\",\"zoom_border_color\":\"#888888\",\"zoom_border\":\"0\",\"screen_lg\":\"1190\"};\\n/* ]]> */\\n\\n\\n\\n\\n                            jQuery(document).ready(function(){});                    \\n\\n'"
      ]
     },
     "execution_count": 36,
     "metadata": {},
     "output_type": "execute_result"
    }
   ],
   "source": [
    "soup.text"
   ]
  },
  {
   "cell_type": "code",
   "execution_count": 40,
   "metadata": {},
   "outputs": [
    {
     "name": "stdout",
     "output_type": "stream",
     "text": [
      "admin\n"
     ]
    }
   ],
   "source": [
    "start_pattern = re.compile(\"admin|nusfp|fadoua\")\n",
    "print(start_pattern.search(soup.text).group(0))"
   ]
  },
  {
   "cell_type": "code",
   "execution_count": null,
   "metadata": {},
   "outputs": [
    {
     "name": "stdout",
     "output_type": "stream",
     "text": [
      "1\n"
     ]
    }
   ],
   "source": [
    "# Data\n",
    "\n",
    "datepattern = re.compile('\\d+-\\d+-\\d+')\n",
    "start_pattern = re.compile(\"admin|nusfp|fadoua\")\n",
    "# Variable to store meta information\n",
    "meta = []\n",
    "index = 0\n",
    "file_path = \"/home/benji/Capstone Project/Data/Non-Violent/Socialist Union Morocco/\"\n",
    "for i in range(1, 38):\n",
    "\n",
    "    base_page = requests.get(\"http://usfp.org.ma/ar/%D8%A3%D9%86%D8%B4%D8%B7%D8%A9-%D8%AD%D8%B2%D8%A8%D9%8A%D8%A9/page/{0}/\".format(i))\n",
    "    soup = bs(base_page.content, \"html.parser\")\n",
    "    div = soup.find_all(\"div\", {\"class\":\"nc-figure-wrapper\"})\n",
    "    print(i)\n",
    "    for elem in div:\n",
    "        text_url = str(elem)\n",
    "        url = text_url[text_url.index(\"href\"):text_url.index(\"></a>\")]\n",
    "        actual_page = requests.get(url[6:-2])\n",
    "        soup2 = bs(actual_page.content, \"html.parser\")\n",
    "        text = soup2.text\n",
    "\n",
    "        try:\n",
    "            match = start_pattern.search(text).group(0)\n",
    "            i1 = text.index(match)\n",
    "            i2 = text.index(\"شارك\") \n",
    "            actual_text = text[i1:i2]\n",
    "            date = datepattern.findall(actual_text)[0]\n",
    "            actual_text = actual_text[31:]\n",
    "            with open(file_path + \"Socialist Union Morocco-g-{0}d{1}.txt\".format(index, date), \"w\", encoding = \"utf-8\") as file:\n",
    "                file.write(actual_text)\n",
    "                file.close()\n",
    "            meta.append(\"Socialist Union Moracco-g-{0}d{1}.txt\".format(index, date) + \": \" + url)\n",
    "            index += 1\n",
    "\n",
    "        except ValueError:\n",
    "            print(url[6:-2])"
   ]
  },
  {
   "cell_type": "code",
   "execution_count": 18,
   "metadata": {},
   "outputs": [
    {
     "ename": "FileNotFoundError",
     "evalue": "[Errno 2] No such file or directory: 'home/benji/Capstone Project/DataNon-Violent/Socialist Union Moracco/Socialist Union Moracco-metadata.txt'",
     "output_type": "error",
     "traceback": [
      "\u001b[0;31m---------------------------------------------------------------------------\u001b[0m",
      "\u001b[0;31mFileNotFoundError\u001b[0m                         Traceback (most recent call last)",
      "\u001b[0;32m<ipython-input-18-bdf2831e8eb5>\u001b[0m in \u001b[0;36m<module>\u001b[0;34m()\u001b[0m\n\u001b[0;32m----> 1\u001b[0;31m \u001b[0;32mwith\u001b[0m \u001b[0mopen\u001b[0m\u001b[0;34m(\u001b[0m\u001b[0mbase_url\u001b[0m \u001b[0;34m+\u001b[0m \u001b[0;34m\"Non-Violent/Socialist Union Moracco/Socialist Union Moracco-metadata.txt\"\u001b[0m\u001b[0;34m,\u001b[0m \u001b[0;34m'w'\u001b[0m\u001b[0;34m,\u001b[0m \u001b[0mencoding\u001b[0m \u001b[0;34m=\u001b[0m \u001b[0;34m'utf-8'\u001b[0m\u001b[0;34m)\u001b[0m \u001b[0;32mas\u001b[0m \u001b[0mfile\u001b[0m\u001b[0;34m:\u001b[0m\u001b[0;34m\u001b[0m\u001b[0m\n\u001b[0m\u001b[1;32m      2\u001b[0m     \u001b[0mfile\u001b[0m\u001b[0;34m.\u001b[0m\u001b[0mwrite\u001b[0m\u001b[0;34m(\u001b[0m\u001b[0;34m\"\\n\"\u001b[0m\u001b[0;34m.\u001b[0m\u001b[0mjoin\u001b[0m\u001b[0;34m(\u001b[0m\u001b[0mmeta\u001b[0m\u001b[0;34m)\u001b[0m\u001b[0;34m)\u001b[0m\u001b[0;34m\u001b[0m\u001b[0m\n\u001b[1;32m      3\u001b[0m     \u001b[0mfile\u001b[0m\u001b[0;34m.\u001b[0m\u001b[0mclose\u001b[0m\u001b[0;34m(\u001b[0m\u001b[0;34m)\u001b[0m\u001b[0;34m\u001b[0m\u001b[0m\n",
      "\u001b[0;31mFileNotFoundError\u001b[0m: [Errno 2] No such file or directory: 'home/benji/Capstone Project/DataNon-Violent/Socialist Union Moracco/Socialist Union Moracco-metadata.txt'"
     ]
    }
   ],
   "source": [
    "with open(base_url + \"Non-Violent/Socialist Union Morocco/Socialist Union Moracco-metadata.txt\", 'w', encoding = 'utf-8') as file:\n",
    "    file.write(\"\\n\".join(meta))\n",
    "    file.close()"
   ]
  }
 ],
 "metadata": {
  "kernelspec": {
   "display_name": "Python 3",
   "language": "python",
   "name": "python3"
  }
 },
 "nbformat": 4,
 "nbformat_minor": 2
}
